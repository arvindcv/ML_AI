{
 "cells": [
  {
   "cell_type": "markdown",
   "id": "3ba10159",
   "metadata": {},
   "source": [
    "# <span style=\"color: blue;\">Model creation and execution with Count Vectorizer with Lemmetizer Applied and Logistic Regression :-</span>"
   ]
  },
  {
   "cell_type": "markdown",
   "id": "b4c71db4",
   "metadata": {},
   "source": [
    "# <span style=\"color: green;\">Required Imports to run the model</span>"
   ]
  },
  {
   "cell_type": "code",
   "execution_count": 39,
   "id": "acbac782",
   "metadata": {},
   "outputs": [
    {
     "data": {
      "text/html": [
       "<script>\n",
       "    code_show_err=false; \n",
       "    function code_toggle_err() {\n",
       "     if (code_show_err){\n",
       "     $('div.output_stderr').hide();\n",
       "     } else {\n",
       "     $('div.output_stderr').show();\n",
       "     }\n",
       "     code_show_err = !code_show_err\n",
       "    } \n",
       "    $( document ).ready(code_toggle_err);\n",
       "    </script>\n",
       "    To toggle on/off output_stderr, click <a href=\"javascript:code_toggle_err()\">here</a>."
      ],
      "text/plain": [
       "<IPython.core.display.HTML object>"
      ]
     },
     "execution_count": 39,
     "metadata": {},
     "output_type": "execute_result"
    }
   ],
   "source": [
    "from IPython.display import HTML\n",
    "HTML('''<script>\n",
    "    code_show_err=false; \n",
    "    function code_toggle_err() {\n",
    "     if (code_show_err){\n",
    "     $('div.output_stderr').hide();\n",
    "     } else {\n",
    "     $('div.output_stderr').show();\n",
    "     }\n",
    "     code_show_err = !code_show_err\n",
    "    } \n",
    "    $( document ).ready(code_toggle_err);\n",
    "    </script>\n",
    "    To toggle on/off output_stderr, click <a href=\"javascript:code_toggle_err()\">here</a>.''')"
   ]
  },
  {
   "cell_type": "code",
   "execution_count": 40,
   "id": "e5b9c540",
   "metadata": {},
   "outputs": [],
   "source": [
    "import pandas as pd\n",
    "import time\n",
    "import matplotlib.pyplot as plt\n",
    "import pandas as pd\n",
    "import seaborn as sns\n",
    "import matplotlib.pyplot as plt\n",
    "import numpy as np\n",
    "import nltk"
   ]
  },
  {
   "cell_type": "code",
   "execution_count": 41,
   "id": "8b993ba4",
   "metadata": {},
   "outputs": [],
   "source": [
    "from sklearn.feature_extraction.text import TfidfVectorizer\n",
    "from sklearn.pipeline import Pipeline \n",
    "from sklearn.model_selection import train_test_split, GridSearchCV\n",
    "from sklearn.linear_model import LogisticRegression\n",
    "from sklearn.feature_extraction.text import CountVectorizer, TfidfVectorizer\n",
    "from sklearn.naive_bayes import MultinomialNB\n",
    "from sklearn.tree import DecisionTreeClassifier\n",
    "from sklearn.metrics import accuracy_score, roc_auc_score\n",
    "from sklearn.metrics import confusion_matrix\n",
    "from sklearn import metrics\n",
    "from nltk.stem import PorterStemmer, WordNetLemmatizer\n",
    "from nltk import word_tokenize\n",
    "from imblearn.over_sampling import SMOTE\n",
    "from sklearn.feature_extraction.text import TfidfTransformer\n",
    "from sklearn.naive_bayes import MultinomialNB"
   ]
  },
  {
   "cell_type": "code",
   "execution_count": 42,
   "id": "2d3860e3",
   "metadata": {},
   "outputs": [],
   "source": [
    "pd.set_option('display.max_colwidth', None)"
   ]
  },
  {
   "cell_type": "markdown",
   "id": "97f2d3fa",
   "metadata": {},
   "source": [
    "# <span style=\"color: green;\">Helper methods imported from helper function file</span>"
   ]
  },
  {
   "cell_type": "code",
   "execution_count": 43,
   "id": "593ba495",
   "metadata": {},
   "outputs": [],
   "source": [
    "#from ipynb.fs.full.function import stemmer\n",
    "#from ipynb.fs.full.function import lemmetizer\n",
    "from ipynb.fs.full.function import print_model_data\n",
    "from ipynb.fs.full.function import model_execute\n",
    "from ipynb.fs.full.function import stemm_data\n",
    "from ipynb.fs.full.function import lemm_data\n",
    "from ipynb.fs.full.function import class_balancer\n",
    "from ipynb.fs.full.function import bar_plot\n",
    "from ipynb.fs.full.function import get_data\n",
    "from ipynb.fs.full.function import remove_punctuation_func\n",
    "from ipynb.fs.full.function import data_cleanup_for_balancer_lemmetizer\n",
    "from ipynb.fs.full.function import get_live_tweets"
   ]
  },
  {
   "cell_type": "markdown",
   "id": "7f0f9283",
   "metadata": {},
   "source": [
    "# <span style=\"color: green;\">Pipe created for Count Vectorizer and Logistic Regression model</span>"
   ]
  },
  {
   "cell_type": "code",
   "execution_count": 44,
   "id": "2c808d43",
   "metadata": {},
   "outputs": [],
   "source": [
    "cvect_lr_pipe=Pipeline([('transformer', CountVectorizer(stop_words='english')),\n",
    "                       ('model', LogisticRegression(max_iter=1000))])"
   ]
  },
  {
   "cell_type": "code",
   "execution_count": 45,
   "id": "328a28eb",
   "metadata": {},
   "outputs": [
    {
     "data": {
      "image/png": "[encoded data removed]",
      "text/plain": [
       "<Figure size 432x288 with 1 Axes>"
      ]
     },
     "metadata": {
      "needs_background": "light"
     },
     "output_type": "display_data"
    }
   ],
   "source": [
    "X,y=get_data()\n",
    "X\n",
    "bar_plot(y)"
   ]
  },
  {
   "cell_type": "code",
   "execution_count": 46,
   "id": "b1608a89",
   "metadata": {},
   "outputs": [],
   "source": [
    "X_train,X_test,y_train,y_test=train_test_split(X['lemmetizer'],y,test_size=0.3,random_state=42)"
   ]
  },
  {
   "cell_type": "markdown",
   "id": "7b6fa563",
   "metadata": {},
   "source": [
    "# <span style=\"color: green;\">Run the model with raw data loaded</span>"
   ]
  },
  {
   "cell_type": "code",
   "execution_count": 47,
   "id": "78323960",
   "metadata": {},
   "outputs": [
    {
     "data": {
      "text/html": [
       "<div>\n",
       "<style scoped>\n",
       "    .dataframe tbody tr th:only-of-type {\n",
       "        vertical-align: middle;\n",
       "    }\n",
       "\n",
       "    .dataframe tbody tr th {\n",
       "        vertical-align: top;\n",
       "    }\n",
       "\n",
       "    .dataframe thead th {\n",
       "        text-align: right;\n",
       "    }\n",
       "</style>\n",
       "<table border=\"1\" class=\"dataframe\">\n",
       "  <thead>\n",
       "    <tr style=\"text-align: right;\">\n",
       "      <th></th>\n",
       "      <th>model</th>\n",
       "      <th>best_params</th>\n",
       "      <th>best_score</th>\n",
       "      <th>best_time</th>\n",
       "      <th>accuracy_score</th>\n",
       "      <th>roc_auc_score</th>\n",
       "    </tr>\n",
       "  </thead>\n",
       "  <tbody>\n",
       "    <tr>\n",
       "      <th>0</th>\n",
       "      <td>Count Vectorizer and Logistic Regression Lemmetizer</td>\n",
       "      <td>{'memory': None, 'steps': [('transformer', CountVectorizer(stop_words='english')), ('model', LogisticRegression(max_iter=1000))], 'verbose': False, 'transformer': CountVectorizer(stop_words='english'), 'model': LogisticRegression(max_iter=1000), 'transformer__analyzer': 'word', 'transformer__binary': False, 'transformer__decode_error': 'strict', 'transformer__dtype': &lt;class 'numpy.int64'&gt;, 'transformer__encoding': 'utf-8', 'transformer__input': 'content', 'transformer__lowercase': True, 'transformer__max_df': 1.0, 'transformer__max_features': None, 'transformer__min_df': 1, 'transformer__ngram_range': (1, 1), 'transformer__preprocessor': None, 'transformer__stop_words': 'english', 'transformer__strip_accents': None, 'transformer__token_pattern': '(?u)\\b\\w\\w+\\b', 'transformer__tokenizer': None, 'transformer__vocabulary': None, 'model__C': 1.0, 'model__class_weight': None, 'model__dual': False, 'model__fit_intercept': True, 'model__intercept_scaling': 1, 'model__l1_ratio': None, 'model__max_iter': 1000, 'model__multi_class': 'auto', 'model__n_jobs': None, 'model__penalty': 'l2', 'model__random_state': None, 'model__solver': 'lbfgs', 'model__tol': 0.0001, 'model__verbose': 0, 'model__warm_start': False}</td>\n",
       "      <td>0.799037</td>\n",
       "      <td>0.216492</td>\n",
       "      <td>0.799037</td>\n",
       "      <td>0.785093</td>\n",
       "    </tr>\n",
       "    <tr>\n",
       "      <th>1</th>\n",
       "      <td>Count Vectorizer and Logistic Regression Lemmetizer</td>\n",
       "      <td>{'C': 1.0, 'class_weight': None, 'dual': False, 'fit_intercept': True, 'intercept_scaling': 1, 'l1_ratio': None, 'max_iter': 100, 'multi_class': 'auto', 'n_jobs': None, 'penalty': 'l2', 'random_state': None, 'solver': 'lbfgs', 'tol': 0.0001, 'verbose': 0, 'warm_start': False}</td>\n",
       "      <td>0.974868</td>\n",
       "      <td>0.242936</td>\n",
       "      <td>0.974868</td>\n",
       "      <td>0.974868</td>\n",
       "    </tr>\n",
       "    <tr>\n",
       "      <th>2</th>\n",
       "      <td>Count Vectorizer and Logistic Regression Lemmetizer</td>\n",
       "      <td>{'cv': None, 'error_score': nan, 'estimator__C': 1.0, 'estimator__class_weight': None, 'estimator__dual': False, 'estimator__fit_intercept': True, 'estimator__intercept_scaling': 1, 'estimator__l1_ratio': None, 'estimator__max_iter': 1000, 'estimator__multi_class': 'auto', 'estimator__n_jobs': None, 'estimator__penalty': 'l2', 'estimator__random_state': None, 'estimator__solver': 'lbfgs', 'estimator__tol': 0.0001, 'estimator__verbose': 0, 'estimator__warm_start': False, 'estimator': LogisticRegression(max_iter=1000), 'n_jobs': None, 'param_grid': {'solver': ['newton-cg', 'lbfgs', 'liblinear'], 'penalty': ['l2'], 'C': [100, 10, 1.0, 0.1, 0.01]}, 'pre_dispatch': '2*n_jobs', 'refit': True, 'return_train_score': False, 'scoring': None, 'verbose': 0}</td>\n",
       "      <td>0.996197</td>\n",
       "      <td>11.377976</td>\n",
       "      <td>0.996197</td>\n",
       "      <td>0.996197</td>\n",
       "    </tr>\n",
       "    <tr>\n",
       "      <th>3</th>\n",
       "      <td>Count Vectorizer and Logistic Regression Lemmetizer</td>\n",
       "      <td>{'memory': None, 'steps': [('transformer', CountVectorizer(stop_words='english')), ('model', LogisticRegression(max_iter=1000))], 'verbose': False, 'transformer': CountVectorizer(stop_words='english'), 'model': LogisticRegression(max_iter=1000), 'transformer__analyzer': 'word', 'transformer__binary': False, 'transformer__decode_error': 'strict', 'transformer__dtype': &lt;class 'numpy.int64'&gt;, 'transformer__encoding': 'utf-8', 'transformer__input': 'content', 'transformer__lowercase': True, 'transformer__max_df': 1.0, 'transformer__max_features': None, 'transformer__min_df': 1, 'transformer__ngram_range': (1, 1), 'transformer__preprocessor': None, 'transformer__stop_words': 'english', 'transformer__strip_accents': None, 'transformer__token_pattern': '(?u)\\b\\w\\w+\\b', 'transformer__tokenizer': None, 'transformer__vocabulary': None, 'model__C': 1.0, 'model__class_weight': None, 'model__dual': False, 'model__fit_intercept': True, 'model__intercept_scaling': 1, 'model__l1_ratio': None, 'model__max_iter': 1000, 'model__multi_class': 'auto', 'model__n_jobs': None, 'model__penalty': 'l2', 'model__random_state': None, 'model__solver': 'lbfgs', 'model__tol': 0.0001, 'model__verbose': 0, 'model__warm_start': False}</td>\n",
       "      <td>0.799037</td>\n",
       "      <td>0.214706</td>\n",
       "      <td>0.799037</td>\n",
       "      <td>0.785093</td>\n",
       "    </tr>\n",
       "    <tr>\n",
       "      <th>4</th>\n",
       "      <td>Count Vectorizer and Logistic Regression Lemmetizer</td>\n",
       "      <td>{'C': 1.0, 'class_weight': None, 'dual': False, 'fit_intercept': True, 'intercept_scaling': 1, 'l1_ratio': None, 'max_iter': 100, 'multi_class': 'auto', 'n_jobs': None, 'penalty': 'l2', 'random_state': None, 'solver': 'lbfgs', 'tol': 0.0001, 'verbose': 0, 'warm_start': False}</td>\n",
       "      <td>0.974868</td>\n",
       "      <td>0.231159</td>\n",
       "      <td>0.974868</td>\n",
       "      <td>0.974868</td>\n",
       "    </tr>\n",
       "    <tr>\n",
       "      <th>5</th>\n",
       "      <td>Count Vectorizer and Logistic Regression Lemmetizer</td>\n",
       "      <td>{'cv': None, 'error_score': nan, 'estimator__C': 1.0, 'estimator__class_weight': None, 'estimator__dual': False, 'estimator__fit_intercept': True, 'estimator__intercept_scaling': 1, 'estimator__l1_ratio': None, 'estimator__max_iter': 1000, 'estimator__multi_class': 'auto', 'estimator__n_jobs': None, 'estimator__penalty': 'l2', 'estimator__random_state': None, 'estimator__solver': 'lbfgs', 'estimator__tol': 0.0001, 'estimator__verbose': 0, 'estimator__warm_start': False, 'estimator': LogisticRegression(max_iter=1000), 'n_jobs': None, 'param_grid': {'solver': ['newton-cg', 'lbfgs', 'liblinear'], 'penalty': ['l2'], 'C': [100, 10, 1.0, 0.1, 0.01]}, 'pre_dispatch': '2*n_jobs', 'refit': True, 'return_train_score': False, 'scoring': None, 'verbose': 0}</td>\n",
       "      <td>0.996197</td>\n",
       "      <td>11.207240</td>\n",
       "      <td>0.996197</td>\n",
       "      <td>0.996197</td>\n",
       "    </tr>\n",
       "    <tr>\n",
       "      <th>6</th>\n",
       "      <td>Count Vectorizer and Logistic Regression Lemmetizer</td>\n",
       "      <td>{'memory': None, 'steps': [('transformer', CountVectorizer(stop_words='english')), ('model', LogisticRegression(max_iter=1000))], 'verbose': False, 'transformer': CountVectorizer(stop_words='english'), 'model': LogisticRegression(max_iter=1000), 'transformer__analyzer': 'word', 'transformer__binary': False, 'transformer__decode_error': 'strict', 'transformer__dtype': &lt;class 'numpy.int64'&gt;, 'transformer__encoding': 'utf-8', 'transformer__input': 'content', 'transformer__lowercase': True, 'transformer__max_df': 1.0, 'transformer__max_features': None, 'transformer__min_df': 1, 'transformer__ngram_range': (1, 1), 'transformer__preprocessor': None, 'transformer__stop_words': 'english', 'transformer__strip_accents': None, 'transformer__token_pattern': '(?u)\\b\\w\\w+\\b', 'transformer__tokenizer': None, 'transformer__vocabulary': None, 'model__C': 1.0, 'model__class_weight': None, 'model__dual': False, 'model__fit_intercept': True, 'model__intercept_scaling': 1, 'model__l1_ratio': None, 'model__max_iter': 1000, 'model__multi_class': 'auto', 'model__n_jobs': None, 'model__penalty': 'l2', 'model__random_state': None, 'model__solver': 'lbfgs', 'model__tol': 0.0001, 'model__verbose': 0, 'model__warm_start': False}</td>\n",
       "      <td>0.799037</td>\n",
       "      <td>1.008467</td>\n",
       "      <td>0.799037</td>\n",
       "      <td>0.785093</td>\n",
       "    </tr>\n",
       "  </tbody>\n",
       "</table>\n",
       "</div>"
      ],
      "text/plain": [
       "                                                 model  \\\n",
       "0  Count Vectorizer and Logistic Regression Lemmetizer   \n",
       "1  Count Vectorizer and Logistic Regression Lemmetizer   \n",
       "2  Count Vectorizer and Logistic Regression Lemmetizer   \n",
       "3  Count Vectorizer and Logistic Regression Lemmetizer   \n",
       "4  Count Vectorizer and Logistic Regression Lemmetizer   \n",
       "5  Count Vectorizer and Logistic Regression Lemmetizer   \n",
       "6  Count Vectorizer and Logistic Regression Lemmetizer   \n",
       "\n",
       "                                                                                                                                                                                                                                                                                                                                                                                                                                                                                                                                                                                                                                                                                                                                                                                                                                                                                                                                                                                                                                                                                                                                                                                                                                                           best_params  \\\n",
       "0  {'memory': None, 'steps': [('transformer', CountVectorizer(stop_words='english')), ('model', LogisticRegression(max_iter=1000))], 'verbose': False, 'transformer': CountVectorizer(stop_words='english'), 'model': LogisticRegression(max_iter=1000), 'transformer__analyzer': 'word', 'transformer__binary': False, 'transformer__decode_error': 'strict', 'transformer__dtype': <class 'numpy.int64'>, 'transformer__encoding': 'utf-8', 'transformer__input': 'content', 'transformer__lowercase': True, 'transformer__max_df': 1.0, 'transformer__max_features': None, 'transformer__min_df': 1, 'transformer__ngram_range': (1, 1), 'transformer__preprocessor': None, 'transformer__stop_words': 'english', 'transformer__strip_accents': None, 'transformer__token_pattern': '(?u)\\b\\w\\w+\\b', 'transformer__tokenizer': None, 'transformer__vocabulary': None, 'model__C': 1.0, 'model__class_weight': None, 'model__dual': False, 'model__fit_intercept': True, 'model__intercept_scaling': 1, 'model__l1_ratio': None, 'model__max_iter': 1000, 'model__multi_class': 'auto', 'model__n_jobs': None, 'model__penalty': 'l2', 'model__random_state': None, 'model__solver': 'lbfgs', 'model__tol': 0.0001, 'model__verbose': 0, 'model__warm_start': False}   \n",
       "1                                                                                                                                                                                                                                                                                                                                                                                                                                                                                                                                                                                                                                                                                                                                                                                                                                                                                                                                                                                 {'C': 1.0, 'class_weight': None, 'dual': False, 'fit_intercept': True, 'intercept_scaling': 1, 'l1_ratio': None, 'max_iter': 100, 'multi_class': 'auto', 'n_jobs': None, 'penalty': 'l2', 'random_state': None, 'solver': 'lbfgs', 'tol': 0.0001, 'verbose': 0, 'warm_start': False}   \n",
       "2                                                                                                                                                                                                                                                                                                                                                                                                                                                                                  {'cv': None, 'error_score': nan, 'estimator__C': 1.0, 'estimator__class_weight': None, 'estimator__dual': False, 'estimator__fit_intercept': True, 'estimator__intercept_scaling': 1, 'estimator__l1_ratio': None, 'estimator__max_iter': 1000, 'estimator__multi_class': 'auto', 'estimator__n_jobs': None, 'estimator__penalty': 'l2', 'estimator__random_state': None, 'estimator__solver': 'lbfgs', 'estimator__tol': 0.0001, 'estimator__verbose': 0, 'estimator__warm_start': False, 'estimator': LogisticRegression(max_iter=1000), 'n_jobs': None, 'param_grid': {'solver': ['newton-cg', 'lbfgs', 'liblinear'], 'penalty': ['l2'], 'C': [100, 10, 1.0, 0.1, 0.01]}, 'pre_dispatch': '2*n_jobs', 'refit': True, 'return_train_score': False, 'scoring': None, 'verbose': 0}   \n",
       "3  {'memory': None, 'steps': [('transformer', CountVectorizer(stop_words='english')), ('model', LogisticRegression(max_iter=1000))], 'verbose': False, 'transformer': CountVectorizer(stop_words='english'), 'model': LogisticRegression(max_iter=1000), 'transformer__analyzer': 'word', 'transformer__binary': False, 'transformer__decode_error': 'strict', 'transformer__dtype': <class 'numpy.int64'>, 'transformer__encoding': 'utf-8', 'transformer__input': 'content', 'transformer__lowercase': True, 'transformer__max_df': 1.0, 'transformer__max_features': None, 'transformer__min_df': 1, 'transformer__ngram_range': (1, 1), 'transformer__preprocessor': None, 'transformer__stop_words': 'english', 'transformer__strip_accents': None, 'transformer__token_pattern': '(?u)\\b\\w\\w+\\b', 'transformer__tokenizer': None, 'transformer__vocabulary': None, 'model__C': 1.0, 'model__class_weight': None, 'model__dual': False, 'model__fit_intercept': True, 'model__intercept_scaling': 1, 'model__l1_ratio': None, 'model__max_iter': 1000, 'model__multi_class': 'auto', 'model__n_jobs': None, 'model__penalty': 'l2', 'model__random_state': None, 'model__solver': 'lbfgs', 'model__tol': 0.0001, 'model__verbose': 0, 'model__warm_start': False}   \n",
       "4                                                                                                                                                                                                                                                                                                                                                                                                                                                                                                                                                                                                                                                                                                                                                                                                                                                                                                                                                                                 {'C': 1.0, 'class_weight': None, 'dual': False, 'fit_intercept': True, 'intercept_scaling': 1, 'l1_ratio': None, 'max_iter': 100, 'multi_class': 'auto', 'n_jobs': None, 'penalty': 'l2', 'random_state': None, 'solver': 'lbfgs', 'tol': 0.0001, 'verbose': 0, 'warm_start': False}   \n",
       "5                                                                                                                                                                                                                                                                                                                                                                                                                                                                                  {'cv': None, 'error_score': nan, 'estimator__C': 1.0, 'estimator__class_weight': None, 'estimator__dual': False, 'estimator__fit_intercept': True, 'estimator__intercept_scaling': 1, 'estimator__l1_ratio': None, 'estimator__max_iter': 1000, 'estimator__multi_class': 'auto', 'estimator__n_jobs': None, 'estimator__penalty': 'l2', 'estimator__random_state': None, 'estimator__solver': 'lbfgs', 'estimator__tol': 0.0001, 'estimator__verbose': 0, 'estimator__warm_start': False, 'estimator': LogisticRegression(max_iter=1000), 'n_jobs': None, 'param_grid': {'solver': ['newton-cg', 'lbfgs', 'liblinear'], 'penalty': ['l2'], 'C': [100, 10, 1.0, 0.1, 0.01]}, 'pre_dispatch': '2*n_jobs', 'refit': True, 'return_train_score': False, 'scoring': None, 'verbose': 0}   \n",
       "6  {'memory': None, 'steps': [('transformer', CountVectorizer(stop_words='english')), ('model', LogisticRegression(max_iter=1000))], 'verbose': False, 'transformer': CountVectorizer(stop_words='english'), 'model': LogisticRegression(max_iter=1000), 'transformer__analyzer': 'word', 'transformer__binary': False, 'transformer__decode_error': 'strict', 'transformer__dtype': <class 'numpy.int64'>, 'transformer__encoding': 'utf-8', 'transformer__input': 'content', 'transformer__lowercase': True, 'transformer__max_df': 1.0, 'transformer__max_features': None, 'transformer__min_df': 1, 'transformer__ngram_range': (1, 1), 'transformer__preprocessor': None, 'transformer__stop_words': 'english', 'transformer__strip_accents': None, 'transformer__token_pattern': '(?u)\\b\\w\\w+\\b', 'transformer__tokenizer': None, 'transformer__vocabulary': None, 'model__C': 1.0, 'model__class_weight': None, 'model__dual': False, 'model__fit_intercept': True, 'model__intercept_scaling': 1, 'model__l1_ratio': None, 'model__max_iter': 1000, 'model__multi_class': 'auto', 'model__n_jobs': None, 'model__penalty': 'l2', 'model__random_state': None, 'model__solver': 'lbfgs', 'model__tol': 0.0001, 'model__verbose': 0, 'model__warm_start': False}   \n",
       "\n",
       "   best_score  best_time  accuracy_score  roc_auc_score  \n",
       "0    0.799037   0.216492        0.799037       0.785093  \n",
       "1    0.974868   0.242936        0.974868       0.974868  \n",
       "2    0.996197  11.377976        0.996197       0.996197  \n",
       "3    0.799037   0.214706        0.799037       0.785093  \n",
       "4    0.974868   0.231159        0.974868       0.974868  \n",
       "5    0.996197  11.207240        0.996197       0.996197  \n",
       "6    0.799037   1.008467        0.799037       0.785093  "
      ]
     },
     "execution_count": 47,
     "metadata": {},
     "output_type": "execute_result"
    },
    {
     "data": {
      "image/png": "[encoded data removed]",
      "text/plain": [
       "<Figure size 432x288 with 2 Axes>"
      ]
     },
     "metadata": {
      "needs_background": "light"
     },
     "output_type": "display_data"
    }
   ],
   "source": [
    "df = print_model_data('Count Vectorizer and Logistic Regression Lemmetizer',\n",
    "                 model_execute(cvect_lr_pipe,X_train,y_train),\n",
    "                 cvect_lr_pipe,\n",
    "                 X_train,\n",
    "                 X_test,\n",
    "                 y_train,\n",
    "                 y_test,\n",
    "                 False)\n",
    "df"
   ]
  },
  {
   "cell_type": "code",
   "execution_count": 48,
   "id": "c34bb585",
   "metadata": {},
   "outputs": [],
   "source": [
    "X_train,X_test,y_train,y_test=data_cleanup_for_balancer_lemmetizer(X)"
   ]
  },
  {
   "cell_type": "code",
   "execution_count": 49,
   "id": "b020583b",
   "metadata": {},
   "outputs": [],
   "source": [
    "Xb_train, yb_train = class_balancer(X_train,y_train)"
   ]
  },
  {
   "cell_type": "code",
   "execution_count": 50,
   "id": "adc32eae",
   "metadata": {},
   "outputs": [
    {
     "data": {
      "image/png": "[encoded data removed]",
      "text/plain": [
       "<Figure size 432x288 with 1 Axes>"
      ]
     },
     "metadata": {
      "needs_background": "light"
     },
     "output_type": "display_data"
    }
   ],
   "source": [
    "bar_plot(yb_train)"
   ]
  },
  {
   "cell_type": "code",
   "execution_count": 51,
   "id": "4d136120",
   "metadata": {},
   "outputs": [],
   "source": [
    "Xb_test, yb_test = class_balancer(X_train,y_train)"
   ]
  },
  {
   "cell_type": "code",
   "execution_count": 52,
   "id": "5bcc74d8",
   "metadata": {},
   "outputs": [
    {
     "data": {
      "image/png": "[encoded data removed]",
      "text/plain": [
       "<Figure size 432x288 with 1 Axes>"
      ]
     },
     "metadata": {
      "needs_background": "light"
     },
     "output_type": "display_data"
    }
   ],
   "source": [
    "bar_plot(yb_test)"
   ]
  },
  {
   "cell_type": "code",
   "execution_count": 53,
   "id": "71142c04",
   "metadata": {},
   "outputs": [
    {
     "name": "stderr",
     "output_type": "stream",
     "text": [
      "/Users/achandrasekhar/opt/anaconda3/lib/python3.9/site-packages/sklearn/linear_model/_logistic.py:444: ConvergenceWarning: lbfgs failed to converge (status=1):\n",
      "STOP: TOTAL NO. of ITERATIONS REACHED LIMIT.\n",
      "\n",
      "Increase the number of iterations (max_iter) or scale the data as shown in:\n",
      "    https://scikit-learn.org/stable/modules/preprocessing.html\n",
      "Please also refer to the documentation for alternative solver options:\n",
      "    https://scikit-learn.org/stable/modules/linear_model.html#logistic-regression\n",
      "  n_iter_i = _check_optimize_result(\n"
     ]
    },
    {
     "data": {
      "text/html": [
       "<div>\n",
       "<style scoped>\n",
       "    .dataframe tbody tr th:only-of-type {\n",
       "        vertical-align: middle;\n",
       "    }\n",
       "\n",
       "    .dataframe tbody tr th {\n",
       "        vertical-align: top;\n",
       "    }\n",
       "\n",
       "    .dataframe thead th {\n",
       "        text-align: right;\n",
       "    }\n",
       "</style>\n",
       "<table border=\"1\" class=\"dataframe\">\n",
       "  <thead>\n",
       "    <tr style=\"text-align: right;\">\n",
       "      <th></th>\n",
       "      <th>model</th>\n",
       "      <th>best_params</th>\n",
       "      <th>best_score</th>\n",
       "      <th>best_time</th>\n",
       "      <th>accuracy_score</th>\n",
       "      <th>roc_auc_score</th>\n",
       "    </tr>\n",
       "  </thead>\n",
       "  <tbody>\n",
       "    <tr>\n",
       "      <th>0</th>\n",
       "      <td>Count Vectorizer and Logistic Regression Lemmetizer</td>\n",
       "      <td>{'memory': None, 'steps': [('transformer', CountVectorizer(stop_words='english')), ('model', LogisticRegression(max_iter=1000))], 'verbose': False, 'transformer': CountVectorizer(stop_words='english'), 'model': LogisticRegression(max_iter=1000), 'transformer__analyzer': 'word', 'transformer__binary': False, 'transformer__decode_error': 'strict', 'transformer__dtype': &lt;class 'numpy.int64'&gt;, 'transformer__encoding': 'utf-8', 'transformer__input': 'content', 'transformer__lowercase': True, 'transformer__max_df': 1.0, 'transformer__max_features': None, 'transformer__min_df': 1, 'transformer__ngram_range': (1, 1), 'transformer__preprocessor': None, 'transformer__stop_words': 'english', 'transformer__strip_accents': None, 'transformer__token_pattern': '(?u)\\b\\w\\w+\\b', 'transformer__tokenizer': None, 'transformer__vocabulary': None, 'model__C': 1.0, 'model__class_weight': None, 'model__dual': False, 'model__fit_intercept': True, 'model__intercept_scaling': 1, 'model__l1_ratio': None, 'model__max_iter': 1000, 'model__multi_class': 'auto', 'model__n_jobs': None, 'model__penalty': 'l2', 'model__random_state': None, 'model__solver': 'lbfgs', 'model__tol': 0.0001, 'model__verbose': 0, 'model__warm_start': False}</td>\n",
       "      <td>0.799037</td>\n",
       "      <td>0.216492</td>\n",
       "      <td>0.799037</td>\n",
       "      <td>0.785093</td>\n",
       "    </tr>\n",
       "    <tr>\n",
       "      <th>1</th>\n",
       "      <td>Count Vectorizer and Logistic Regression Lemmetizer</td>\n",
       "      <td>{'C': 1.0, 'class_weight': None, 'dual': False, 'fit_intercept': True, 'intercept_scaling': 1, 'l1_ratio': None, 'max_iter': 100, 'multi_class': 'auto', 'n_jobs': None, 'penalty': 'l2', 'random_state': None, 'solver': 'lbfgs', 'tol': 0.0001, 'verbose': 0, 'warm_start': False}</td>\n",
       "      <td>0.974868</td>\n",
       "      <td>0.242936</td>\n",
       "      <td>0.974868</td>\n",
       "      <td>0.974868</td>\n",
       "    </tr>\n",
       "    <tr>\n",
       "      <th>2</th>\n",
       "      <td>Count Vectorizer and Logistic Regression Lemmetizer</td>\n",
       "      <td>{'cv': None, 'error_score': nan, 'estimator__C': 1.0, 'estimator__class_weight': None, 'estimator__dual': False, 'estimator__fit_intercept': True, 'estimator__intercept_scaling': 1, 'estimator__l1_ratio': None, 'estimator__max_iter': 1000, 'estimator__multi_class': 'auto', 'estimator__n_jobs': None, 'estimator__penalty': 'l2', 'estimator__random_state': None, 'estimator__solver': 'lbfgs', 'estimator__tol': 0.0001, 'estimator__verbose': 0, 'estimator__warm_start': False, 'estimator': LogisticRegression(max_iter=1000), 'n_jobs': None, 'param_grid': {'solver': ['newton-cg', 'lbfgs', 'liblinear'], 'penalty': ['l2'], 'C': [100, 10, 1.0, 0.1, 0.01]}, 'pre_dispatch': '2*n_jobs', 'refit': True, 'return_train_score': False, 'scoring': None, 'verbose': 0}</td>\n",
       "      <td>0.996197</td>\n",
       "      <td>11.377976</td>\n",
       "      <td>0.996197</td>\n",
       "      <td>0.996197</td>\n",
       "    </tr>\n",
       "    <tr>\n",
       "      <th>3</th>\n",
       "      <td>Count Vectorizer and Logistic Regression Lemmetizer</td>\n",
       "      <td>{'memory': None, 'steps': [('transformer', CountVectorizer(stop_words='english')), ('model', LogisticRegression(max_iter=1000))], 'verbose': False, 'transformer': CountVectorizer(stop_words='english'), 'model': LogisticRegression(max_iter=1000), 'transformer__analyzer': 'word', 'transformer__binary': False, 'transformer__decode_error': 'strict', 'transformer__dtype': &lt;class 'numpy.int64'&gt;, 'transformer__encoding': 'utf-8', 'transformer__input': 'content', 'transformer__lowercase': True, 'transformer__max_df': 1.0, 'transformer__max_features': None, 'transformer__min_df': 1, 'transformer__ngram_range': (1, 1), 'transformer__preprocessor': None, 'transformer__stop_words': 'english', 'transformer__strip_accents': None, 'transformer__token_pattern': '(?u)\\b\\w\\w+\\b', 'transformer__tokenizer': None, 'transformer__vocabulary': None, 'model__C': 1.0, 'model__class_weight': None, 'model__dual': False, 'model__fit_intercept': True, 'model__intercept_scaling': 1, 'model__l1_ratio': None, 'model__max_iter': 1000, 'model__multi_class': 'auto', 'model__n_jobs': None, 'model__penalty': 'l2', 'model__random_state': None, 'model__solver': 'lbfgs', 'model__tol': 0.0001, 'model__verbose': 0, 'model__warm_start': False}</td>\n",
       "      <td>0.799037</td>\n",
       "      <td>0.214706</td>\n",
       "      <td>0.799037</td>\n",
       "      <td>0.785093</td>\n",
       "    </tr>\n",
       "    <tr>\n",
       "      <th>4</th>\n",
       "      <td>Count Vectorizer and Logistic Regression Lemmetizer</td>\n",
       "      <td>{'C': 1.0, 'class_weight': None, 'dual': False, 'fit_intercept': True, 'intercept_scaling': 1, 'l1_ratio': None, 'max_iter': 100, 'multi_class': 'auto', 'n_jobs': None, 'penalty': 'l2', 'random_state': None, 'solver': 'lbfgs', 'tol': 0.0001, 'verbose': 0, 'warm_start': False}</td>\n",
       "      <td>0.974868</td>\n",
       "      <td>0.231159</td>\n",
       "      <td>0.974868</td>\n",
       "      <td>0.974868</td>\n",
       "    </tr>\n",
       "    <tr>\n",
       "      <th>5</th>\n",
       "      <td>Count Vectorizer and Logistic Regression Lemmetizer</td>\n",
       "      <td>{'cv': None, 'error_score': nan, 'estimator__C': 1.0, 'estimator__class_weight': None, 'estimator__dual': False, 'estimator__fit_intercept': True, 'estimator__intercept_scaling': 1, 'estimator__l1_ratio': None, 'estimator__max_iter': 1000, 'estimator__multi_class': 'auto', 'estimator__n_jobs': None, 'estimator__penalty': 'l2', 'estimator__random_state': None, 'estimator__solver': 'lbfgs', 'estimator__tol': 0.0001, 'estimator__verbose': 0, 'estimator__warm_start': False, 'estimator': LogisticRegression(max_iter=1000), 'n_jobs': None, 'param_grid': {'solver': ['newton-cg', 'lbfgs', 'liblinear'], 'penalty': ['l2'], 'C': [100, 10, 1.0, 0.1, 0.01]}, 'pre_dispatch': '2*n_jobs', 'refit': True, 'return_train_score': False, 'scoring': None, 'verbose': 0}</td>\n",
       "      <td>0.996197</td>\n",
       "      <td>11.207240</td>\n",
       "      <td>0.996197</td>\n",
       "      <td>0.996197</td>\n",
       "    </tr>\n",
       "    <tr>\n",
       "      <th>6</th>\n",
       "      <td>Count Vectorizer and Logistic Regression Lemmetizer</td>\n",
       "      <td>{'memory': None, 'steps': [('transformer', CountVectorizer(stop_words='english')), ('model', LogisticRegression(max_iter=1000))], 'verbose': False, 'transformer': CountVectorizer(stop_words='english'), 'model': LogisticRegression(max_iter=1000), 'transformer__analyzer': 'word', 'transformer__binary': False, 'transformer__decode_error': 'strict', 'transformer__dtype': &lt;class 'numpy.int64'&gt;, 'transformer__encoding': 'utf-8', 'transformer__input': 'content', 'transformer__lowercase': True, 'transformer__max_df': 1.0, 'transformer__max_features': None, 'transformer__min_df': 1, 'transformer__ngram_range': (1, 1), 'transformer__preprocessor': None, 'transformer__stop_words': 'english', 'transformer__strip_accents': None, 'transformer__token_pattern': '(?u)\\b\\w\\w+\\b', 'transformer__tokenizer': None, 'transformer__vocabulary': None, 'model__C': 1.0, 'model__class_weight': None, 'model__dual': False, 'model__fit_intercept': True, 'model__intercept_scaling': 1, 'model__l1_ratio': None, 'model__max_iter': 1000, 'model__multi_class': 'auto', 'model__n_jobs': None, 'model__penalty': 'l2', 'model__random_state': None, 'model__solver': 'lbfgs', 'model__tol': 0.0001, 'model__verbose': 0, 'model__warm_start': False}</td>\n",
       "      <td>0.799037</td>\n",
       "      <td>1.008467</td>\n",
       "      <td>0.799037</td>\n",
       "      <td>0.785093</td>\n",
       "    </tr>\n",
       "    <tr>\n",
       "      <th>7</th>\n",
       "      <td>Count Vectorizer and Logistic Regression Lemmetizer</td>\n",
       "      <td>{'C': 1.0, 'class_weight': None, 'dual': False, 'fit_intercept': True, 'intercept_scaling': 1, 'l1_ratio': None, 'max_iter': 100, 'multi_class': 'auto', 'n_jobs': None, 'penalty': 'l2', 'random_state': None, 'solver': 'lbfgs', 'tol': 0.0001, 'verbose': 0, 'warm_start': False}</td>\n",
       "      <td>0.974868</td>\n",
       "      <td>1.682500</td>\n",
       "      <td>0.974868</td>\n",
       "      <td>0.974868</td>\n",
       "    </tr>\n",
       "  </tbody>\n",
       "</table>\n",
       "</div>"
      ],
      "text/plain": [
       "                                                 model  \\\n",
       "0  Count Vectorizer and Logistic Regression Lemmetizer   \n",
       "1  Count Vectorizer and Logistic Regression Lemmetizer   \n",
       "2  Count Vectorizer and Logistic Regression Lemmetizer   \n",
       "3  Count Vectorizer and Logistic Regression Lemmetizer   \n",
       "4  Count Vectorizer and Logistic Regression Lemmetizer   \n",
       "5  Count Vectorizer and Logistic Regression Lemmetizer   \n",
       "6  Count Vectorizer and Logistic Regression Lemmetizer   \n",
       "7  Count Vectorizer and Logistic Regression Lemmetizer   \n",
       "\n",
       "                                                                                                                                                                                                                                                                                                                                                                                                                                                                                                                                                                                                                                                                                                                                                                                                                                                                                                                                                                                                                                                                                                                                                                                                                                                           best_params  \\\n",
       "0  {'memory': None, 'steps': [('transformer', CountVectorizer(stop_words='english')), ('model', LogisticRegression(max_iter=1000))], 'verbose': False, 'transformer': CountVectorizer(stop_words='english'), 'model': LogisticRegression(max_iter=1000), 'transformer__analyzer': 'word', 'transformer__binary': False, 'transformer__decode_error': 'strict', 'transformer__dtype': <class 'numpy.int64'>, 'transformer__encoding': 'utf-8', 'transformer__input': 'content', 'transformer__lowercase': True, 'transformer__max_df': 1.0, 'transformer__max_features': None, 'transformer__min_df': 1, 'transformer__ngram_range': (1, 1), 'transformer__preprocessor': None, 'transformer__stop_words': 'english', 'transformer__strip_accents': None, 'transformer__token_pattern': '(?u)\\b\\w\\w+\\b', 'transformer__tokenizer': None, 'transformer__vocabulary': None, 'model__C': 1.0, 'model__class_weight': None, 'model__dual': False, 'model__fit_intercept': True, 'model__intercept_scaling': 1, 'model__l1_ratio': None, 'model__max_iter': 1000, 'model__multi_class': 'auto', 'model__n_jobs': None, 'model__penalty': 'l2', 'model__random_state': None, 'model__solver': 'lbfgs', 'model__tol': 0.0001, 'model__verbose': 0, 'model__warm_start': False}   \n",
       "1                                                                                                                                                                                                                                                                                                                                                                                                                                                                                                                                                                                                                                                                                                                                                                                                                                                                                                                                                                                 {'C': 1.0, 'class_weight': None, 'dual': False, 'fit_intercept': True, 'intercept_scaling': 1, 'l1_ratio': None, 'max_iter': 100, 'multi_class': 'auto', 'n_jobs': None, 'penalty': 'l2', 'random_state': None, 'solver': 'lbfgs', 'tol': 0.0001, 'verbose': 0, 'warm_start': False}   \n",
       "2                                                                                                                                                                                                                                                                                                                                                                                                                                                                                  {'cv': None, 'error_score': nan, 'estimator__C': 1.0, 'estimator__class_weight': None, 'estimator__dual': False, 'estimator__fit_intercept': True, 'estimator__intercept_scaling': 1, 'estimator__l1_ratio': None, 'estimator__max_iter': 1000, 'estimator__multi_class': 'auto', 'estimator__n_jobs': None, 'estimator__penalty': 'l2', 'estimator__random_state': None, 'estimator__solver': 'lbfgs', 'estimator__tol': 0.0001, 'estimator__verbose': 0, 'estimator__warm_start': False, 'estimator': LogisticRegression(max_iter=1000), 'n_jobs': None, 'param_grid': {'solver': ['newton-cg', 'lbfgs', 'liblinear'], 'penalty': ['l2'], 'C': [100, 10, 1.0, 0.1, 0.01]}, 'pre_dispatch': '2*n_jobs', 'refit': True, 'return_train_score': False, 'scoring': None, 'verbose': 0}   \n",
       "3  {'memory': None, 'steps': [('transformer', CountVectorizer(stop_words='english')), ('model', LogisticRegression(max_iter=1000))], 'verbose': False, 'transformer': CountVectorizer(stop_words='english'), 'model': LogisticRegression(max_iter=1000), 'transformer__analyzer': 'word', 'transformer__binary': False, 'transformer__decode_error': 'strict', 'transformer__dtype': <class 'numpy.int64'>, 'transformer__encoding': 'utf-8', 'transformer__input': 'content', 'transformer__lowercase': True, 'transformer__max_df': 1.0, 'transformer__max_features': None, 'transformer__min_df': 1, 'transformer__ngram_range': (1, 1), 'transformer__preprocessor': None, 'transformer__stop_words': 'english', 'transformer__strip_accents': None, 'transformer__token_pattern': '(?u)\\b\\w\\w+\\b', 'transformer__tokenizer': None, 'transformer__vocabulary': None, 'model__C': 1.0, 'model__class_weight': None, 'model__dual': False, 'model__fit_intercept': True, 'model__intercept_scaling': 1, 'model__l1_ratio': None, 'model__max_iter': 1000, 'model__multi_class': 'auto', 'model__n_jobs': None, 'model__penalty': 'l2', 'model__random_state': None, 'model__solver': 'lbfgs', 'model__tol': 0.0001, 'model__verbose': 0, 'model__warm_start': False}   \n",
       "4                                                                                                                                                                                                                                                                                                                                                                                                                                                                                                                                                                                                                                                                                                                                                                                                                                                                                                                                                                                 {'C': 1.0, 'class_weight': None, 'dual': False, 'fit_intercept': True, 'intercept_scaling': 1, 'l1_ratio': None, 'max_iter': 100, 'multi_class': 'auto', 'n_jobs': None, 'penalty': 'l2', 'random_state': None, 'solver': 'lbfgs', 'tol': 0.0001, 'verbose': 0, 'warm_start': False}   \n",
       "5                                                                                                                                                                                                                                                                                                                                                                                                                                                                                  {'cv': None, 'error_score': nan, 'estimator__C': 1.0, 'estimator__class_weight': None, 'estimator__dual': False, 'estimator__fit_intercept': True, 'estimator__intercept_scaling': 1, 'estimator__l1_ratio': None, 'estimator__max_iter': 1000, 'estimator__multi_class': 'auto', 'estimator__n_jobs': None, 'estimator__penalty': 'l2', 'estimator__random_state': None, 'estimator__solver': 'lbfgs', 'estimator__tol': 0.0001, 'estimator__verbose': 0, 'estimator__warm_start': False, 'estimator': LogisticRegression(max_iter=1000), 'n_jobs': None, 'param_grid': {'solver': ['newton-cg', 'lbfgs', 'liblinear'], 'penalty': ['l2'], 'C': [100, 10, 1.0, 0.1, 0.01]}, 'pre_dispatch': '2*n_jobs', 'refit': True, 'return_train_score': False, 'scoring': None, 'verbose': 0}   \n",
       "6  {'memory': None, 'steps': [('transformer', CountVectorizer(stop_words='english')), ('model', LogisticRegression(max_iter=1000))], 'verbose': False, 'transformer': CountVectorizer(stop_words='english'), 'model': LogisticRegression(max_iter=1000), 'transformer__analyzer': 'word', 'transformer__binary': False, 'transformer__decode_error': 'strict', 'transformer__dtype': <class 'numpy.int64'>, 'transformer__encoding': 'utf-8', 'transformer__input': 'content', 'transformer__lowercase': True, 'transformer__max_df': 1.0, 'transformer__max_features': None, 'transformer__min_df': 1, 'transformer__ngram_range': (1, 1), 'transformer__preprocessor': None, 'transformer__stop_words': 'english', 'transformer__strip_accents': None, 'transformer__token_pattern': '(?u)\\b\\w\\w+\\b', 'transformer__tokenizer': None, 'transformer__vocabulary': None, 'model__C': 1.0, 'model__class_weight': None, 'model__dual': False, 'model__fit_intercept': True, 'model__intercept_scaling': 1, 'model__l1_ratio': None, 'model__max_iter': 1000, 'model__multi_class': 'auto', 'model__n_jobs': None, 'model__penalty': 'l2', 'model__random_state': None, 'model__solver': 'lbfgs', 'model__tol': 0.0001, 'model__verbose': 0, 'model__warm_start': False}   \n",
       "7                                                                                                                                                                                                                                                                                                                                                                                                                                                                                                                                                                                                                                                                                                                                                                                                                                                                                                                                                                                 {'C': 1.0, 'class_weight': None, 'dual': False, 'fit_intercept': True, 'intercept_scaling': 1, 'l1_ratio': None, 'max_iter': 100, 'multi_class': 'auto', 'n_jobs': None, 'penalty': 'l2', 'random_state': None, 'solver': 'lbfgs', 'tol': 0.0001, 'verbose': 0, 'warm_start': False}   \n",
       "\n",
       "   best_score  best_time  accuracy_score  roc_auc_score  \n",
       "0    0.799037   0.216492        0.799037       0.785093  \n",
       "1    0.974868   0.242936        0.974868       0.974868  \n",
       "2    0.996197  11.377976        0.996197       0.996197  \n",
       "3    0.799037   0.214706        0.799037       0.785093  \n",
       "4    0.974868   0.231159        0.974868       0.974868  \n",
       "5    0.996197  11.207240        0.996197       0.996197  \n",
       "6    0.799037   1.008467        0.799037       0.785093  \n",
       "7    0.974868   1.682500        0.974868       0.974868  "
      ]
     },
     "execution_count": 53,
     "metadata": {},
     "output_type": "execute_result"
    },
    {
     "data": {
      "image/png": "[encoded data removed]",
      "text/plain": [
       "<Figure size 432x288 with 2 Axes>"
      ]
     },
     "metadata": {
      "needs_background": "light"
     },
     "output_type": "display_data"
    }
   ],
   "source": [
    "lr = LogisticRegression()\n",
    "df = print_model_data('Count Vectorizer and Logistic Regression Lemmetizer',\n",
    "                 model_execute(lr,Xb_train,yb_train),\n",
    "                 lr,\n",
    "                 Xb_train,\n",
    "                 Xb_test,\n",
    "                 yb_train,\n",
    "                 yb_test,\n",
    "                 False)\n",
    "df"
   ]
  },
  {
   "cell_type": "code",
   "execution_count": 54,
   "id": "985e0e15",
   "metadata": {},
   "outputs": [],
   "source": [
    "max_iter=[1,10,1000]\n",
    "solvers = ['newton-cg', 'lbfgs', 'liblinear']\n",
    "penalty = ['l2']\n",
    "c_values = [100, 10, 1.0, 0.1, 0.01]\n",
    "# define grid search\n",
    "params = dict(solver=solvers,penalty=penalty,C=c_values)"
   ]
  },
  {
   "cell_type": "code",
   "execution_count": 55,
   "id": "9f42e693",
   "metadata": {},
   "outputs": [],
   "source": [
    "lr=LogisticRegression(max_iter=1000)\n",
    "grid = GridSearchCV(lr,param_grid=params)"
   ]
  },
  {
   "cell_type": "code",
   "execution_count": 56,
   "id": "35e3f17f",
   "metadata": {},
   "outputs": [
    {
     "data": {
      "text/html": [
       "<div>\n",
       "<style scoped>\n",
       "    .dataframe tbody tr th:only-of-type {\n",
       "        vertical-align: middle;\n",
       "    }\n",
       "\n",
       "    .dataframe tbody tr th {\n",
       "        vertical-align: top;\n",
       "    }\n",
       "\n",
       "    .dataframe thead th {\n",
       "        text-align: right;\n",
       "    }\n",
       "</style>\n",
       "<table border=\"1\" class=\"dataframe\">\n",
       "  <thead>\n",
       "    <tr style=\"text-align: right;\">\n",
       "      <th></th>\n",
       "      <th>model</th>\n",
       "      <th>best_params</th>\n",
       "      <th>best_score</th>\n",
       "      <th>best_time</th>\n",
       "      <th>accuracy_score</th>\n",
       "      <th>roc_auc_score</th>\n",
       "    </tr>\n",
       "  </thead>\n",
       "  <tbody>\n",
       "    <tr>\n",
       "      <th>0</th>\n",
       "      <td>Count Vectorizer and Logistic Regression Lemmetizer</td>\n",
       "      <td>{'memory': None, 'steps': [('transformer', CountVectorizer(stop_words='english')), ('model', LogisticRegression(max_iter=1000))], 'verbose': False, 'transformer': CountVectorizer(stop_words='english'), 'model': LogisticRegression(max_iter=1000), 'transformer__analyzer': 'word', 'transformer__binary': False, 'transformer__decode_error': 'strict', 'transformer__dtype': &lt;class 'numpy.int64'&gt;, 'transformer__encoding': 'utf-8', 'transformer__input': 'content', 'transformer__lowercase': True, 'transformer__max_df': 1.0, 'transformer__max_features': None, 'transformer__min_df': 1, 'transformer__ngram_range': (1, 1), 'transformer__preprocessor': None, 'transformer__stop_words': 'english', 'transformer__strip_accents': None, 'transformer__token_pattern': '(?u)\\b\\w\\w+\\b', 'transformer__tokenizer': None, 'transformer__vocabulary': None, 'model__C': 1.0, 'model__class_weight': None, 'model__dual': False, 'model__fit_intercept': True, 'model__intercept_scaling': 1, 'model__l1_ratio': None, 'model__max_iter': 1000, 'model__multi_class': 'auto', 'model__n_jobs': None, 'model__penalty': 'l2', 'model__random_state': None, 'model__solver': 'lbfgs', 'model__tol': 0.0001, 'model__verbose': 0, 'model__warm_start': False}</td>\n",
       "      <td>0.799037</td>\n",
       "      <td>0.216492</td>\n",
       "      <td>0.799037</td>\n",
       "      <td>0.785093</td>\n",
       "    </tr>\n",
       "    <tr>\n",
       "      <th>1</th>\n",
       "      <td>Count Vectorizer and Logistic Regression Lemmetizer</td>\n",
       "      <td>{'C': 1.0, 'class_weight': None, 'dual': False, 'fit_intercept': True, 'intercept_scaling': 1, 'l1_ratio': None, 'max_iter': 100, 'multi_class': 'auto', 'n_jobs': None, 'penalty': 'l2', 'random_state': None, 'solver': 'lbfgs', 'tol': 0.0001, 'verbose': 0, 'warm_start': False}</td>\n",
       "      <td>0.974868</td>\n",
       "      <td>0.242936</td>\n",
       "      <td>0.974868</td>\n",
       "      <td>0.974868</td>\n",
       "    </tr>\n",
       "    <tr>\n",
       "      <th>2</th>\n",
       "      <td>Count Vectorizer and Logistic Regression Lemmetizer</td>\n",
       "      <td>{'cv': None, 'error_score': nan, 'estimator__C': 1.0, 'estimator__class_weight': None, 'estimator__dual': False, 'estimator__fit_intercept': True, 'estimator__intercept_scaling': 1, 'estimator__l1_ratio': None, 'estimator__max_iter': 1000, 'estimator__multi_class': 'auto', 'estimator__n_jobs': None, 'estimator__penalty': 'l2', 'estimator__random_state': None, 'estimator__solver': 'lbfgs', 'estimator__tol': 0.0001, 'estimator__verbose': 0, 'estimator__warm_start': False, 'estimator': LogisticRegression(max_iter=1000), 'n_jobs': None, 'param_grid': {'solver': ['newton-cg', 'lbfgs', 'liblinear'], 'penalty': ['l2'], 'C': [100, 10, 1.0, 0.1, 0.01]}, 'pre_dispatch': '2*n_jobs', 'refit': True, 'return_train_score': False, 'scoring': None, 'verbose': 0}</td>\n",
       "      <td>0.996197</td>\n",
       "      <td>11.377976</td>\n",
       "      <td>0.996197</td>\n",
       "      <td>0.996197</td>\n",
       "    </tr>\n",
       "    <tr>\n",
       "      <th>3</th>\n",
       "      <td>Count Vectorizer and Logistic Regression Lemmetizer</td>\n",
       "      <td>{'memory': None, 'steps': [('transformer', CountVectorizer(stop_words='english')), ('model', LogisticRegression(max_iter=1000))], 'verbose': False, 'transformer': CountVectorizer(stop_words='english'), 'model': LogisticRegression(max_iter=1000), 'transformer__analyzer': 'word', 'transformer__binary': False, 'transformer__decode_error': 'strict', 'transformer__dtype': &lt;class 'numpy.int64'&gt;, 'transformer__encoding': 'utf-8', 'transformer__input': 'content', 'transformer__lowercase': True, 'transformer__max_df': 1.0, 'transformer__max_features': None, 'transformer__min_df': 1, 'transformer__ngram_range': (1, 1), 'transformer__preprocessor': None, 'transformer__stop_words': 'english', 'transformer__strip_accents': None, 'transformer__token_pattern': '(?u)\\b\\w\\w+\\b', 'transformer__tokenizer': None, 'transformer__vocabulary': None, 'model__C': 1.0, 'model__class_weight': None, 'model__dual': False, 'model__fit_intercept': True, 'model__intercept_scaling': 1, 'model__l1_ratio': None, 'model__max_iter': 1000, 'model__multi_class': 'auto', 'model__n_jobs': None, 'model__penalty': 'l2', 'model__random_state': None, 'model__solver': 'lbfgs', 'model__tol': 0.0001, 'model__verbose': 0, 'model__warm_start': False}</td>\n",
       "      <td>0.799037</td>\n",
       "      <td>0.214706</td>\n",
       "      <td>0.799037</td>\n",
       "      <td>0.785093</td>\n",
       "    </tr>\n",
       "    <tr>\n",
       "      <th>4</th>\n",
       "      <td>Count Vectorizer and Logistic Regression Lemmetizer</td>\n",
       "      <td>{'C': 1.0, 'class_weight': None, 'dual': False, 'fit_intercept': True, 'intercept_scaling': 1, 'l1_ratio': None, 'max_iter': 100, 'multi_class': 'auto', 'n_jobs': None, 'penalty': 'l2', 'random_state': None, 'solver': 'lbfgs', 'tol': 0.0001, 'verbose': 0, 'warm_start': False}</td>\n",
       "      <td>0.974868</td>\n",
       "      <td>0.231159</td>\n",
       "      <td>0.974868</td>\n",
       "      <td>0.974868</td>\n",
       "    </tr>\n",
       "    <tr>\n",
       "      <th>5</th>\n",
       "      <td>Count Vectorizer and Logistic Regression Lemmetizer</td>\n",
       "      <td>{'cv': None, 'error_score': nan, 'estimator__C': 1.0, 'estimator__class_weight': None, 'estimator__dual': False, 'estimator__fit_intercept': True, 'estimator__intercept_scaling': 1, 'estimator__l1_ratio': None, 'estimator__max_iter': 1000, 'estimator__multi_class': 'auto', 'estimator__n_jobs': None, 'estimator__penalty': 'l2', 'estimator__random_state': None, 'estimator__solver': 'lbfgs', 'estimator__tol': 0.0001, 'estimator__verbose': 0, 'estimator__warm_start': False, 'estimator': LogisticRegression(max_iter=1000), 'n_jobs': None, 'param_grid': {'solver': ['newton-cg', 'lbfgs', 'liblinear'], 'penalty': ['l2'], 'C': [100, 10, 1.0, 0.1, 0.01]}, 'pre_dispatch': '2*n_jobs', 'refit': True, 'return_train_score': False, 'scoring': None, 'verbose': 0}</td>\n",
       "      <td>0.996197</td>\n",
       "      <td>11.207240</td>\n",
       "      <td>0.996197</td>\n",
       "      <td>0.996197</td>\n",
       "    </tr>\n",
       "    <tr>\n",
       "      <th>6</th>\n",
       "      <td>Count Vectorizer and Logistic Regression Lemmetizer</td>\n",
       "      <td>{'memory': None, 'steps': [('transformer', CountVectorizer(stop_words='english')), ('model', LogisticRegression(max_iter=1000))], 'verbose': False, 'transformer': CountVectorizer(stop_words='english'), 'model': LogisticRegression(max_iter=1000), 'transformer__analyzer': 'word', 'transformer__binary': False, 'transformer__decode_error': 'strict', 'transformer__dtype': &lt;class 'numpy.int64'&gt;, 'transformer__encoding': 'utf-8', 'transformer__input': 'content', 'transformer__lowercase': True, 'transformer__max_df': 1.0, 'transformer__max_features': None, 'transformer__min_df': 1, 'transformer__ngram_range': (1, 1), 'transformer__preprocessor': None, 'transformer__stop_words': 'english', 'transformer__strip_accents': None, 'transformer__token_pattern': '(?u)\\b\\w\\w+\\b', 'transformer__tokenizer': None, 'transformer__vocabulary': None, 'model__C': 1.0, 'model__class_weight': None, 'model__dual': False, 'model__fit_intercept': True, 'model__intercept_scaling': 1, 'model__l1_ratio': None, 'model__max_iter': 1000, 'model__multi_class': 'auto', 'model__n_jobs': None, 'model__penalty': 'l2', 'model__random_state': None, 'model__solver': 'lbfgs', 'model__tol': 0.0001, 'model__verbose': 0, 'model__warm_start': False}</td>\n",
       "      <td>0.799037</td>\n",
       "      <td>1.008467</td>\n",
       "      <td>0.799037</td>\n",
       "      <td>0.785093</td>\n",
       "    </tr>\n",
       "    <tr>\n",
       "      <th>7</th>\n",
       "      <td>Count Vectorizer and Logistic Regression Lemmetizer</td>\n",
       "      <td>{'C': 1.0, 'class_weight': None, 'dual': False, 'fit_intercept': True, 'intercept_scaling': 1, 'l1_ratio': None, 'max_iter': 100, 'multi_class': 'auto', 'n_jobs': None, 'penalty': 'l2', 'random_state': None, 'solver': 'lbfgs', 'tol': 0.0001, 'verbose': 0, 'warm_start': False}</td>\n",
       "      <td>0.974868</td>\n",
       "      <td>1.682500</td>\n",
       "      <td>0.974868</td>\n",
       "      <td>0.974868</td>\n",
       "    </tr>\n",
       "    <tr>\n",
       "      <th>8</th>\n",
       "      <td>Count Vectorizer and Logistic Regression Lemmetizer</td>\n",
       "      <td>{'cv': None, 'error_score': nan, 'estimator__C': 1.0, 'estimator__class_weight': None, 'estimator__dual': False, 'estimator__fit_intercept': True, 'estimator__intercept_scaling': 1, 'estimator__l1_ratio': None, 'estimator__max_iter': 1000, 'estimator__multi_class': 'auto', 'estimator__n_jobs': None, 'estimator__penalty': 'l2', 'estimator__random_state': None, 'estimator__solver': 'lbfgs', 'estimator__tol': 0.0001, 'estimator__verbose': 0, 'estimator__warm_start': False, 'estimator': LogisticRegression(max_iter=1000), 'n_jobs': None, 'param_grid': {'solver': ['newton-cg', 'lbfgs', 'liblinear'], 'penalty': ['l2'], 'C': [100, 10, 1.0, 0.1, 0.01]}, 'pre_dispatch': '2*n_jobs', 'refit': True, 'return_train_score': False, 'scoring': None, 'verbose': 0}</td>\n",
       "      <td>0.996197</td>\n",
       "      <td>76.651992</td>\n",
       "      <td>0.996197</td>\n",
       "      <td>0.996197</td>\n",
       "    </tr>\n",
       "  </tbody>\n",
       "</table>\n",
       "</div>"
      ],
      "text/plain": [
       "                                                 model  \\\n",
       "0  Count Vectorizer and Logistic Regression Lemmetizer   \n",
       "1  Count Vectorizer and Logistic Regression Lemmetizer   \n",
       "2  Count Vectorizer and Logistic Regression Lemmetizer   \n",
       "3  Count Vectorizer and Logistic Regression Lemmetizer   \n",
       "4  Count Vectorizer and Logistic Regression Lemmetizer   \n",
       "5  Count Vectorizer and Logistic Regression Lemmetizer   \n",
       "6  Count Vectorizer and Logistic Regression Lemmetizer   \n",
       "7  Count Vectorizer and Logistic Regression Lemmetizer   \n",
       "8  Count Vectorizer and Logistic Regression Lemmetizer   \n",
       "\n",
       "                                                                                                                                                                                                                                                                                                                                                                                                                                                                                                                                                                                                                                                                                                                                                                                                                                                                                                                                                                                                                                                                                                                                                                                                                                                           best_params  \\\n",
       "0  {'memory': None, 'steps': [('transformer', CountVectorizer(stop_words='english')), ('model', LogisticRegression(max_iter=1000))], 'verbose': False, 'transformer': CountVectorizer(stop_words='english'), 'model': LogisticRegression(max_iter=1000), 'transformer__analyzer': 'word', 'transformer__binary': False, 'transformer__decode_error': 'strict', 'transformer__dtype': <class 'numpy.int64'>, 'transformer__encoding': 'utf-8', 'transformer__input': 'content', 'transformer__lowercase': True, 'transformer__max_df': 1.0, 'transformer__max_features': None, 'transformer__min_df': 1, 'transformer__ngram_range': (1, 1), 'transformer__preprocessor': None, 'transformer__stop_words': 'english', 'transformer__strip_accents': None, 'transformer__token_pattern': '(?u)\\b\\w\\w+\\b', 'transformer__tokenizer': None, 'transformer__vocabulary': None, 'model__C': 1.0, 'model__class_weight': None, 'model__dual': False, 'model__fit_intercept': True, 'model__intercept_scaling': 1, 'model__l1_ratio': None, 'model__max_iter': 1000, 'model__multi_class': 'auto', 'model__n_jobs': None, 'model__penalty': 'l2', 'model__random_state': None, 'model__solver': 'lbfgs', 'model__tol': 0.0001, 'model__verbose': 0, 'model__warm_start': False}   \n",
       "1                                                                                                                                                                                                                                                                                                                                                                                                                                                                                                                                                                                                                                                                                                                                                                                                                                                                                                                                                                                 {'C': 1.0, 'class_weight': None, 'dual': False, 'fit_intercept': True, 'intercept_scaling': 1, 'l1_ratio': None, 'max_iter': 100, 'multi_class': 'auto', 'n_jobs': None, 'penalty': 'l2', 'random_state': None, 'solver': 'lbfgs', 'tol': 0.0001, 'verbose': 0, 'warm_start': False}   \n",
       "2                                                                                                                                                                                                                                                                                                                                                                                                                                                                                  {'cv': None, 'error_score': nan, 'estimator__C': 1.0, 'estimator__class_weight': None, 'estimator__dual': False, 'estimator__fit_intercept': True, 'estimator__intercept_scaling': 1, 'estimator__l1_ratio': None, 'estimator__max_iter': 1000, 'estimator__multi_class': 'auto', 'estimator__n_jobs': None, 'estimator__penalty': 'l2', 'estimator__random_state': None, 'estimator__solver': 'lbfgs', 'estimator__tol': 0.0001, 'estimator__verbose': 0, 'estimator__warm_start': False, 'estimator': LogisticRegression(max_iter=1000), 'n_jobs': None, 'param_grid': {'solver': ['newton-cg', 'lbfgs', 'liblinear'], 'penalty': ['l2'], 'C': [100, 10, 1.0, 0.1, 0.01]}, 'pre_dispatch': '2*n_jobs', 'refit': True, 'return_train_score': False, 'scoring': None, 'verbose': 0}   \n",
       "3  {'memory': None, 'steps': [('transformer', CountVectorizer(stop_words='english')), ('model', LogisticRegression(max_iter=1000))], 'verbose': False, 'transformer': CountVectorizer(stop_words='english'), 'model': LogisticRegression(max_iter=1000), 'transformer__analyzer': 'word', 'transformer__binary': False, 'transformer__decode_error': 'strict', 'transformer__dtype': <class 'numpy.int64'>, 'transformer__encoding': 'utf-8', 'transformer__input': 'content', 'transformer__lowercase': True, 'transformer__max_df': 1.0, 'transformer__max_features': None, 'transformer__min_df': 1, 'transformer__ngram_range': (1, 1), 'transformer__preprocessor': None, 'transformer__stop_words': 'english', 'transformer__strip_accents': None, 'transformer__token_pattern': '(?u)\\b\\w\\w+\\b', 'transformer__tokenizer': None, 'transformer__vocabulary': None, 'model__C': 1.0, 'model__class_weight': None, 'model__dual': False, 'model__fit_intercept': True, 'model__intercept_scaling': 1, 'model__l1_ratio': None, 'model__max_iter': 1000, 'model__multi_class': 'auto', 'model__n_jobs': None, 'model__penalty': 'l2', 'model__random_state': None, 'model__solver': 'lbfgs', 'model__tol': 0.0001, 'model__verbose': 0, 'model__warm_start': False}   \n",
       "4                                                                                                                                                                                                                                                                                                                                                                                                                                                                                                                                                                                                                                                                                                                                                                                                                                                                                                                                                                                 {'C': 1.0, 'class_weight': None, 'dual': False, 'fit_intercept': True, 'intercept_scaling': 1, 'l1_ratio': None, 'max_iter': 100, 'multi_class': 'auto', 'n_jobs': None, 'penalty': 'l2', 'random_state': None, 'solver': 'lbfgs', 'tol': 0.0001, 'verbose': 0, 'warm_start': False}   \n",
       "5                                                                                                                                                                                                                                                                                                                                                                                                                                                                                  {'cv': None, 'error_score': nan, 'estimator__C': 1.0, 'estimator__class_weight': None, 'estimator__dual': False, 'estimator__fit_intercept': True, 'estimator__intercept_scaling': 1, 'estimator__l1_ratio': None, 'estimator__max_iter': 1000, 'estimator__multi_class': 'auto', 'estimator__n_jobs': None, 'estimator__penalty': 'l2', 'estimator__random_state': None, 'estimator__solver': 'lbfgs', 'estimator__tol': 0.0001, 'estimator__verbose': 0, 'estimator__warm_start': False, 'estimator': LogisticRegression(max_iter=1000), 'n_jobs': None, 'param_grid': {'solver': ['newton-cg', 'lbfgs', 'liblinear'], 'penalty': ['l2'], 'C': [100, 10, 1.0, 0.1, 0.01]}, 'pre_dispatch': '2*n_jobs', 'refit': True, 'return_train_score': False, 'scoring': None, 'verbose': 0}   \n",
       "6  {'memory': None, 'steps': [('transformer', CountVectorizer(stop_words='english')), ('model', LogisticRegression(max_iter=1000))], 'verbose': False, 'transformer': CountVectorizer(stop_words='english'), 'model': LogisticRegression(max_iter=1000), 'transformer__analyzer': 'word', 'transformer__binary': False, 'transformer__decode_error': 'strict', 'transformer__dtype': <class 'numpy.int64'>, 'transformer__encoding': 'utf-8', 'transformer__input': 'content', 'transformer__lowercase': True, 'transformer__max_df': 1.0, 'transformer__max_features': None, 'transformer__min_df': 1, 'transformer__ngram_range': (1, 1), 'transformer__preprocessor': None, 'transformer__stop_words': 'english', 'transformer__strip_accents': None, 'transformer__token_pattern': '(?u)\\b\\w\\w+\\b', 'transformer__tokenizer': None, 'transformer__vocabulary': None, 'model__C': 1.0, 'model__class_weight': None, 'model__dual': False, 'model__fit_intercept': True, 'model__intercept_scaling': 1, 'model__l1_ratio': None, 'model__max_iter': 1000, 'model__multi_class': 'auto', 'model__n_jobs': None, 'model__penalty': 'l2', 'model__random_state': None, 'model__solver': 'lbfgs', 'model__tol': 0.0001, 'model__verbose': 0, 'model__warm_start': False}   \n",
       "7                                                                                                                                                                                                                                                                                                                                                                                                                                                                                                                                                                                                                                                                                                                                                                                                                                                                                                                                                                                 {'C': 1.0, 'class_weight': None, 'dual': False, 'fit_intercept': True, 'intercept_scaling': 1, 'l1_ratio': None, 'max_iter': 100, 'multi_class': 'auto', 'n_jobs': None, 'penalty': 'l2', 'random_state': None, 'solver': 'lbfgs', 'tol': 0.0001, 'verbose': 0, 'warm_start': False}   \n",
       "8                                                                                                                                                                                                                                                                                                                                                                                                                                                                                  {'cv': None, 'error_score': nan, 'estimator__C': 1.0, 'estimator__class_weight': None, 'estimator__dual': False, 'estimator__fit_intercept': True, 'estimator__intercept_scaling': 1, 'estimator__l1_ratio': None, 'estimator__max_iter': 1000, 'estimator__multi_class': 'auto', 'estimator__n_jobs': None, 'estimator__penalty': 'l2', 'estimator__random_state': None, 'estimator__solver': 'lbfgs', 'estimator__tol': 0.0001, 'estimator__verbose': 0, 'estimator__warm_start': False, 'estimator': LogisticRegression(max_iter=1000), 'n_jobs': None, 'param_grid': {'solver': ['newton-cg', 'lbfgs', 'liblinear'], 'penalty': ['l2'], 'C': [100, 10, 1.0, 0.1, 0.01]}, 'pre_dispatch': '2*n_jobs', 'refit': True, 'return_train_score': False, 'scoring': None, 'verbose': 0}   \n",
       "\n",
       "   best_score  best_time  accuracy_score  roc_auc_score  \n",
       "0    0.799037   0.216492        0.799037       0.785093  \n",
       "1    0.974868   0.242936        0.974868       0.974868  \n",
       "2    0.996197  11.377976        0.996197       0.996197  \n",
       "3    0.799037   0.214706        0.799037       0.785093  \n",
       "4    0.974868   0.231159        0.974868       0.974868  \n",
       "5    0.996197  11.207240        0.996197       0.996197  \n",
       "6    0.799037   1.008467        0.799037       0.785093  \n",
       "7    0.974868   1.682500        0.974868       0.974868  \n",
       "8    0.996197  76.651992        0.996197       0.996197  "
      ]
     },
     "execution_count": 56,
     "metadata": {},
     "output_type": "execute_result"
    },
    {
     "data": {
      "image/png": "[encoded data removed]",
      "text/plain": [
       "<Figure size 432x288 with 2 Axes>"
      ]
     },
     "metadata": {
      "needs_background": "light"
     },
     "output_type": "display_data"
    }
   ],
   "source": [
    "df = print_model_data('Count Vectorizer and Logistic Regression Lemmetizer',\n",
    "                 model_execute(grid,Xb_train,yb_train),\n",
    "                 grid,\n",
    "                 Xb_train,\n",
    "                 Xb_test,\n",
    "                 yb_train,\n",
    "                 yb_test,\n",
    "                 False)\n",
    "df"
   ]
  },
  {
   "cell_type": "markdown",
   "id": "c157aa04",
   "metadata": {},
   "source": [
    "# <span style=\"color: green;\">Predict on live Tweet Data of last 15 mins capped to 15 tweets</span>"
   ]
  },
  {
   "cell_type": "code",
   "execution_count": 58,
   "id": "8f5ac314",
   "metadata": {},
   "outputs": [
    {
     "data": {
      "text/html": [
       "<div>\n",
       "<style scoped>\n",
       "    .dataframe tbody tr th:only-of-type {\n",
       "        vertical-align: middle;\n",
       "    }\n",
       "\n",
       "    .dataframe tbody tr th {\n",
       "        vertical-align: top;\n",
       "    }\n",
       "\n",
       "    .dataframe thead th {\n",
       "        text-align: right;\n",
       "    }\n",
       "</style>\n",
       "<table border=\"1\" class=\"dataframe\">\n",
       "  <thead>\n",
       "    <tr style=\"text-align: right;\">\n",
       "      <th></th>\n",
       "      <th>tweets</th>\n",
       "      <th>pred</th>\n",
       "    </tr>\n",
       "  </thead>\n",
       "  <tbody>\n",
       "    <tr>\n",
       "      <th>0</th>\n",
       "      <td>RT @SA__moment: The original GBS thread \"the World Trade Center is on fire\" from September 11th, 2001 has been preserved. If you are too yo…</td>\n",
       "      <td>0</td>\n",
       "    </tr>\n",
       "    <tr>\n",
       "      <th>1</th>\n",
       "      <td>Fire which that kept us apart. I https://t.co/73CxuhIpR3</td>\n",
       "      <td>0</td>\n",
       "    </tr>\n",
       "    <tr>\n",
       "      <th>2</th>\n",
       "      <td>RT @HotshotWake: Idaho: Burn Ops on the Moose Fire. Shoutout Snake River Hotshots. #moosefire #idaho #wildfire https://t.co/KIgxpQODbo</td>\n",
       "      <td>1</td>\n",
       "    </tr>\n",
       "    <tr>\n",
       "      <th>3</th>\n",
       "      <td>Now Playing A World Consumed In Fire by Imprecation https://t.co/Uf3LvjIX61</td>\n",
       "      <td>0</td>\n",
       "    </tr>\n",
       "    <tr>\n",
       "      <th>4</th>\n",
       "      <td>RT @TansuYegen: Awesome drawing with fire on wood👏\\nArtist: @Alexpeter_idoko https://t.co/XS8uTp04WJ</td>\n",
       "      <td>0</td>\n",
       "    </tr>\n",
       "    <tr>\n",
       "      <th>5</th>\n",
       "      <td>Design quite with paper buy fire step serve. ['https://t.co/WmYcgvvltL']</td>\n",
       "      <td>0</td>\n",
       "    </tr>\n",
       "    <tr>\n",
       "      <th>6</th>\n",
       "      <td>RT @barstoolsports: Nebraska fans when they fire Scott Frost https://t.co/rRA3vQeDyD</td>\n",
       "      <td>0</td>\n",
       "    </tr>\n",
       "    <tr>\n",
       "      <th>7</th>\n",
       "      <td>RT @AdamForColorado: @RonFilipkowski What an embarrassment. If you’d like to help fire Lauren Boebert and send me to Washington instead aft…</td>\n",
       "      <td>0</td>\n",
       "    </tr>\n",
       "    <tr>\n",
       "      <th>8</th>\n",
       "      <td>@Melissa63825561 Design quite with paper buy fire step serve.</td>\n",
       "      <td>0</td>\n",
       "    </tr>\n",
       "    <tr>\n",
       "      <th>9</th>\n",
       "      <td>RT @haecful: this is a fancam from the front and back view when haechan makes a wave dance on the fire alarm. oh the great performance 🌟 ht…</td>\n",
       "      <td>0</td>\n",
       "    </tr>\n",
       "    <tr>\n",
       "      <th>10</th>\n",
       "      <td>RT @Greek_Genocide: \"The Turkish soldiers set fire to the city and raped and killed countless Christian refugees while French, British, Ita…</td>\n",
       "      <td>1</td>\n",
       "    </tr>\n",
       "    <tr>\n",
       "      <th>11</th>\n",
       "      <td>RT @slybash: im sorry sirs but in my culture it is customary to light our houseguests on fire and force them to drink sulfuric acid</td>\n",
       "      <td>0</td>\n",
       "    </tr>\n",
       "    <tr>\n",
       "      <th>12</th>\n",
       "      <td>RT @ClutchPointsApp: Klay Thompson catches FIRE and drills 22 3-point shots in a row during this workout 🔥\\n\\n(via swishcultures/IG)\\n\\nhttps:/…</td>\n",
       "      <td>0</td>\n",
       "    </tr>\n",
       "    <tr>\n",
       "      <th>13</th>\n",
       "      <td>RT @Robelgz: \"Prior to the ending of the cease-fire, following the attack by\\n🇪🇹|n govt &amp;amp; @🇪🇷|n forces, Tigray had witnessed a swathe of hum…</td>\n",
       "      <td>1</td>\n",
       "    </tr>\n",
       "    <tr>\n",
       "      <th>14</th>\n",
       "      <td>RT @Marcus4Georgia: Marjorie Taylor Greene does not serve on any committees, has not passed a single bill since taking office, and spends h…</td>\n",
       "      <td>0</td>\n",
       "    </tr>\n",
       "  </tbody>\n",
       "</table>\n",
       "</div>"
      ],
      "text/plain": [
       "                                                                                                                                               tweets  \\\n",
       "0        RT @SA__moment: The original GBS thread \"the World Trade Center is on fire\" from September 11th, 2001 has been preserved. If you are too yo…   \n",
       "1                                                                                            Fire which that kept us apart. I https://t.co/73CxuhIpR3   \n",
       "2              RT @HotshotWake: Idaho: Burn Ops on the Moose Fire. Shoutout Snake River Hotshots. #moosefire #idaho #wildfire https://t.co/KIgxpQODbo   \n",
       "3                                                                         Now Playing A World Consumed In Fire by Imprecation https://t.co/Uf3LvjIX61   \n",
       "4                                                RT @TansuYegen: Awesome drawing with fire on wood👏\\nArtist: @Alexpeter_idoko https://t.co/XS8uTp04WJ   \n",
       "5                                                                            Design quite with paper buy fire step serve. ['https://t.co/WmYcgvvltL']   \n",
       "6                                                                RT @barstoolsports: Nebraska fans when they fire Scott Frost https://t.co/rRA3vQeDyD   \n",
       "7        RT @AdamForColorado: @RonFilipkowski What an embarrassment. If you’d like to help fire Lauren Boebert and send me to Washington instead aft…   \n",
       "8                                                                                       @Melissa63825561 Design quite with paper buy fire step serve.   \n",
       "9        RT @haecful: this is a fancam from the front and back view when haechan makes a wave dance on the fire alarm. oh the great performance 🌟 ht…   \n",
       "10       RT @Greek_Genocide: \"The Turkish soldiers set fire to the city and raped and killed countless Christian refugees while French, British, Ita…   \n",
       "11                RT @slybash: im sorry sirs but in my culture it is customary to light our houseguests on fire and force them to drink sulfuric acid   \n",
       "12   RT @ClutchPointsApp: Klay Thompson catches FIRE and drills 22 3-point shots in a row during this workout 🔥\\n\\n(via swishcultures/IG)\\n\\nhttps:/…   \n",
       "13  RT @Robelgz: \"Prior to the ending of the cease-fire, following the attack by\\n🇪🇹|n govt &amp; @🇪🇷|n forces, Tigray had witnessed a swathe of hum…   \n",
       "14       RT @Marcus4Georgia: Marjorie Taylor Greene does not serve on any committees, has not passed a single bill since taking office, and spends h…   \n",
       "\n",
       "    pred  \n",
       "0      0  \n",
       "1      0  \n",
       "2      1  \n",
       "3      0  \n",
       "4      0  \n",
       "5      0  \n",
       "6      0  \n",
       "7      0  \n",
       "8      0  \n",
       "9      0  \n",
       "10     1  \n",
       "11     0  \n",
       "12     0  \n",
       "13     1  \n",
       "14     0  "
      ]
     },
     "execution_count": 58,
     "metadata": {},
     "output_type": "execute_result"
    }
   ],
   "source": [
    "live_tweets=get_live_tweets()\n",
    "live_tweets['pred'] = cvect_lr_pipe.predict(live_tweets['tweets'])\n",
    "live_tweets\n"
   ]
  },
  {
   "cell_type": "code",
   "execution_count": null,
   "id": "be0e7777",
   "metadata": {},
   "outputs": [],
   "source": []
  }
 ],
 "metadata": {
  "kernelspec": {
   "display_name": "Python 3 (ipykernel)",
   "language": "python",
   "name": "python3"
  },
  "language_info": {
   "codemirror_mode": {
    "name": "ipython",
    "version": 3
   },
   "file_extension": ".py",
   "mimetype": "text/x-python",
   "name": "python",
   "nbconvert_exporter": "python",
   "pygments_lexer": "ipython3",
   "version": "3.9.7"
  }
 },
 "nbformat": 4,
 "nbformat_minor": 5
}
