{
 "cells": [
  {
   "cell_type": "markdown",
   "id": "0c47db5e",
   "metadata": {},
   "source": [
    "# <span style=\"color: blue;\">Model creation and execution with Count Vectorizer with Stemmer Applied and Logistic Regression :-</span>"
   ]
  },
  {
   "cell_type": "markdown",
   "id": "69995cb3",
   "metadata": {},
   "source": [
    "# <span style=\"color: green;\">Required Imports to run the model</span>"
   ]
  },
  {
   "cell_type": "code",
   "execution_count": 1,
   "id": "e5b9c540",
   "metadata": {},
   "outputs": [
    {
     "data": {
      "text/html": [
       "<script>\n",
       "    code_show_err=false; \n",
       "    function code_toggle_err() {\n",
       "     if (code_show_err){\n",
       "     $('div.output_stderr').hide();\n",
       "     } else {\n",
       "     $('div.output_stderr').show();\n",
       "     }\n",
       "     code_show_err = !code_show_err\n",
       "    } \n",
       "    $( document ).ready(code_toggle_err);\n",
       "    </script>\n",
       "    To toggle on/off output_stderr, click <a href=\"javascript:code_toggle_err()\">here</a>."
      ],
      "text/plain": [
       "<IPython.core.display.HTML object>"
      ]
     },
     "execution_count": 1,
     "metadata": {},
     "output_type": "execute_result"
    }
   ],
   "source": [
    "from IPython.display import HTML\n",
    "HTML('''<script>\n",
    "    code_show_err=false; \n",
    "    function code_toggle_err() {\n",
    "     if (code_show_err){\n",
    "     $('div.output_stderr').hide();\n",
    "     } else {\n",
    "     $('div.output_stderr').show();\n",
    "     }\n",
    "     code_show_err = !code_show_err\n",
    "    } \n",
    "    $( document ).ready(code_toggle_err);\n",
    "    </script>\n",
    "    To toggle on/off output_stderr, click <a href=\"javascript:code_toggle_err()\">here</a>.''')\n"
   ]
  },
  {
   "cell_type": "code",
   "execution_count": 2,
   "id": "025445d3",
   "metadata": {},
   "outputs": [],
   "source": [
    "import pandas as pd\n",
    "import time\n",
    "import matplotlib.pyplot as plt\n",
    "import pandas as pd\n",
    "import seaborn as sns\n",
    "import matplotlib.pyplot as plt\n",
    "import numpy as np\n",
    "import nltk"
   ]
  },
  {
   "cell_type": "code",
   "execution_count": 3,
   "id": "8b993ba4",
   "metadata": {},
   "outputs": [],
   "source": [
    "from sklearn.feature_extraction.text import TfidfVectorizer\n",
    "from sklearn.pipeline import Pipeline \n",
    "from sklearn.model_selection import train_test_split, GridSearchCV\n",
    "from sklearn.linear_model import LogisticRegression\n",
    "from sklearn.feature_extraction.text import CountVectorizer, TfidfVectorizer\n",
    "from sklearn.naive_bayes import MultinomialNB\n",
    "from sklearn.tree import DecisionTreeClassifier\n",
    "from sklearn.metrics import accuracy_score, roc_auc_score\n",
    "from sklearn.metrics import confusion_matrix\n",
    "from sklearn import metrics\n",
    "from nltk.stem import PorterStemmer, WordNetLemmatizer\n",
    "from nltk import word_tokenize\n",
    "from imblearn.over_sampling import SMOTE\n",
    "from sklearn.feature_extraction.text import TfidfTransformer\n",
    "from sklearn.naive_bayes import MultinomialNB"
   ]
  },
  {
   "cell_type": "code",
   "execution_count": 4,
   "id": "6f903a15",
   "metadata": {},
   "outputs": [],
   "source": [
    "pd.set_option('display.max_colwidth', None)"
   ]
  },
  {
   "cell_type": "markdown",
   "id": "eb55905f",
   "metadata": {},
   "source": [
    "# <span style=\"color: green;\">Helper methods imported from helper function file</span>"
   ]
  },
  {
   "cell_type": "code",
   "execution_count": 5,
   "id": "593ba495",
   "metadata": {},
   "outputs": [
    {
     "name": "stderr",
     "output_type": "stream",
     "text": [
      "/Users/achandrasekhar/git-personal/ML_AI/CapStone/function.ipynb:113: SettingWithCopyWarning: \n",
      "A value is trying to be set on a copy of a slice from a DataFrame.\n",
      "Try using .loc[row_indexer,col_indexer] = value instead\n",
      "\n",
      "See the caveats in the documentation: https://pandas.pydata.org/pandas-docs/stable/user_guide/indexing.html#returning-a-view-versus-a-copy\n",
      "  \"\\n\",\n"
     ]
    },
    {
     "name": "stdout",
     "output_type": "stream",
     "text": [
      "<class 'pandas.core.frame.DataFrame'>\n",
      "RangeIndex: 0 entries\n",
      "Data columns (total 6 columns):\n",
      " #   Column          Non-Null Count  Dtype \n",
      "---  ------          --------------  ----- \n",
      " 0   model           0 non-null      object\n",
      " 1   best_params     0 non-null      object\n",
      " 2   best_score      0 non-null      object\n",
      " 3   best_time       0 non-null      object\n",
      " 4   accuracy_score  0 non-null      object\n",
      " 5   roc_auc_score   0 non-null      object\n",
      "dtypes: object(6)\n",
      "memory usage: 124.0+ bytes\n",
      "None\n"
     ]
    },
    {
     "name": "stderr",
     "output_type": "stream",
     "text": [
      "/Users/achandrasekhar/git-personal/ML_AI/CapStone/function.ipynb:114: SettingWithCopyWarning: \n",
      "A value is trying to be set on a copy of a slice from a DataFrame.\n",
      "Try using .loc[row_indexer,col_indexer] = value instead\n",
      "\n",
      "See the caveats in the documentation: https://pandas.pydata.org/pandas-docs/stable/user_guide/indexing.html#returning-a-view-versus-a-copy\n",
      "  \"from pyrfc3339 import generate, parse\"\n"
     ]
    }
   ],
   "source": [
    "#from ipynb.fs.full.function import stemmer\n",
    "#from ipynb.fs.full.function import lemmetizer\n",
    "#from ipynb.fs.full.my_functions import factorial\n",
    "from ipynb.fs.full.function import print_model_data\n",
    "from ipynb.fs.full.function import model_execute\n",
    "from ipynb.fs.full.function import stemm_data\n",
    "from ipynb.fs.full.function import lemm_data\n",
    "from ipynb.fs.full.function import class_balancer\n",
    "from ipynb.fs.full.function import bar_plot\n",
    "from ipynb.fs.full.function import get_data\n",
    "from ipynb.fs.full.function import remove_punctuation_func\n",
    "from ipynb.fs.full.function import data_cleanup_for_balancer_stemmer\n",
    "from ipynb.fs.full.function import get_live_tweets"
   ]
  },
  {
   "cell_type": "markdown",
   "id": "86707958",
   "metadata": {},
   "source": [
    "# <span style=\"color: green;\">Pipe created for Count Vectorizer and Logistic Regression model</span>"
   ]
  },
  {
   "cell_type": "code",
   "execution_count": 6,
   "id": "2c808d43",
   "metadata": {},
   "outputs": [],
   "source": [
    "cvect_lr_pipe=Pipeline([('transformer', CountVectorizer(stop_words='english')),\n",
    "                       ('model', LogisticRegression(max_iter=1000))])"
   ]
  },
  {
   "cell_type": "code",
   "execution_count": 7,
   "id": "328a28eb",
   "metadata": {},
   "outputs": [
    {
     "data": {
      "text/html": [
       "<div>\n",
       "<style scoped>\n",
       "    .dataframe tbody tr th:only-of-type {\n",
       "        vertical-align: middle;\n",
       "    }\n",
       "\n",
       "    .dataframe tbody tr th {\n",
       "        vertical-align: top;\n",
       "    }\n",
       "\n",
       "    .dataframe thead th {\n",
       "        text-align: right;\n",
       "    }\n",
       "</style>\n",
       "<table border=\"1\" class=\"dataframe\">\n",
       "  <thead>\n",
       "    <tr style=\"text-align: right;\">\n",
       "      <th></th>\n",
       "      <th>text</th>\n",
       "      <th>stemmer</th>\n",
       "      <th>lemmetizer</th>\n",
       "    </tr>\n",
       "  </thead>\n",
       "  <tbody>\n",
       "    <tr>\n",
       "      <th>0</th>\n",
       "      <td>Our Deeds are the Reason of this #earthquake May ALLAH Forgive us all</td>\n",
       "      <td>our deed are the reason of thi # earthquak may allah forgiv us all</td>\n",
       "      <td>Our Deeds are the Reason of this # earthquake May ALLAH Forgive u all</td>\n",
       "    </tr>\n",
       "    <tr>\n",
       "      <th>1</th>\n",
       "      <td>Forest fire near La Ronge Sask. Canada</td>\n",
       "      <td>forest fire near la rong sask . canada</td>\n",
       "      <td>Forest fire near La Ronge Sask . Canada</td>\n",
       "    </tr>\n",
       "    <tr>\n",
       "      <th>2</th>\n",
       "      <td>All residents asked to 'shelter in place' are being notified by officers. No other evacuation or shelter in place orders are expected</td>\n",
       "      <td>all resid ask to 'shelter in place ' are be notifi by offic . no other evacu or shelter in place order are expect</td>\n",
       "      <td>All resident asked to 'shelter in place ' are being notified by officer . No other evacuation or shelter in place order are expected</td>\n",
       "    </tr>\n",
       "    <tr>\n",
       "      <th>3</th>\n",
       "      <td>13,000 people receive #wildfires evacuation orders in California</td>\n",
       "      <td>13,000 peopl receiv # wildfir evacu order in california</td>\n",
       "      <td>13,000 people receive # wildfire evacuation order in California</td>\n",
       "    </tr>\n",
       "    <tr>\n",
       "      <th>4</th>\n",
       "      <td>Just got sent this photo from Ruby #Alaska as smoke from #wildfires pours into a school</td>\n",
       "      <td>just got sent thi photo from rubi # alaska as smoke from # wildfir pour into a school</td>\n",
       "      <td>Just got sent this photo from Ruby # Alaska a smoke from # wildfire pours into a school</td>\n",
       "    </tr>\n",
       "    <tr>\n",
       "      <th>...</th>\n",
       "      <td>...</td>\n",
       "      <td>...</td>\n",
       "      <td>...</td>\n",
       "    </tr>\n",
       "    <tr>\n",
       "      <th>7608</th>\n",
       "      <td>Two giant cranes holding a bridge collapse into nearby homes http://t.co/STfMbbZFB5</td>\n",
       "      <td>two giant crane hold a bridg collaps into nearbi home http : //t.co/stfmbbzfb5</td>\n",
       "      <td>Two giant crane holding a bridge collapse into nearby home http : //t.co/STfMbbZFB5</td>\n",
       "    </tr>\n",
       "    <tr>\n",
       "      <th>7609</th>\n",
       "      <td>@aria_ahrary @TheTawniest The out of control wild fires in California even in the Northern part of the state. Very troubling.</td>\n",
       "      <td>@ aria_ahrari @ thetawniest the out of control wild fire in california even in the northern part of the state . veri troubl .</td>\n",
       "      <td>@ aria_ahrary @ TheTawniest The out of control wild fire in California even in the Northern part of the state . Very troubling .</td>\n",
       "    </tr>\n",
       "    <tr>\n",
       "      <th>7610</th>\n",
       "      <td>M1.94 [01:04 UTC]?5km S of Volcano Hawaii. http://t.co/zDtoyd8EbJ</td>\n",
       "      <td>m1.94 [ 01:04 utc ] ? 5km s of volcano hawaii . http : //t.co/zdtoyd8ebj</td>\n",
       "      <td>M1.94 [ 01:04 UTC ] ? 5km S of Volcano Hawaii . http : //t.co/zDtoyd8EbJ</td>\n",
       "    </tr>\n",
       "    <tr>\n",
       "      <th>7611</th>\n",
       "      <td>Police investigating after an e-bike collided with a car in Little Portugal. E-bike rider suffered serious non-life threatening injuries.</td>\n",
       "      <td>polic investig after an e-bik collid with a car in littl portug . e-bik rider suffer seriou non-lif threaten injuri .</td>\n",
       "      <td>Police investigating after an e-bike collided with a car in Little Portugal . E-bike rider suffered serious non-life threatening injury .</td>\n",
       "    </tr>\n",
       "    <tr>\n",
       "      <th>7612</th>\n",
       "      <td>The Latest: More Homes Razed by Northern California Wildfire - ABC News http://t.co/YmY4rSkQ3d</td>\n",
       "      <td>the latest : more home raze by northern california wildfir - abc new http : //t.co/ymy4rskq3d</td>\n",
       "      <td>The Latest : More Homes Razed by Northern California Wildfire - ABC News http : //t.co/YmY4rSkQ3d</td>\n",
       "    </tr>\n",
       "  </tbody>\n",
       "</table>\n",
       "<p>7613 rows × 3 columns</p>\n",
       "</div>"
      ],
      "text/plain": [
       "                                                                                                                                           text  \\\n",
       "0                                                                         Our Deeds are the Reason of this #earthquake May ALLAH Forgive us all   \n",
       "1                                                                                                        Forest fire near La Ronge Sask. Canada   \n",
       "2         All residents asked to 'shelter in place' are being notified by officers. No other evacuation or shelter in place orders are expected   \n",
       "3                                                                             13,000 people receive #wildfires evacuation orders in California    \n",
       "4                                                      Just got sent this photo from Ruby #Alaska as smoke from #wildfires pours into a school    \n",
       "...                                                                                                                                         ...   \n",
       "7608                                                        Two giant cranes holding a bridge collapse into nearby homes http://t.co/STfMbbZFB5   \n",
       "7609              @aria_ahrary @TheTawniest The out of control wild fires in California even in the Northern part of the state. Very troubling.   \n",
       "7610                                                                          M1.94 [01:04 UTC]?5km S of Volcano Hawaii. http://t.co/zDtoyd8EbJ   \n",
       "7611  Police investigating after an e-bike collided with a car in Little Portugal. E-bike rider suffered serious non-life threatening injuries.   \n",
       "7612                                             The Latest: More Homes Razed by Northern California Wildfire - ABC News http://t.co/YmY4rSkQ3d   \n",
       "\n",
       "                                                                                                                            stemmer  \\\n",
       "0                                                                our deed are the reason of thi # earthquak may allah forgiv us all   \n",
       "1                                                                                            forest fire near la rong sask . canada   \n",
       "2                 all resid ask to 'shelter in place ' are be notifi by offic . no other evacu or shelter in place order are expect   \n",
       "3                                                                           13,000 peopl receiv # wildfir evacu order in california   \n",
       "4                                             just got sent thi photo from rubi # alaska as smoke from # wildfir pour into a school   \n",
       "...                                                                                                                             ...   \n",
       "7608                                                 two giant crane hold a bridg collaps into nearbi home http : //t.co/stfmbbzfb5   \n",
       "7609  @ aria_ahrari @ thetawniest the out of control wild fire in california even in the northern part of the state . veri troubl .   \n",
       "7610                                                       m1.94 [ 01:04 utc ] ? 5km s of volcano hawaii . http : //t.co/zdtoyd8ebj   \n",
       "7611          polic investig after an e-bik collid with a car in littl portug . e-bik rider suffer seriou non-lif threaten injuri .   \n",
       "7612                                  the latest : more home raze by northern california wildfir - abc new http : //t.co/ymy4rskq3d   \n",
       "\n",
       "                                                                                                                                     lemmetizer  \n",
       "0                                                                         Our Deeds are the Reason of this # earthquake May ALLAH Forgive u all  \n",
       "1                                                                                                       Forest fire near La Ronge Sask . Canada  \n",
       "2          All resident asked to 'shelter in place ' are being notified by officer . No other evacuation or shelter in place order are expected  \n",
       "3                                                                               13,000 people receive # wildfire evacuation order in California  \n",
       "4                                                       Just got sent this photo from Ruby # Alaska a smoke from # wildfire pours into a school  \n",
       "...                                                                                                                                         ...  \n",
       "7608                                                        Two giant crane holding a bridge collapse into nearby home http : //t.co/STfMbbZFB5  \n",
       "7609           @ aria_ahrary @ TheTawniest The out of control wild fire in California even in the Northern part of the state . Very troubling .  \n",
       "7610                                                                   M1.94 [ 01:04 UTC ] ? 5km S of Volcano Hawaii . http : //t.co/zDtoyd8EbJ  \n",
       "7611  Police investigating after an e-bike collided with a car in Little Portugal . E-bike rider suffered serious non-life threatening injury .  \n",
       "7612                                          The Latest : More Homes Razed by Northern California Wildfire - ABC News http : //t.co/YmY4rSkQ3d  \n",
       "\n",
       "[7613 rows x 3 columns]"
      ]
     },
     "execution_count": 7,
     "metadata": {},
     "output_type": "execute_result"
    }
   ],
   "source": [
    "X,y=get_data()\n",
    "X"
   ]
  },
  {
   "cell_type": "code",
   "execution_count": 8,
   "id": "b1608a89",
   "metadata": {},
   "outputs": [],
   "source": [
    "X_train,X_test,y_train,y_test=train_test_split(X['stemmer'],y,test_size=0.3,random_state=42)"
   ]
  },
  {
   "cell_type": "markdown",
   "id": "a65b4a57",
   "metadata": {},
   "source": [
    "# <span style=\"color: green;\">Run the model with raw data loaded</span>"
   ]
  },
  {
   "cell_type": "code",
   "execution_count": 9,
   "id": "78323960",
   "metadata": {},
   "outputs": [
    {
     "data": {
      "text/html": [
       "<div>\n",
       "<style scoped>\n",
       "    .dataframe tbody tr th:only-of-type {\n",
       "        vertical-align: middle;\n",
       "    }\n",
       "\n",
       "    .dataframe tbody tr th {\n",
       "        vertical-align: top;\n",
       "    }\n",
       "\n",
       "    .dataframe thead th {\n",
       "        text-align: right;\n",
       "    }\n",
       "</style>\n",
       "<table border=\"1\" class=\"dataframe\">\n",
       "  <thead>\n",
       "    <tr style=\"text-align: right;\">\n",
       "      <th></th>\n",
       "      <th>model</th>\n",
       "      <th>best_params</th>\n",
       "      <th>best_score</th>\n",
       "      <th>best_time</th>\n",
       "      <th>accuracy_score</th>\n",
       "      <th>roc_auc_score</th>\n",
       "    </tr>\n",
       "  </thead>\n",
       "  <tbody>\n",
       "    <tr>\n",
       "      <th>0</th>\n",
       "      <td>Count Vectorizer and Logistic Regression Stemmer</td>\n",
       "      <td>{'memory': None, 'steps': [('transformer', CountVectorizer(stop_words='english')), ('model', LogisticRegression(max_iter=1000))], 'verbose': False, 'transformer': CountVectorizer(stop_words='english'), 'model': LogisticRegression(max_iter=1000), 'transformer__analyzer': 'word', 'transformer__binary': False, 'transformer__decode_error': 'strict', 'transformer__dtype': &lt;class 'numpy.int64'&gt;, 'transformer__encoding': 'utf-8', 'transformer__input': 'content', 'transformer__lowercase': True, 'transformer__max_df': 1.0, 'transformer__max_features': None, 'transformer__min_df': 1, 'transformer__ngram_range': (1, 1), 'transformer__preprocessor': None, 'transformer__stop_words': 'english', 'transformer__strip_accents': None, 'transformer__token_pattern': '(?u)\\b\\w\\w+\\b', 'transformer__tokenizer': None, 'transformer__vocabulary': None, 'model__C': 1.0, 'model__class_weight': None, 'model__dual': False, 'model__fit_intercept': True, 'model__intercept_scaling': 1, 'model__l1_ratio': None, 'model__max_iter': 1000, 'model__multi_class': 'auto', 'model__n_jobs': None, 'model__penalty': 'l2', 'model__random_state': None, 'model__solver': 'lbfgs', 'model__tol': 0.0001, 'model__verbose': 0, 'model__warm_start': False}</td>\n",
       "      <td>0.795534</td>\n",
       "      <td>1.465284</td>\n",
       "      <td>0.795534</td>\n",
       "      <td>0.782335</td>\n",
       "    </tr>\n",
       "  </tbody>\n",
       "</table>\n",
       "</div>"
      ],
      "text/plain": [
       "                                              model  \\\n",
       "0  Count Vectorizer and Logistic Regression Stemmer   \n",
       "\n",
       "                                                                                                                                                                                                                                                                                                                                                                                                                                                                                                                                                                                                                                                                                                                                                                                                                                                                                                                                                                                                                                                                                                                                                                                                                                                           best_params  \\\n",
       "0  {'memory': None, 'steps': [('transformer', CountVectorizer(stop_words='english')), ('model', LogisticRegression(max_iter=1000))], 'verbose': False, 'transformer': CountVectorizer(stop_words='english'), 'model': LogisticRegression(max_iter=1000), 'transformer__analyzer': 'word', 'transformer__binary': False, 'transformer__decode_error': 'strict', 'transformer__dtype': <class 'numpy.int64'>, 'transformer__encoding': 'utf-8', 'transformer__input': 'content', 'transformer__lowercase': True, 'transformer__max_df': 1.0, 'transformer__max_features': None, 'transformer__min_df': 1, 'transformer__ngram_range': (1, 1), 'transformer__preprocessor': None, 'transformer__stop_words': 'english', 'transformer__strip_accents': None, 'transformer__token_pattern': '(?u)\\b\\w\\w+\\b', 'transformer__tokenizer': None, 'transformer__vocabulary': None, 'model__C': 1.0, 'model__class_weight': None, 'model__dual': False, 'model__fit_intercept': True, 'model__intercept_scaling': 1, 'model__l1_ratio': None, 'model__max_iter': 1000, 'model__multi_class': 'auto', 'model__n_jobs': None, 'model__penalty': 'l2', 'model__random_state': None, 'model__solver': 'lbfgs', 'model__tol': 0.0001, 'model__verbose': 0, 'model__warm_start': False}   \n",
       "\n",
       "   best_score  best_time  accuracy_score  roc_auc_score  \n",
       "0    0.795534   1.465284        0.795534       0.782335  "
      ]
     },
     "execution_count": 9,
     "metadata": {},
     "output_type": "execute_result"
    },
    {
     "data": {
      "image/png": "[encoded data removed]",
      "text/plain": [
       "<Figure size 432x288 with 2 Axes>"
      ]
     },
     "metadata": {
      "needs_background": "light"
     },
     "output_type": "display_data"
    }
   ],
   "source": [
    "df = print_model_data('Count Vectorizer and Logistic Regression Stemmer',\n",
    "                 model_execute(cvect_lr_pipe,X_train,y_train),\n",
    "                 cvect_lr_pipe,\n",
    "                 X_train,\n",
    "                 X_test,\n",
    "                 y_train,\n",
    "                 y_test,\n",
    "                 False)\n",
    "df"
   ]
  },
  {
   "cell_type": "code",
   "execution_count": 10,
   "id": "c34bb585",
   "metadata": {},
   "outputs": [],
   "source": [
    "X_train,X_test,y_train,y_test=data_cleanup_for_balancer_stemmer(X)"
   ]
  },
  {
   "cell_type": "code",
   "execution_count": 11,
   "id": "b020583b",
   "metadata": {},
   "outputs": [],
   "source": [
    "Xb_train, yb_train = class_balancer(X_train,y_train)"
   ]
  },
  {
   "cell_type": "code",
   "execution_count": 12,
   "id": "adc32eae",
   "metadata": {},
   "outputs": [
    {
     "data": {
      "image/png": "[encoded data removed]",
      "text/plain": [
       "<Figure size 432x288 with 1 Axes>"
      ]
     },
     "metadata": {
      "needs_background": "light"
     },
     "output_type": "display_data"
    }
   ],
   "source": [
    "bar_plot(yb_train)"
   ]
  },
  {
   "cell_type": "code",
   "execution_count": 13,
   "id": "4d136120",
   "metadata": {},
   "outputs": [],
   "source": [
    "Xb_test, yb_test = class_balancer(X_train,y_train)"
   ]
  },
  {
   "cell_type": "code",
   "execution_count": 14,
   "id": "5bcc74d8",
   "metadata": {},
   "outputs": [
    {
     "data": {
      "image/png": "[encoded data removed]",
      "text/plain": [
       "<Figure size 432x288 with 1 Axes>"
      ]
     },
     "metadata": {
      "needs_background": "light"
     },
     "output_type": "display_data"
    }
   ],
   "source": [
    "bar_plot(yb_test)"
   ]
  },
  {
   "cell_type": "code",
   "execution_count": 15,
   "id": "71142c04",
   "metadata": {},
   "outputs": [
    {
     "name": "stderr",
     "output_type": "stream",
     "text": [
      "/Users/achandrasekhar/opt/anaconda3/lib/python3.9/site-packages/sklearn/linear_model/_logistic.py:444: ConvergenceWarning: lbfgs failed to converge (status=1):\n",
      "STOP: TOTAL NO. of ITERATIONS REACHED LIMIT.\n",
      "\n",
      "Increase the number of iterations (max_iter) or scale the data as shown in:\n",
      "    https://scikit-learn.org/stable/modules/preprocessing.html\n",
      "Please also refer to the documentation for alternative solver options:\n",
      "    https://scikit-learn.org/stable/modules/linear_model.html#logistic-regression\n",
      "  n_iter_i = _check_optimize_result(\n"
     ]
    },
    {
     "data": {
      "text/html": [
       "<div>\n",
       "<style scoped>\n",
       "    .dataframe tbody tr th:only-of-type {\n",
       "        vertical-align: middle;\n",
       "    }\n",
       "\n",
       "    .dataframe tbody tr th {\n",
       "        vertical-align: top;\n",
       "    }\n",
       "\n",
       "    .dataframe thead th {\n",
       "        text-align: right;\n",
       "    }\n",
       "</style>\n",
       "<table border=\"1\" class=\"dataframe\">\n",
       "  <thead>\n",
       "    <tr style=\"text-align: right;\">\n",
       "      <th></th>\n",
       "      <th>model</th>\n",
       "      <th>best_params</th>\n",
       "      <th>best_score</th>\n",
       "      <th>best_time</th>\n",
       "      <th>accuracy_score</th>\n",
       "      <th>roc_auc_score</th>\n",
       "    </tr>\n",
       "  </thead>\n",
       "  <tbody>\n",
       "    <tr>\n",
       "      <th>0</th>\n",
       "      <td>Count Vectorizer and Logistic Regression Stemmer</td>\n",
       "      <td>{'memory': None, 'steps': [('transformer', CountVectorizer(stop_words='english')), ('model', LogisticRegression(max_iter=1000))], 'verbose': False, 'transformer': CountVectorizer(stop_words='english'), 'model': LogisticRegression(max_iter=1000), 'transformer__analyzer': 'word', 'transformer__binary': False, 'transformer__decode_error': 'strict', 'transformer__dtype': &lt;class 'numpy.int64'&gt;, 'transformer__encoding': 'utf-8', 'transformer__input': 'content', 'transformer__lowercase': True, 'transformer__max_df': 1.0, 'transformer__max_features': None, 'transformer__min_df': 1, 'transformer__ngram_range': (1, 1), 'transformer__preprocessor': None, 'transformer__stop_words': 'english', 'transformer__strip_accents': None, 'transformer__token_pattern': '(?u)\\b\\w\\w+\\b', 'transformer__tokenizer': None, 'transformer__vocabulary': None, 'model__C': 1.0, 'model__class_weight': None, 'model__dual': False, 'model__fit_intercept': True, 'model__intercept_scaling': 1, 'model__l1_ratio': None, 'model__max_iter': 1000, 'model__multi_class': 'auto', 'model__n_jobs': None, 'model__penalty': 'l2', 'model__random_state': None, 'model__solver': 'lbfgs', 'model__tol': 0.0001, 'model__verbose': 0, 'model__warm_start': False}</td>\n",
       "      <td>0.795534</td>\n",
       "      <td>1.465284</td>\n",
       "      <td>0.795534</td>\n",
       "      <td>0.782335</td>\n",
       "    </tr>\n",
       "    <tr>\n",
       "      <th>1</th>\n",
       "      <td>Count Vectorizer and Logistic Regression Stemmer</td>\n",
       "      <td>{'C': 1.0, 'class_weight': None, 'dual': False, 'fit_intercept': True, 'intercept_scaling': 1, 'l1_ratio': None, 'max_iter': 100, 'multi_class': 'auto', 'n_jobs': None, 'penalty': 'l2', 'random_state': None, 'solver': 'lbfgs', 'tol': 0.0001, 'verbose': 0, 'warm_start': False}</td>\n",
       "      <td>0.969081</td>\n",
       "      <td>1.153519</td>\n",
       "      <td>0.969081</td>\n",
       "      <td>0.969081</td>\n",
       "    </tr>\n",
       "  </tbody>\n",
       "</table>\n",
       "</div>"
      ],
      "text/plain": [
       "                                              model  \\\n",
       "0  Count Vectorizer and Logistic Regression Stemmer   \n",
       "1  Count Vectorizer and Logistic Regression Stemmer   \n",
       "\n",
       "                                                                                                                                                                                                                                                                                                                                                                                                                                                                                                                                                                                                                                                                                                                                                                                                                                                                                                                                                                                                                                                                                                                                                                                                                                                           best_params  \\\n",
       "0  {'memory': None, 'steps': [('transformer', CountVectorizer(stop_words='english')), ('model', LogisticRegression(max_iter=1000))], 'verbose': False, 'transformer': CountVectorizer(stop_words='english'), 'model': LogisticRegression(max_iter=1000), 'transformer__analyzer': 'word', 'transformer__binary': False, 'transformer__decode_error': 'strict', 'transformer__dtype': <class 'numpy.int64'>, 'transformer__encoding': 'utf-8', 'transformer__input': 'content', 'transformer__lowercase': True, 'transformer__max_df': 1.0, 'transformer__max_features': None, 'transformer__min_df': 1, 'transformer__ngram_range': (1, 1), 'transformer__preprocessor': None, 'transformer__stop_words': 'english', 'transformer__strip_accents': None, 'transformer__token_pattern': '(?u)\\b\\w\\w+\\b', 'transformer__tokenizer': None, 'transformer__vocabulary': None, 'model__C': 1.0, 'model__class_weight': None, 'model__dual': False, 'model__fit_intercept': True, 'model__intercept_scaling': 1, 'model__l1_ratio': None, 'model__max_iter': 1000, 'model__multi_class': 'auto', 'model__n_jobs': None, 'model__penalty': 'l2', 'model__random_state': None, 'model__solver': 'lbfgs', 'model__tol': 0.0001, 'model__verbose': 0, 'model__warm_start': False}   \n",
       "1                                                                                                                                                                                                                                                                                                                                                                                                                                                                                                                                                                                                                                                                                                                                                                                                                                                                                                                                                                                 {'C': 1.0, 'class_weight': None, 'dual': False, 'fit_intercept': True, 'intercept_scaling': 1, 'l1_ratio': None, 'max_iter': 100, 'multi_class': 'auto', 'n_jobs': None, 'penalty': 'l2', 'random_state': None, 'solver': 'lbfgs', 'tol': 0.0001, 'verbose': 0, 'warm_start': False}   \n",
       "\n",
       "   best_score  best_time  accuracy_score  roc_auc_score  \n",
       "0    0.795534   1.465284        0.795534       0.782335  \n",
       "1    0.969081   1.153519        0.969081       0.969081  "
      ]
     },
     "execution_count": 15,
     "metadata": {},
     "output_type": "execute_result"
    },
    {
     "data": {
      "image/png": "[encoded data removed]",
      "text/plain": [
       "<Figure size 432x288 with 2 Axes>"
      ]
     },
     "metadata": {
      "needs_background": "light"
     },
     "output_type": "display_data"
    }
   ],
   "source": [
    "lr = LogisticRegression()\n",
    "df = print_model_data('Count Vectorizer and Logistic Regression Stemmer',\n",
    "                 model_execute(lr,Xb_train,yb_train),\n",
    "                 lr,\n",
    "                 Xb_train,\n",
    "                 Xb_test,\n",
    "                 yb_train,\n",
    "                 yb_test,\n",
    "                 False)\n",
    "df"
   ]
  },
  {
   "cell_type": "code",
   "execution_count": 16,
   "id": "985e0e15",
   "metadata": {},
   "outputs": [],
   "source": [
    "max_iter=[1,10,1000]\n",
    "solvers = ['newton-cg', 'lbfgs', 'liblinear']\n",
    "penalty = ['l2']\n",
    "c_values = [100, 10, 1.0, 0.1, 0.01]\n",
    "# define grid search\n",
    "params = dict(solver=solvers,penalty=penalty,C=c_values)"
   ]
  },
  {
   "cell_type": "code",
   "execution_count": 17,
   "id": "9f42e693",
   "metadata": {},
   "outputs": [],
   "source": [
    "lr=LogisticRegression(max_iter=1000)\n",
    "grid = GridSearchCV(lr,param_grid=params)"
   ]
  },
  {
   "cell_type": "code",
   "execution_count": 18,
   "id": "35e3f17f",
   "metadata": {},
   "outputs": [
    {
     "data": {
      "text/html": [
       "<div>\n",
       "<style scoped>\n",
       "    .dataframe tbody tr th:only-of-type {\n",
       "        vertical-align: middle;\n",
       "    }\n",
       "\n",
       "    .dataframe tbody tr th {\n",
       "        vertical-align: top;\n",
       "    }\n",
       "\n",
       "    .dataframe thead th {\n",
       "        text-align: right;\n",
       "    }\n",
       "</style>\n",
       "<table border=\"1\" class=\"dataframe\">\n",
       "  <thead>\n",
       "    <tr style=\"text-align: right;\">\n",
       "      <th></th>\n",
       "      <th>model</th>\n",
       "      <th>best_params</th>\n",
       "      <th>best_score</th>\n",
       "      <th>best_time</th>\n",
       "      <th>accuracy_score</th>\n",
       "      <th>roc_auc_score</th>\n",
       "    </tr>\n",
       "  </thead>\n",
       "  <tbody>\n",
       "    <tr>\n",
       "      <th>0</th>\n",
       "      <td>Count Vectorizer and Logistic Regression Stemmer</td>\n",
       "      <td>{'memory': None, 'steps': [('transformer', CountVectorizer(stop_words='english')), ('model', LogisticRegression(max_iter=1000))], 'verbose': False, 'transformer': CountVectorizer(stop_words='english'), 'model': LogisticRegression(max_iter=1000), 'transformer__analyzer': 'word', 'transformer__binary': False, 'transformer__decode_error': 'strict', 'transformer__dtype': &lt;class 'numpy.int64'&gt;, 'transformer__encoding': 'utf-8', 'transformer__input': 'content', 'transformer__lowercase': True, 'transformer__max_df': 1.0, 'transformer__max_features': None, 'transformer__min_df': 1, 'transformer__ngram_range': (1, 1), 'transformer__preprocessor': None, 'transformer__stop_words': 'english', 'transformer__strip_accents': None, 'transformer__token_pattern': '(?u)\\b\\w\\w+\\b', 'transformer__tokenizer': None, 'transformer__vocabulary': None, 'model__C': 1.0, 'model__class_weight': None, 'model__dual': False, 'model__fit_intercept': True, 'model__intercept_scaling': 1, 'model__l1_ratio': None, 'model__max_iter': 1000, 'model__multi_class': 'auto', 'model__n_jobs': None, 'model__penalty': 'l2', 'model__random_state': None, 'model__solver': 'lbfgs', 'model__tol': 0.0001, 'model__verbose': 0, 'model__warm_start': False}</td>\n",
       "      <td>0.795534</td>\n",
       "      <td>1.465284</td>\n",
       "      <td>0.795534</td>\n",
       "      <td>0.782335</td>\n",
       "    </tr>\n",
       "    <tr>\n",
       "      <th>1</th>\n",
       "      <td>Count Vectorizer and Logistic Regression Stemmer</td>\n",
       "      <td>{'C': 1.0, 'class_weight': None, 'dual': False, 'fit_intercept': True, 'intercept_scaling': 1, 'l1_ratio': None, 'max_iter': 100, 'multi_class': 'auto', 'n_jobs': None, 'penalty': 'l2', 'random_state': None, 'solver': 'lbfgs', 'tol': 0.0001, 'verbose': 0, 'warm_start': False}</td>\n",
       "      <td>0.969081</td>\n",
       "      <td>1.153519</td>\n",
       "      <td>0.969081</td>\n",
       "      <td>0.969081</td>\n",
       "    </tr>\n",
       "    <tr>\n",
       "      <th>2</th>\n",
       "      <td>Count Vectorizer and Logistic Regression Stemmer</td>\n",
       "      <td>{'cv': None, 'error_score': nan, 'estimator__C': 1.0, 'estimator__class_weight': None, 'estimator__dual': False, 'estimator__fit_intercept': True, 'estimator__intercept_scaling': 1, 'estimator__l1_ratio': None, 'estimator__max_iter': 1000, 'estimator__multi_class': 'auto', 'estimator__n_jobs': None, 'estimator__penalty': 'l2', 'estimator__random_state': None, 'estimator__solver': 'lbfgs', 'estimator__tol': 0.0001, 'estimator__verbose': 0, 'estimator__warm_start': False, 'estimator': LogisticRegression(max_iter=1000), 'n_jobs': None, 'param_grid': {'solver': ['newton-cg', 'lbfgs', 'liblinear'], 'penalty': ['l2'], 'C': [100, 10, 1.0, 0.1, 0.01]}, 'pre_dispatch': '2*n_jobs', 'refit': True, 'return_train_score': False, 'scoring': None, 'verbose': 0}</td>\n",
       "      <td>0.996032</td>\n",
       "      <td>76.533337</td>\n",
       "      <td>0.996032</td>\n",
       "      <td>0.996032</td>\n",
       "    </tr>\n",
       "  </tbody>\n",
       "</table>\n",
       "</div>"
      ],
      "text/plain": [
       "                                              model  \\\n",
       "0  Count Vectorizer and Logistic Regression Stemmer   \n",
       "1  Count Vectorizer and Logistic Regression Stemmer   \n",
       "2  Count Vectorizer and Logistic Regression Stemmer   \n",
       "\n",
       "                                                                                                                                                                                                                                                                                                                                                                                                                                                                                                                                                                                                                                                                                                                                                                                                                                                                                                                                                                                                                                                                                                                                                                                                                                                           best_params  \\\n",
       "0  {'memory': None, 'steps': [('transformer', CountVectorizer(stop_words='english')), ('model', LogisticRegression(max_iter=1000))], 'verbose': False, 'transformer': CountVectorizer(stop_words='english'), 'model': LogisticRegression(max_iter=1000), 'transformer__analyzer': 'word', 'transformer__binary': False, 'transformer__decode_error': 'strict', 'transformer__dtype': <class 'numpy.int64'>, 'transformer__encoding': 'utf-8', 'transformer__input': 'content', 'transformer__lowercase': True, 'transformer__max_df': 1.0, 'transformer__max_features': None, 'transformer__min_df': 1, 'transformer__ngram_range': (1, 1), 'transformer__preprocessor': None, 'transformer__stop_words': 'english', 'transformer__strip_accents': None, 'transformer__token_pattern': '(?u)\\b\\w\\w+\\b', 'transformer__tokenizer': None, 'transformer__vocabulary': None, 'model__C': 1.0, 'model__class_weight': None, 'model__dual': False, 'model__fit_intercept': True, 'model__intercept_scaling': 1, 'model__l1_ratio': None, 'model__max_iter': 1000, 'model__multi_class': 'auto', 'model__n_jobs': None, 'model__penalty': 'l2', 'model__random_state': None, 'model__solver': 'lbfgs', 'model__tol': 0.0001, 'model__verbose': 0, 'model__warm_start': False}   \n",
       "1                                                                                                                                                                                                                                                                                                                                                                                                                                                                                                                                                                                                                                                                                                                                                                                                                                                                                                                                                                                 {'C': 1.0, 'class_weight': None, 'dual': False, 'fit_intercept': True, 'intercept_scaling': 1, 'l1_ratio': None, 'max_iter': 100, 'multi_class': 'auto', 'n_jobs': None, 'penalty': 'l2', 'random_state': None, 'solver': 'lbfgs', 'tol': 0.0001, 'verbose': 0, 'warm_start': False}   \n",
       "2                                                                                                                                                                                                                                                                                                                                                                                                                                                                                  {'cv': None, 'error_score': nan, 'estimator__C': 1.0, 'estimator__class_weight': None, 'estimator__dual': False, 'estimator__fit_intercept': True, 'estimator__intercept_scaling': 1, 'estimator__l1_ratio': None, 'estimator__max_iter': 1000, 'estimator__multi_class': 'auto', 'estimator__n_jobs': None, 'estimator__penalty': 'l2', 'estimator__random_state': None, 'estimator__solver': 'lbfgs', 'estimator__tol': 0.0001, 'estimator__verbose': 0, 'estimator__warm_start': False, 'estimator': LogisticRegression(max_iter=1000), 'n_jobs': None, 'param_grid': {'solver': ['newton-cg', 'lbfgs', 'liblinear'], 'penalty': ['l2'], 'C': [100, 10, 1.0, 0.1, 0.01]}, 'pre_dispatch': '2*n_jobs', 'refit': True, 'return_train_score': False, 'scoring': None, 'verbose': 0}   \n",
       "\n",
       "   best_score  best_time  accuracy_score  roc_auc_score  \n",
       "0    0.795534   1.465284        0.795534       0.782335  \n",
       "1    0.969081   1.153519        0.969081       0.969081  \n",
       "2    0.996032  76.533337        0.996032       0.996032  "
      ]
     },
     "execution_count": 18,
     "metadata": {},
     "output_type": "execute_result"
    },
    {
     "data": {
      "image/png": "[encoded data removed]",
      "text/plain": [
       "<Figure size 432x288 with 2 Axes>"
      ]
     },
     "metadata": {
      "needs_background": "light"
     },
     "output_type": "display_data"
    }
   ],
   "source": [
    "df = print_model_data('Count Vectorizer and Logistic Regression Stemmer',\n",
    "                 model_execute(grid,Xb_train,yb_train),\n",
    "                 grid,\n",
    "                 Xb_train,\n",
    "                 Xb_test,\n",
    "                 yb_train,\n",
    "                 yb_test,\n",
    "                 False)\n",
    "df"
   ]
  },
  {
   "cell_type": "code",
   "execution_count": 20,
   "id": "8a3a3c9a",
   "metadata": {},
   "outputs": [
    {
     "data": {
      "text/html": [
       "<div>\n",
       "<style scoped>\n",
       "    .dataframe tbody tr th:only-of-type {\n",
       "        vertical-align: middle;\n",
       "    }\n",
       "\n",
       "    .dataframe tbody tr th {\n",
       "        vertical-align: top;\n",
       "    }\n",
       "\n",
       "    .dataframe thead th {\n",
       "        text-align: right;\n",
       "    }\n",
       "</style>\n",
       "<table border=\"1\" class=\"dataframe\">\n",
       "  <thead>\n",
       "    <tr style=\"text-align: right;\">\n",
       "      <th></th>\n",
       "      <th>tweets</th>\n",
       "      <th>pred</th>\n",
       "    </tr>\n",
       "  </thead>\n",
       "  <tbody>\n",
       "    <tr>\n",
       "      <th>0</th>\n",
       "      <td>RT @_pr3ttysavag3: script was wild that day\\n\\n*kun and haechan getting complimented for their cooking skills*\\n\\nkun leaves for three seconds…</td>\n",
       "      <td>0</td>\n",
       "    </tr>\n",
       "    <tr>\n",
       "      <th>1</th>\n",
       "      <td>Girls with fire tweets are never really pretty 😭</td>\n",
       "      <td>0</td>\n",
       "    </tr>\n",
       "    <tr>\n",
       "      <th>2</th>\n",
       "      <td>RT @CSK_Zealots: Chinna Thala fire fire 🔥🔥!!\\n\\n@ImRaina | #RoadSafety https://t.co/LO1OJvejMO</td>\n",
       "      <td>0</td>\n",
       "    </tr>\n",
       "    <tr>\n",
       "      <th>3</th>\n",
       "      <td>RT @sadiqmansir52: @ManGoneCrypto1 @MetaBeatOffl MetaBeat will spread like wild fire Even the blind will see MetBeat and hop on 🚀🚀\\n#MetaBea…</td>\n",
       "      <td>1</td>\n",
       "    </tr>\n",
       "    <tr>\n",
       "      <th>4</th>\n",
       "      <td>RT @SnoCo_DEM: Bolt Creek Fire evacuation update:\\n•GO- Level 3: Index. LEAVE NOW!\\n•SET- Level 2: between Zeke’s and Index. Be prepared to e…</td>\n",
       "      <td>1</td>\n",
       "    </tr>\n",
       "    <tr>\n",
       "      <th>5</th>\n",
       "      <td>How a job want you to give them a 2 weeks notice but don’t give you a two weeks notice when they wanna fire yo ass  😂🤔 ? How that work lol</td>\n",
       "      <td>0</td>\n",
       "    </tr>\n",
       "    <tr>\n",
       "      <th>6</th>\n",
       "      <td>RT @iReadBookTours: A classic story of love, loss, transformation &amp;amp; redemption, THE ADVENTURES OF RUSTY THE FORGOTTEN FIRE ENGINE tells the…</td>\n",
       "      <td>0</td>\n",
       "    </tr>\n",
       "    <tr>\n",
       "      <th>7</th>\n",
       "      <td>I touch your lips and all at once the sparks go flying. Those devil lips that know so well the art of lying. And though I see the danger, still the flame grows higher! I know I must surrender to your kiss of fire.</td>\n",
       "      <td>0</td>\n",
       "    </tr>\n",
       "    <tr>\n",
       "      <th>8</th>\n",
       "      <td>RT @smokingmusket: I admire Scott Frost's commitment to forcing Nebraska to fire him before his buyout drops.\\n\\nNext week he should run out…</td>\n",
       "      <td>0</td>\n",
       "    </tr>\n",
       "    <tr>\n",
       "      <th>9</th>\n",
       "      <td>RT @TansuYegen: Awesome drawing with fire on wood👏\\nArtist: @Alexpeter_idoko https://t.co/XS8uTp04WJ</td>\n",
       "      <td>0</td>\n",
       "    </tr>\n",
       "    <tr>\n",
       "      <th>10</th>\n",
       "      <td>RT @ArysPan: 💡The automatic doors of Heron of Alexandria. \\nHeron was a Greek mathematician and engineer who came up with the idea for autom…</td>\n",
       "      <td>0</td>\n",
       "    </tr>\n",
       "    <tr>\n",
       "      <th>11</th>\n",
       "      <td>9:53 - ugh \\nJones Ridge cam (20 or so miles away from fire as crow flies) last 15 minutes 😨\\n\\n#MosquitoFire #Foresthill #Wildfire #Calfire #Breaking #News #Latest #Fire #California #Live https://t.co/ZjR9PkhBVV</td>\n",
       "      <td>1</td>\n",
       "    </tr>\n",
       "    <tr>\n",
       "      <th>12</th>\n",
       "      <td>RT @astrologyvibez: Aquarius is the alpha air sign 🌬️\\n\\nLeo is the alpha fire sign 🔥\\n\\nCapricorn is the alpha earth sign 🌍\\n\\nScorpio is the al…</td>\n",
       "      <td>0</td>\n",
       "    </tr>\n",
       "    <tr>\n",
       "      <th>13</th>\n",
       "      <td>RT @sadiqmansir52: @ManGoneCrypto1 @MetaBeatOffl MetaBeat will spread like wild fire Even the blind will see MetBeat and hop on 🚀🚀\\n#MetaBea…</td>\n",
       "      <td>1</td>\n",
       "    </tr>\n",
       "    <tr>\n",
       "      <th>14</th>\n",
       "      <td>RT @DomLioness: Serve your Kinky Queen\\n🌕https://t.co/Cz1Htu3OQ3 🌕 \\nI'm Live &amp;amp; you're Weak\\n\\nWax 🕯 Smoke 💨 Fire 🔥\\n😙💨 Smoking Fetish \\n🚬📥 Ash T…</td>\n",
       "      <td>0</td>\n",
       "    </tr>\n",
       "  </tbody>\n",
       "</table>\n",
       "</div>"
      ],
      "text/plain": [
       "                                                                                                                                                                                                                   tweets  \\\n",
       "0                                                                         RT @_pr3ttysavag3: script was wild that day\\n\\n*kun and haechan getting complimented for their cooking skills*\\n\\nkun leaves for three seconds…   \n",
       "1                                                                                                                                                                        Girls with fire tweets are never really pretty 😭   \n",
       "2                                                                                                                          RT @CSK_Zealots: Chinna Thala fire fire 🔥🔥!!\\n\\n@ImRaina | #RoadSafety https://t.co/LO1OJvejMO   \n",
       "3                                                                           RT @sadiqmansir52: @ManGoneCrypto1 @MetaBeatOffl MetaBeat will spread like wild fire Even the blind will see MetBeat and hop on 🚀🚀\\n#MetaBea…   \n",
       "4                                                                          RT @SnoCo_DEM: Bolt Creek Fire evacuation update:\\n•GO- Level 3: Index. LEAVE NOW!\\n•SET- Level 2: between Zeke’s and Index. Be prepared to e…   \n",
       "5                                                                              How a job want you to give them a 2 weeks notice but don’t give you a two weeks notice when they wanna fire yo ass  😂🤔 ? How that work lol   \n",
       "6                                                                        RT @iReadBookTours: A classic story of love, loss, transformation &amp; redemption, THE ADVENTURES OF RUSTY THE FORGOTTEN FIRE ENGINE tells the…   \n",
       "7   I touch your lips and all at once the sparks go flying. Those devil lips that know so well the art of lying. And though I see the danger, still the flame grows higher! I know I must surrender to your kiss of fire.   \n",
       "8                                                                           RT @smokingmusket: I admire Scott Frost's commitment to forcing Nebraska to fire him before his buyout drops.\\n\\nNext week he should run out…   \n",
       "9                                                                                                                    RT @TansuYegen: Awesome drawing with fire on wood👏\\nArtist: @Alexpeter_idoko https://t.co/XS8uTp04WJ   \n",
       "10                                                                          RT @ArysPan: 💡The automatic doors of Heron of Alexandria. \\nHeron was a Greek mathematician and engineer who came up with the idea for autom…   \n",
       "11   9:53 - ugh \\nJones Ridge cam (20 or so miles away from fire as crow flies) last 15 minutes 😨\\n\\n#MosquitoFire #Foresthill #Wildfire #Calfire #Breaking #News #Latest #Fire #California #Live https://t.co/ZjR9PkhBVV   \n",
       "12                                                                     RT @astrologyvibez: Aquarius is the alpha air sign 🌬️\\n\\nLeo is the alpha fire sign 🔥\\n\\nCapricorn is the alpha earth sign 🌍\\n\\nScorpio is the al…   \n",
       "13                                                                          RT @sadiqmansir52: @ManGoneCrypto1 @MetaBeatOffl MetaBeat will spread like wild fire Even the blind will see MetBeat and hop on 🚀🚀\\n#MetaBea…   \n",
       "14                                                                 RT @DomLioness: Serve your Kinky Queen\\n🌕https://t.co/Cz1Htu3OQ3 🌕 \\nI'm Live &amp; you're Weak\\n\\nWax 🕯 Smoke 💨 Fire 🔥\\n😙💨 Smoking Fetish \\n🚬📥 Ash T…   \n",
       "\n",
       "    pred  \n",
       "0      0  \n",
       "1      0  \n",
       "2      0  \n",
       "3      1  \n",
       "4      1  \n",
       "5      0  \n",
       "6      0  \n",
       "7      0  \n",
       "8      0  \n",
       "9      0  \n",
       "10     0  \n",
       "11     1  \n",
       "12     0  \n",
       "13     1  \n",
       "14     0  "
      ]
     },
     "execution_count": 20,
     "metadata": {},
     "output_type": "execute_result"
    }
   ],
   "source": [
    "live_tweets = get_live_tweets()\n",
    "live_tweets['pred']=cvect_lr_pipe.predict(live_tweets['tweets'])\n",
    "live_tweets"
   ]
  },
  {
   "cell_type": "code",
   "execution_count": null,
   "id": "097ecf3b",
   "metadata": {},
   "outputs": [],
   "source": []
  },
  {
   "cell_type": "code",
   "execution_count": null,
   "id": "b7dcf9af",
   "metadata": {},
   "outputs": [],
   "source": []
  },
  {
   "cell_type": "code",
   "execution_count": null,
   "id": "bc7a386a",
   "metadata": {},
   "outputs": [],
   "source": []
  }
 ],
 "metadata": {
  "kernelspec": {
   "display_name": "Python 3 (ipykernel)",
   "language": "python",
   "name": "python3"
  },
  "language_info": {
   "codemirror_mode": {
    "name": "ipython",
    "version": 3
   },
   "file_extension": ".py",
   "mimetype": "text/x-python",
   "name": "python",
   "nbconvert_exporter": "python",
   "pygments_lexer": "ipython3",
   "version": "3.9.7"
  }
 },
 "nbformat": 4,
 "nbformat_minor": 5
}
