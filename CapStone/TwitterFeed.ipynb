{
 "cells": [
  {
   "cell_type": "markdown",
   "id": "47eae310",
   "metadata": {},
   "source": [
    "### <span style=\"color: blue;\">Code reference </span>\n",
    "#### <span style=\"color: gray;\"> Reference -- Below link was used to come up working Tweeter feed code\n",
    "##### https://towardsdatascience.com/how-to-build-a-real-time-twitter-analysis-using-big-data-tools-dd2240946e64"
   ]
  },
  {
   "cell_type": "markdown",
   "id": "0cd8f272",
   "metadata": {},
   "source": [
    "# <span style=\"color: green;\"> Required imports to get the feed data from tweeter</span>"
   ]
  },
  {
   "cell_type": "code",
   "execution_count": 173,
   "id": "f1fffa38",
   "metadata": {},
   "outputs": [
    {
     "data": {
      "text/html": [
       "<script>\n",
       "    code_show_err=false; \n",
       "    function code_toggle_err() {\n",
       "     if (code_show_err){\n",
       "     $('div.output_stderr').hide();\n",
       "     } else {\n",
       "     $('div.output_stderr').show();\n",
       "     }\n",
       "     code_show_err = !code_show_err\n",
       "    } \n",
       "    $( document ).ready(code_toggle_err);\n",
       "    </script>\n",
       "    To toggle on/off output_stderr, click <a href=\"javascript:code_toggle_err()\">here</a>."
      ],
      "text/plain": [
       "<IPython.core.display.HTML object>"
      ]
     },
     "execution_count": 173,
     "metadata": {},
     "output_type": "execute_result"
    }
   ],
   "source": [
    "from IPython.display import HTML\n",
    "HTML('''<script>\n",
    "    code_show_err=false; \n",
    "    function code_toggle_err() {\n",
    "     if (code_show_err){\n",
    "     $('div.output_stderr').hide();\n",
    "     } else {\n",
    "     $('div.output_stderr').show();\n",
    "     }\n",
    "     code_show_err = !code_show_err\n",
    "    } \n",
    "    $( document ).ready(code_toggle_err);\n",
    "    </script>\n",
    "    To toggle on/off output_stderr, click <a href=\"javascript:code_toggle_err()\">here</a>.''')"
   ]
  },
  {
   "cell_type": "code",
   "execution_count": 174,
   "id": "5e130b83",
   "metadata": {},
   "outputs": [],
   "source": [
    "#Twitter feed related imports\n",
    "\n",
    "# For sending GET requests from the API\n",
    "import requests\n",
    "\n",
    "# For saving access tokens and for file management when creating and adding to the dataset\n",
    "import os\n",
    "\n",
    "# For dealing with json responses we receive from the API\n",
    "import json\n",
    "\n",
    "# For displaying the data after\n",
    "import pandas as pd\n",
    "\n",
    "# For saving the response data in CSV format\n",
    "import csv\n",
    "\n",
    "# For parsing the dates received from twitter in readable formats\n",
    "from datetime import datetime, timedelta\n",
    "import dateutil.parser\n",
    "import unicodedata\n",
    "\n",
    "import pytz\n",
    "\n",
    "from pyrfc3339 import generate, parse"
   ]
  },
  {
   "cell_type": "markdown",
   "id": "a8db9dbd",
   "metadata": {},
   "source": [
    "# <span style=\"color: green;\"> To get live feed data from tweeter we need to do the following steps:</span>\n",
    "#### <span style=\"color: gray;\"> 1. Register with twitter for a developer account. https://developer.twitter.com/</span> \n",
    "#### <span style=\"color: gray;\"> 2. Create an app within the twitter developer portal</span> \n",
    "#### <span style=\"color: gray;\"> 3. Bearer token will be created with app creation</span> \n",
    "#### <span style=\"color: gray;\"> 4. This Bearer token will be used to establish session with twitter to receive live feeds</span> "
   ]
  },
  {
   "cell_type": "code",
   "execution_count": 175,
   "id": "f59faac1",
   "metadata": {},
   "outputs": [],
   "source": [
    "def auth():\n",
    "    os.environ['TOKEN'] = 'AAAAAAAAAAAAAAAAAAAAAG7DfwEAAAAAbJLqeNiJMbEMtiCNAc6X3xqUPXE%3DcGSmQEHDbvKKSfbcVNbYrbphIGvDkeZi4wNltyU7mmbGRFvVZq'\n",
    "    return os.environ['TOKEN']\n"
   ]
  },
  {
   "cell_type": "code",
   "execution_count": 176,
   "id": "d1d47975",
   "metadata": {},
   "outputs": [],
   "source": [
    "def create_headers(token):\n",
    "    headers = {\"Authorization\":\"Bearer {}\".format(token)}\n",
    "    return headers"
   ]
  },
  {
   "cell_type": "markdown",
   "id": "994974cf",
   "metadata": {},
   "source": [
    "# <span style=\"color: green;\">There are only certain apis open to developers the list of open apis available for interaction with twitter can be found in </span>\n",
    "##### https://developer.twitter.com/en/docs/authentication/guides/v2-authentication-mapping"
   ]
  },
  {
   "cell_type": "code",
   "execution_count": 177,
   "id": "0c8131f9",
   "metadata": {},
   "outputs": [],
   "source": [
    "def create_url(key,start_date,end_date,max_results=10):\n",
    "    search_url = \"https://api.twitter.com/2/tweets/search/recent\"\n",
    "    query_params={'query':key,\n",
    "                  'start_time':start_date,\n",
    "                  'end_time':end_date,\n",
    "                  'max_results':max_results,\n",
    "                  'expansions': 'author_id,in_reply_to_user_id,geo.place_id',\n",
    "                  'tweet.fields': 'id,text,author_id,in_reply_to_user_id,geo,conversation_id,created_at,lang,public_metrics,referenced_tweets,reply_settings,source',\n",
    "                  'user.fields': 'id,name,username,created_at,description,public_metrics,verified',\n",
    "                  'place.fields': 'full_name,id,country,country_code,geo,name,place_type',\n",
    "                  'next_token': {}}\n",
    "    return (search_url, query_params)"
   ]
  },
  {
   "cell_type": "code",
   "execution_count": 178,
   "id": "96daa63d",
   "metadata": {},
   "outputs": [],
   "source": [
    "def connect_to_endpoint(url, headers, params, next_token = None):\n",
    "    params['next_token'] = next_token   #params object received from create_url function\n",
    "    response = requests.request(\"GET\", url, headers = headers, params = params)\n",
    "    #print(\"Endpoint Response Code: \" + str(response.status_code))\n",
    "    if response.status_code != 200:\n",
    "        raise Exception(response.status_code, response.text)\n",
    "    return response.json()"
   ]
  },
  {
   "cell_type": "code",
   "execution_count": 179,
   "id": "0f145600",
   "metadata": {},
   "outputs": [],
   "source": [
    "def set_request_metadata():\n",
    "    #Inputs for the request\n",
    "    bearer_token = auth()\n",
    "    headers = create_headers(bearer_token)\n",
    "    keyword = \"fire lang:en\"\n",
    "    st = datetime.utcnow()-timedelta(minutes=15)\n",
    "    start_time=generate(st.replace(tzinfo=pytz.utc))\n",
    "    et=datetime.utcnow()-timedelta(seconds=10)\n",
    "    end_time=generate(et.replace(tzinfo=pytz.utc))\n",
    "    #start_time = \"2022-09-10T19:15:00.000Z\"\n",
    "    #end_time = \"2022-09-10T19:30:00.000Z\"\n",
    "    #\"2022-08-14T04:26:00.000Z\"\n",
    "    max_results = 15\n",
    "    return keyword,start_time,end_time,max_results,headers"
   ]
  },
  {
   "cell_type": "code",
   "execution_count": 180,
   "id": "74dd6c4a",
   "metadata": {},
   "outputs": [],
   "source": [
    "def get_tweets():\n",
    "    keyword,start_time,end_time,max_results,headers=set_request_metadata()\n",
    "    url = create_url(keyword, start_time,end_time, max_results)\n",
    "    json_response = connect_to_endpoint(url[0], headers, url[1])\n",
    "    json_str=json.dumps(json_response, indent=4, sort_keys=True)\n",
    "    return json_str"
   ]
  },
  {
   "cell_type": "code",
   "execution_count": 181,
   "id": "4b91c43b",
   "metadata": {},
   "outputs": [],
   "source": [
    "def get_tweets_df():\n",
    "    json_tweets=get_tweets()\n",
    "    tweets_data=[]\n",
    "    count=0\n",
    "    loaded_json = json.loads(json_tweets)\n",
    "    json_texts = loaded_json['data']\n",
    "    for text in json_texts:\n",
    "        tweets_data.append(text['text'])\n",
    "    tweets_data=pd.DataFrame({\"tweets\":tweets_data})\n",
    "    return tweets_data"
   ]
  },
  {
   "cell_type": "code",
   "execution_count": null,
   "id": "db35d69d",
   "metadata": {},
   "outputs": [],
   "source": []
  },
  {
   "cell_type": "code",
   "execution_count": null,
   "id": "555c02ab",
   "metadata": {},
   "outputs": [],
   "source": []
  },
  {
   "cell_type": "code",
   "execution_count": null,
   "id": "b9d44ffe",
   "metadata": {},
   "outputs": [],
   "source": []
  }
 ],
 "metadata": {
  "kernelspec": {
   "display_name": "Python 3 (ipykernel)",
   "language": "python",
   "name": "python3"
  },
  "language_info": {
   "codemirror_mode": {
    "name": "ipython",
    "version": 3
   },
   "file_extension": ".py",
   "mimetype": "text/x-python",
   "name": "python",
   "nbconvert_exporter": "python",
   "pygments_lexer": "ipython3",
   "version": "3.9.7"
  }
 },
 "nbformat": 4,
 "nbformat_minor": 5
}
