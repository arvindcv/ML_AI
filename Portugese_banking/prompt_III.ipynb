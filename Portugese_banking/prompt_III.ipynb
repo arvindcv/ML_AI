{
 "cells": [
  {
   "cell_type": "markdown",
   "metadata": {},
   "source": [
    "# Practical Application III: Comparing Classifiers\n",
    "\n",
    "**Overview**: In this practical application, your goal is to compare the performance of the classifiers we encountered in this section, namely K Nearest Neighbor, Logistic Regression, Decision Trees, and Support Vector Machines.  We will utilize a dataset related to marketing bank products over the telephone.  \n",
    "\n"
   ]
  },
  {
   "cell_type": "markdown",
   "metadata": {},
   "source": [
    "### Getting Started\n",
    "\n",
    "Our dataset comes from the UCI Machine Learning repository [link](https://archive.ics.uci.edu/ml/datasets/bank+marketing).  The data is from a Portugese banking institution and is a collection of the results of multiple marketing campaigns.  We will make use of the article accompanying the dataset [here](CRISP-DM-BANK.pdf) for more information on the data and features.\n",
    "\n"
   ]
  },
  {
   "cell_type": "markdown",
   "metadata": {},
   "source": [
    "### Problem 1: Understanding the Data\n",
    "\n",
    "To gain a better understanding of the data, please read the information provided in the UCI link above, and examine the **Materials and Methods** section of the paper.  How many marketing campaigns does this data represent?"
   ]
  },
  {
   "cell_type": "code",
   "execution_count": null,
   "metadata": {},
   "outputs": [],
   "source": []
  },
  {
   "cell_type": "markdown",
   "metadata": {},
   "source": [
    "### Problem 2: Read in the Data\n",
    "\n",
    "Use pandas to read in the dataset `bank-additional-full.csv` and assign to a meaningful variable name."
   ]
  },
  {
   "cell_type": "code",
   "execution_count": 569,
   "metadata": {},
   "outputs": [],
   "source": [
    "import pandas as pd\n",
    "import nltk\n",
    "import matplotlib.pyplot as plt\n",
    "import seaborn as sns\n",
    "import time\n",
    "import numpy as np\n",
    "import warnings\n",
    "warnings.filterwarnings('ignore')"
   ]
  },
  {
   "cell_type": "code",
   "execution_count": 570,
   "metadata": {},
   "outputs": [],
   "source": [
    "from imblearn.over_sampling import SMOTE\n",
    "from sklearn.model_selection import train_test_split\n",
    "from collections import Counter\n",
    "from sklearn.preprocessing import StandardScaler, PolynomialFeatures\n",
    "from sklearn.linear_model import LogisticRegression\n",
    "from sklearn.svm import SVC\n",
    "from sklearn.svm import LinearSVC\n",
    "from sklearn.neighbors import KNeighborsClassifier\n",
    "from sklearn.tree import DecisionTreeClassifier\n",
    "from sklearn.model_selection import GridSearchCV\n",
    "from statsmodels.stats.outliers_influence import variance_inflation_factor\n",
    "from sklearn.metrics import f1_score, accuracy_score, roc_auc_score, make_scorer\n",
    "from sklearn.metrics import confusion_matrix, classification_report, precision_recall_curve\n",
    "from sklearn import metrics\n",
    "from sklearn.metrics import make_scorer\n",
    "from sklearn.metrics import accuracy_score\n",
    "from sklearn.inspection import permutation_importance\n",
    "from mlxtend.feature_selection import SequentialFeatureSelector as SFS\n",
    "from mlxtend.plotting import plot_sequential_feature_selection as SFS_PLOT"
   ]
  },
  {
   "cell_type": "code",
   "execution_count": 571,
   "metadata": {},
   "outputs": [],
   "source": [
    "df = pd.read_csv('data/bank-additional-full.csv', sep = ';')"
   ]
  },
  {
   "cell_type": "code",
   "execution_count": 572,
   "metadata": {},
   "outputs": [
    {
     "data": {
      "text/html": [
       "<div>\n",
       "<style scoped>\n",
       "    .dataframe tbody tr th:only-of-type {\n",
       "        vertical-align: middle;\n",
       "    }\n",
       "\n",
       "    .dataframe tbody tr th {\n",
       "        vertical-align: top;\n",
       "    }\n",
       "\n",
       "    .dataframe thead th {\n",
       "        text-align: right;\n",
       "    }\n",
       "</style>\n",
       "<table border=\"1\" class=\"dataframe\">\n",
       "  <thead>\n",
       "    <tr style=\"text-align: right;\">\n",
       "      <th></th>\n",
       "      <th>age</th>\n",
       "      <th>job</th>\n",
       "      <th>marital</th>\n",
       "      <th>education</th>\n",
       "      <th>default</th>\n",
       "      <th>housing</th>\n",
       "      <th>loan</th>\n",
       "      <th>contact</th>\n",
       "      <th>month</th>\n",
       "      <th>day_of_week</th>\n",
       "      <th>...</th>\n",
       "      <th>campaign</th>\n",
       "      <th>pdays</th>\n",
       "      <th>previous</th>\n",
       "      <th>poutcome</th>\n",
       "      <th>emp.var.rate</th>\n",
       "      <th>cons.price.idx</th>\n",
       "      <th>cons.conf.idx</th>\n",
       "      <th>euribor3m</th>\n",
       "      <th>nr.employed</th>\n",
       "      <th>y</th>\n",
       "    </tr>\n",
       "  </thead>\n",
       "  <tbody>\n",
       "    <tr>\n",
       "      <th>0</th>\n",
       "      <td>56</td>\n",
       "      <td>housemaid</td>\n",
       "      <td>married</td>\n",
       "      <td>basic.4y</td>\n",
       "      <td>no</td>\n",
       "      <td>no</td>\n",
       "      <td>no</td>\n",
       "      <td>telephone</td>\n",
       "      <td>may</td>\n",
       "      <td>mon</td>\n",
       "      <td>...</td>\n",
       "      <td>1</td>\n",
       "      <td>999</td>\n",
       "      <td>0</td>\n",
       "      <td>nonexistent</td>\n",
       "      <td>1.1</td>\n",
       "      <td>93.994</td>\n",
       "      <td>-36.4</td>\n",
       "      <td>4.857</td>\n",
       "      <td>5191.0</td>\n",
       "      <td>no</td>\n",
       "    </tr>\n",
       "    <tr>\n",
       "      <th>1</th>\n",
       "      <td>57</td>\n",
       "      <td>services</td>\n",
       "      <td>married</td>\n",
       "      <td>high.school</td>\n",
       "      <td>unknown</td>\n",
       "      <td>no</td>\n",
       "      <td>no</td>\n",
       "      <td>telephone</td>\n",
       "      <td>may</td>\n",
       "      <td>mon</td>\n",
       "      <td>...</td>\n",
       "      <td>1</td>\n",
       "      <td>999</td>\n",
       "      <td>0</td>\n",
       "      <td>nonexistent</td>\n",
       "      <td>1.1</td>\n",
       "      <td>93.994</td>\n",
       "      <td>-36.4</td>\n",
       "      <td>4.857</td>\n",
       "      <td>5191.0</td>\n",
       "      <td>no</td>\n",
       "    </tr>\n",
       "    <tr>\n",
       "      <th>2</th>\n",
       "      <td>37</td>\n",
       "      <td>services</td>\n",
       "      <td>married</td>\n",
       "      <td>high.school</td>\n",
       "      <td>no</td>\n",
       "      <td>yes</td>\n",
       "      <td>no</td>\n",
       "      <td>telephone</td>\n",
       "      <td>may</td>\n",
       "      <td>mon</td>\n",
       "      <td>...</td>\n",
       "      <td>1</td>\n",
       "      <td>999</td>\n",
       "      <td>0</td>\n",
       "      <td>nonexistent</td>\n",
       "      <td>1.1</td>\n",
       "      <td>93.994</td>\n",
       "      <td>-36.4</td>\n",
       "      <td>4.857</td>\n",
       "      <td>5191.0</td>\n",
       "      <td>no</td>\n",
       "    </tr>\n",
       "    <tr>\n",
       "      <th>3</th>\n",
       "      <td>40</td>\n",
       "      <td>admin.</td>\n",
       "      <td>married</td>\n",
       "      <td>basic.6y</td>\n",
       "      <td>no</td>\n",
       "      <td>no</td>\n",
       "      <td>no</td>\n",
       "      <td>telephone</td>\n",
       "      <td>may</td>\n",
       "      <td>mon</td>\n",
       "      <td>...</td>\n",
       "      <td>1</td>\n",
       "      <td>999</td>\n",
       "      <td>0</td>\n",
       "      <td>nonexistent</td>\n",
       "      <td>1.1</td>\n",
       "      <td>93.994</td>\n",
       "      <td>-36.4</td>\n",
       "      <td>4.857</td>\n",
       "      <td>5191.0</td>\n",
       "      <td>no</td>\n",
       "    </tr>\n",
       "    <tr>\n",
       "      <th>4</th>\n",
       "      <td>56</td>\n",
       "      <td>services</td>\n",
       "      <td>married</td>\n",
       "      <td>high.school</td>\n",
       "      <td>no</td>\n",
       "      <td>no</td>\n",
       "      <td>yes</td>\n",
       "      <td>telephone</td>\n",
       "      <td>may</td>\n",
       "      <td>mon</td>\n",
       "      <td>...</td>\n",
       "      <td>1</td>\n",
       "      <td>999</td>\n",
       "      <td>0</td>\n",
       "      <td>nonexistent</td>\n",
       "      <td>1.1</td>\n",
       "      <td>93.994</td>\n",
       "      <td>-36.4</td>\n",
       "      <td>4.857</td>\n",
       "      <td>5191.0</td>\n",
       "      <td>no</td>\n",
       "    </tr>\n",
       "  </tbody>\n",
       "</table>\n",
       "<p>5 rows × 21 columns</p>\n",
       "</div>"
      ],
      "text/plain": [
       "   age        job  marital    education  default housing loan    contact  \\\n",
       "0   56  housemaid  married     basic.4y       no      no   no  telephone   \n",
       "1   57   services  married  high.school  unknown      no   no  telephone   \n",
       "2   37   services  married  high.school       no     yes   no  telephone   \n",
       "3   40     admin.  married     basic.6y       no      no   no  telephone   \n",
       "4   56   services  married  high.school       no      no  yes  telephone   \n",
       "\n",
       "  month day_of_week  ...  campaign  pdays  previous     poutcome emp.var.rate  \\\n",
       "0   may         mon  ...         1    999         0  nonexistent          1.1   \n",
       "1   may         mon  ...         1    999         0  nonexistent          1.1   \n",
       "2   may         mon  ...         1    999         0  nonexistent          1.1   \n",
       "3   may         mon  ...         1    999         0  nonexistent          1.1   \n",
       "4   may         mon  ...         1    999         0  nonexistent          1.1   \n",
       "\n",
       "   cons.price.idx  cons.conf.idx  euribor3m  nr.employed   y  \n",
       "0          93.994          -36.4      4.857       5191.0  no  \n",
       "1          93.994          -36.4      4.857       5191.0  no  \n",
       "2          93.994          -36.4      4.857       5191.0  no  \n",
       "3          93.994          -36.4      4.857       5191.0  no  \n",
       "4          93.994          -36.4      4.857       5191.0  no  \n",
       "\n",
       "[5 rows x 21 columns]"
      ]
     },
     "execution_count": 572,
     "metadata": {},
     "output_type": "execute_result"
    }
   ],
   "source": [
    "df.head()"
   ]
  },
  {
   "cell_type": "markdown",
   "metadata": {},
   "source": [
    "### Problem 3: Understanding the Features\n",
    "\n",
    "\n",
    "Examine the data description below, and determine if any of the features are missing values or need to be coerced to a different data type.\n",
    "\n",
    "\n",
    "```\n",
    "Input variables:\n",
    "# bank client data:\n",
    "1 - age (numeric)\n",
    "2 - job : type of job (categorical: 'admin.','blue-collar','entrepreneur','housemaid','management','retired','self-employed','services','student','technician','unemployed','unknown')\n",
    "3 - marital : marital status (categorical: 'divorced','married','single','unknown'; note: 'divorced' means divorced or widowed)\n",
    "4 - education (categorical: 'basic.4y','basic.6y','basic.9y','high.school','illiterate','professional.course','university.degree','unknown')\n",
    "5 - default: has credit in default? (categorical: 'no','yes','unknown')\n",
    "6 - housing: has housing loan? (categorical: 'no','yes','unknown')\n",
    "7 - loan: has personal loan? (categorical: 'no','yes','unknown')\n",
    "# related with the last contact of the current campaign:\n",
    "8 - contact: contact communication type (categorical: 'cellular','telephone')\n",
    "9 - month: last contact month of year (categorical: 'jan', 'feb', 'mar', ..., 'nov', 'dec')\n",
    "10 - day_of_week: last contact day of the week (categorical: 'mon','tue','wed','thu','fri')\n",
    "11 - duration: last contact duration, in seconds (numeric). Important note: this attribute highly affects the output target (e.g., if duration=0 then y='no'). Yet, the duration is not known before a call is performed. Also, after the end of the call y is obviously known. Thus, this input should only be included for benchmark purposes and should be discarded if the intention is to have a realistic predictive model.\n",
    "# other attributes:\n",
    "12 - campaign: number of contacts performed during this campaign and for this client (numeric, includes last contact)\n",
    "13 - pdays: number of days that passed by after the client was last contacted from a previous campaign (numeric; 999 means client was not previously contacted)\n",
    "14 - previous: number of contacts performed before this campaign and for this client (numeric)\n",
    "15 - poutcome: outcome of the previous marketing campaign (categorical: 'failure','nonexistent','success')\n",
    "# social and economic context attributes\n",
    "16 - emp.var.rate: employment variation rate - quarterly indicator (numeric)\n",
    "17 - cons.price.idx: consumer price index - monthly indicator (numeric)\n",
    "18 - cons.conf.idx: consumer confidence index - monthly indicator (numeric)\n",
    "19 - euribor3m: euribor 3 month rate - daily indicator (numeric)\n",
    "20 - nr.employed: number of employees - quarterly indicator (numeric)\n",
    "\n",
    "Output variable (desired target):\n",
    "21 - y - has the client subscribed a term deposit? (binary: 'yes','no')\n",
    "```\n",
    "\n"
   ]
  },
  {
   "cell_type": "code",
   "execution_count": null,
   "metadata": {},
   "outputs": [],
   "source": []
  },
  {
   "cell_type": "markdown",
   "metadata": {},
   "source": [
    "### Problem 4: Understanding the Task\n",
    "\n",
    "After examining the description and data, your goal now is to clearly state the *Business Objective* of the task.  State the objective below."
   ]
  },
  {
   "cell_type": "code",
   "execution_count": 573,
   "metadata": {},
   "outputs": [
    {
     "name": "stdout",
     "output_type": "stream",
     "text": [
      "<class 'pandas.core.frame.DataFrame'>\n",
      "RangeIndex: 41188 entries, 0 to 41187\n",
      "Data columns (total 21 columns):\n",
      " #   Column          Non-Null Count  Dtype  \n",
      "---  ------          --------------  -----  \n",
      " 0   age             41188 non-null  int64  \n",
      " 1   job             41188 non-null  object \n",
      " 2   marital         41188 non-null  object \n",
      " 3   education       41188 non-null  object \n",
      " 4   default         41188 non-null  object \n",
      " 5   housing         41188 non-null  object \n",
      " 6   loan            41188 non-null  object \n",
      " 7   contact         41188 non-null  object \n",
      " 8   month           41188 non-null  object \n",
      " 9   day_of_week     41188 non-null  object \n",
      " 10  duration        41188 non-null  int64  \n",
      " 11  campaign        41188 non-null  int64  \n",
      " 12  pdays           41188 non-null  int64  \n",
      " 13  previous        41188 non-null  int64  \n",
      " 14  poutcome        41188 non-null  object \n",
      " 15  emp.var.rate    41188 non-null  float64\n",
      " 16  cons.price.idx  41188 non-null  float64\n",
      " 17  cons.conf.idx   41188 non-null  float64\n",
      " 18  euribor3m       41188 non-null  float64\n",
      " 19  nr.employed     41188 non-null  float64\n",
      " 20  y               41188 non-null  object \n",
      "dtypes: float64(5), int64(5), object(11)\n",
      "memory usage: 6.6+ MB\n"
     ]
    }
   ],
   "source": [
    "df.info()"
   ]
  },
  {
   "cell_type": "markdown",
   "metadata": {},
   "source": [
    "## Problem Statement :-\n",
    "\n",
    "### Based on the profile of the person we have to predict if they have subscribed to term deposit."
   ]
  },
  {
   "cell_type": "markdown",
   "metadata": {},
   "source": [
    "## <span style=\"color:blue\">Steps followed to Analyse the Data :-</span>\n",
    "### <span style=\"color:green\">1. Analyze the Data for null values and missing values to be filled.Null values are not seen the data.</span>\n",
    "### <span style=\"color:green\">2. Analyze the Data for encoding, most of the data. Most of the columns are category type column. Category encoded the columns.</span>\n",
    "### <span style=\"color:green\">3. Analyze the Data for imbalance. It is seen that the data is imbalanced. Balance the data for better model performance.</span>"
   ]
  },
  {
   "cell_type": "markdown",
   "metadata": {},
   "source": [
    "### Problem 5: Engineering Features\n",
    "\n",
    "Now that you understand your business objective, we will build a basic model to get started.  Before we can do this, we must work to encode the data.  Using just the bank information features (columns 1 - 7), prepare the features and target column for modeling with appropriate encoding and transformations."
   ]
  },
  {
   "cell_type": "markdown",
   "metadata": {},
   "source": [
    "## <span style=\"color:orange\">Select the first 7 columns in the data frame as the features to train the model</span>"
   ]
  },
  {
   "cell_type": "code",
   "execution_count": null,
   "metadata": {},
   "outputs": [],
   "source": [
    "data = df.iloc[:,1:8]"
   ]
  },
  {
   "cell_type": "markdown",
   "metadata": {},
   "source": [
    "## <span style=\"color:orange\">Check for Null or Missing Values in the data frame</span>"
   ]
  },
  {
   "cell_type": "code",
   "execution_count": null,
   "metadata": {},
   "outputs": [],
   "source": [
    "for c in data.columns:\n",
    "        print('missing values in - ' + str(c) + '  ' + str(data[c].isnull()))\n",
    "for x in data.columns:\n",
    "    values=[]\n",
    "    for i in data[x].unique():\n",
    "        values.append(i)\n",
    "    print(str(x) + '--' + str(values))"
   ]
  },
  {
   "cell_type": "markdown",
   "metadata": {},
   "source": [
    "## <span style=\"color:orange\">Encode the columns using Category Encoder</span>"
   ]
  },
  {
   "cell_type": "code",
   "execution_count": null,
   "metadata": {},
   "outputs": [],
   "source": [
    "dCopy = data\n",
    "dCopy['y'] = df['y']\n",
    "\n",
    "for x in data.columns:\n",
    "    dCopy[x] = dCopy[x].astype('category')\n",
    "    dCopy[x] = dCopy[x].cat.codes\n",
    "\n",
    "for x in data.columns:\n",
    "    values=[]\n",
    "    for i in data[x].unique():\n",
    "        values.append(i)\n",
    "    print(str(x) + '--' + str(values))"
   ]
  },
  {
   "cell_type": "code",
   "execution_count": null,
   "metadata": {},
   "outputs": [],
   "source": [
    "def bar_plot(data):\n",
    "    data.value_counts().sort_values().plot(kind = 'bar')"
   ]
  },
  {
   "cell_type": "code",
   "execution_count": null,
   "metadata": {},
   "outputs": [],
   "source": [
    "def print_target_stats(y_train,y_test):\n",
    "    print(f\"Training target statistics: {Counter(y_train)}\")\n",
    "    print(f\"Testing target statistics: {Counter(y_test)}\")"
   ]
  },
  {
   "cell_type": "code",
   "execution_count": null,
   "metadata": {},
   "outputs": [],
   "source": [
    "X=dCopy.drop('y',axis=1)\n",
    "y=dCopy['y']"
   ]
  },
  {
   "cell_type": "markdown",
   "metadata": {},
   "source": [
    "## <span style=\"color:orange\">Plot the Class to check imbalance</span>"
   ]
  },
  {
   "cell_type": "code",
   "execution_count": 580,
   "metadata": {},
   "outputs": [
    {
     "data": {
      "image/png": "[encoded data removed]",
      "text/plain": [
       "<Figure size 432x288 with 1 Axes>"
      ]
     },
     "metadata": {
      "needs_background": "light"
     },
     "output_type": "display_data"
    }
   ],
   "source": [
    "bar_plot(y)"
   ]
  },
  {
   "cell_type": "code",
   "execution_count": null,
   "metadata": {},
   "outputs": [],
   "source": []
  },
  {
   "cell_type": "markdown",
   "metadata": {},
   "source": [
    "### Problem 6: Train/Test Split\n",
    "\n",
    "With your data prepared, split it into a train and test set."
   ]
  },
  {
   "cell_type": "markdown",
   "metadata": {},
   "source": [
    "## <span style=\"color:orange\">Split the data and Training and Testing data at 70:30 ratio</span>"
   ]
  },
  {
   "cell_type": "code",
   "execution_count": 581,
   "metadata": {},
   "outputs": [],
   "source": [
    "X_t,X_test,y_t,y_test=train_test_split(X,y,random_state=42,test_size=0.3)"
   ]
  },
  {
   "cell_type": "code",
   "execution_count": 582,
   "metadata": {},
   "outputs": [
    {
     "name": "stdout",
     "output_type": "stream",
     "text": [
      "Training target statistics: Counter({0: 25580, 1: 3251})\n",
      "Testing target statistics: Counter({0: 10968, 1: 1389})\n"
     ]
    }
   ],
   "source": [
    "print_target_stats(y_t,y_test)"
   ]
  },
  {
   "cell_type": "markdown",
   "metadata": {},
   "source": [
    "## <span style=\"color:orange\">Apply SMOTE to Balance the Class</span>"
   ]
  },
  {
   "cell_type": "code",
   "execution_count": 583,
   "metadata": {},
   "outputs": [],
   "source": [
    "sampler = SMOTE(k_neighbors=2)\n",
    "X_sampled, y_sampled = sampler.fit_resample(X_t, y_t)"
   ]
  },
  {
   "cell_type": "code",
   "execution_count": 584,
   "metadata": {},
   "outputs": [
    {
     "name": "stdout",
     "output_type": "stream",
     "text": [
      "Training target statistics: Counter({0: 25580, 1: 25580})\n",
      "Testing target statistics: Counter({0: 10968, 1: 1389})\n"
     ]
    }
   ],
   "source": [
    "print_target_stats(y_sampled,y_test)"
   ]
  },
  {
   "cell_type": "markdown",
   "metadata": {},
   "source": [
    "## <span style=\"color:orange\">Plot the Class to check for imbalace after applying SMOTE</span>"
   ]
  },
  {
   "cell_type": "code",
   "execution_count": 585,
   "metadata": {},
   "outputs": [
    {
     "data": {
      "image/png": "[encoded data removed]",
      "text/plain": [
       "<Figure size 432x288 with 1 Axes>"
      ]
     },
     "metadata": {
      "needs_background": "light"
     },
     "output_type": "display_data"
    }
   ],
   "source": [
    "bar_plot(y_sampled)"
   ]
  },
  {
   "cell_type": "markdown",
   "metadata": {},
   "source": [
    "### Problem 7: A Baseline Model\n",
    "\n",
    "Before we build our first model, we want to establish a baseline.  What is the baseline performance that our classifier should aim to beat?"
   ]
  },
  {
   "cell_type": "markdown",
   "metadata": {},
   "source": [
    "## <span style=\"color:blue\">Model Building Steps [Logistic Regression, KNN, Decision Tree Classifier, SVC]:-</span>\n",
    "### <span style=\"color:green\">1. The first 7 columns are used as features for the model. The rest of the columns are dropped.</span>\n",
    "### <span style=\"color:green\">2. Split the data into Train and Test data with 30% data going into Test. Used the balanced data for model building</span>\n",
    "### <span style=\"color:green\">3. Plot the Sequential Feature Selection to see the gain with the selected features for each of the model.</span>\n",
    "### <span style=\"color:green\">4. Collect the model metrics viz. score, fit time etc. into a data frame and plot it to see the trend.</span>\n"
   ]
  },
  {
   "cell_type": "code",
   "execution_count": 587,
   "metadata": {},
   "outputs": [],
   "source": [
    "def print_vif(X):\n",
    "    return pd.Series([variance_inflation_factor(X.values, i) \n",
    "                for i in range(X.shape[1])], \n",
    "                    index=X.columns).sort_values(ascending=False)"
   ]
  },
  {
   "cell_type": "markdown",
   "metadata": {},
   "source": [
    "## <span style=\"color:orange\">Print the variance inflation factor to check for multi correlation</span>"
   ]
  },
  {
   "cell_type": "code",
   "execution_count": 588,
   "metadata": {},
   "outputs": [
    {
     "name": "stdout",
     "output_type": "stream",
     "text": [
      "y            0.007901\n",
      "loan         0.005769\n",
      "housing     -0.000045\n",
      "job         -0.000116\n",
      "education   -0.000550\n",
      "marital     -0.000755\n",
      "contact     -0.005939\n",
      "default     -0.013747\n",
      "dtype: float64\n"
     ]
    }
   ],
   "source": [
    "print(print_vif(data))"
   ]
  },
  {
   "cell_type": "markdown",
   "metadata": {},
   "source": [
    "## <span style=\"color:orange\">Create a data frame to record the scores and fit time of the models</span>"
   ]
  },
  {
   "cell_type": "code",
   "execution_count": 589,
   "metadata": {},
   "outputs": [
    {
     "name": "stdout",
     "output_type": "stream",
     "text": [
      "<class 'pandas.core.frame.DataFrame'>\n",
      "RangeIndex: 0 entries\n",
      "Data columns (total 6 columns):\n",
      " #   Column          Non-Null Count  Dtype \n",
      "---  ------          --------------  ----- \n",
      " 0   model           0 non-null      object\n",
      " 1   best_params     0 non-null      object\n",
      " 2   best_score      0 non-null      object\n",
      " 3   best_time       0 non-null      object\n",
      " 4   accuracy_score  0 non-null      object\n",
      " 5   roc_auc_score   0 non-null      object\n",
      "dtypes: object(6)\n",
      "memory usage: 124.0+ bytes\n",
      "None\n"
     ]
    }
   ],
   "source": [
    "comparison= pd.DataFrame({'model': [], \n",
    "             'best_params': [],\n",
    "             'best_score': [],\n",
    "             'best_time':[],\n",
    "             'accuracy_score':[],\n",
    "             'roc_auc_score':[]})\n",
    "comparison=comparison.astype(str)\n",
    "print(comparison.info())"
   ]
  },
  {
   "cell_type": "markdown",
   "metadata": {},
   "source": [
    "## <span style=\"color:orange\">For each of the model execute the SFS and plot it to see the feature selection and find the importance of the feature using permutation importance. Finally run the the fit and predict and record score and fit time for each model in the comparison data frame. Confusion matrix also helps verify the accuracy of the model visually.</span>"
   ]
  },
  {
   "cell_type": "code",
   "execution_count": 590,
   "metadata": {},
   "outputs": [],
   "source": [
    "def print_line_separator():\n",
    "    print('###################################################################################################################')\n",
    "    "
   ]
  },
  {
   "cell_type": "code",
   "execution_count": 591,
   "metadata": {},
   "outputs": [],
   "source": [
    "def sfs(model,X_train,y_train):\n",
    "    sfs = SFS(model,\n",
    "             k_features=X_train.shape[1],\n",
    "             forward=True,\n",
    "             scoring=\"neg_root_mean_squared_error\",\n",
    "             cv=5)\n",
    "    sfs.fit(X_train,y_train)\n",
    "    SFS_PLOT(sfs.get_metric_dict())"
   ]
  },
  {
   "cell_type": "code",
   "execution_count": 592,
   "metadata": {},
   "outputs": [],
   "source": [
    "def pi(name,model,X_train,y_train,title='Confusion Matrix',cmap=plt.cm.Blues):\n",
    "    \n",
    "    sfs(model,X_train,y_train)\n",
    "    \n",
    "    start=time.time()\n",
    "    reg_model=model.fit(X_train,y_train)\n",
    "    end=time.time()\n",
    "    \n",
    "    r = permutation_importance(reg_model,X_train,y_train,n_repeats=9,random_state=42)\n",
    "    r.importances_mean\n",
    "    pi = pd.DataFrame({\"Features\":X_train.columns,\"importance\":r.importances_mean}).sort_values(by=\"importance\",ascending=False)\n",
    "    print_line_separator()\n",
    "    print(pi)    \n",
    "    \n",
    "    pred=model.predict(X_test)\n",
    "    score = model.score(X_test,y_test)\n",
    "    model_params = model.get_params()\n",
    "    accuracy = accuracy_score(y_test, pred)\n",
    "    auc = roc_auc_score(y_test,pred)\n",
    "    \n",
    "    print_line_separator()\n",
    "    conf = metrics.ConfusionMatrixDisplay.from_predictions(y_test, pred)\n",
    "    plt.title(title)\n",
    "    plt.ylabel('True label')\n",
    "    plt.xlabel('Predicated label')\n",
    "    \n",
    "    comparison.loc[len(comparison.index)] = [name,model_params,score,end-start,accuracy,auc]\n",
    "    print(comparison)\n",
    "    print_line_separator()"
   ]
  },
  {
   "cell_type": "markdown",
   "metadata": {},
   "source": [
    "### Problem 8: A Simple Model\n",
    "\n",
    "Use Logistic Regression to build a basic model on your data.  "
   ]
  },
  {
   "cell_type": "code",
   "execution_count": 593,
   "metadata": {},
   "outputs": [],
   "source": [
    "def reg_model(name,X_train,y_train,X_test,y_test):\n",
    "    reg=''\n",
    "    if(name=='LR'):\n",
    "        reg = LogisticRegression()\n",
    "    if(name=='KNN'):\n",
    "        reg = KNeighborsClassifier()\n",
    "    if(name=='DC'):\n",
    "        reg = DecisionTreeClassifier()\n",
    "    if(name=='SVC'):\n",
    "        reg = LinearSVC()\n",
    "    pi(name,reg,X_train,y_train)\n",
    "#np.seterr('raise')"
   ]
  },
  {
   "cell_type": "code",
   "execution_count": 594,
   "metadata": {},
   "outputs": [
    {
     "name": "stdout",
     "output_type": "stream",
     "text": [
      "###################################################################################################################\n",
      "    Features  importance\n",
      "6    contact    0.102055\n",
      "3    default    0.050541\n",
      "0        job    0.000000\n",
      "1    marital    0.000000\n",
      "2  education    0.000000\n",
      "4    housing    0.000000\n",
      "5       loan    0.000000\n",
      "###################################################################################################################\n",
      "  model                                        best_params  best_score  \\\n",
      "0    LR  {'C': 1.0, 'class_weight': None, 'dual': False...     0.53144   \n",
      "\n",
      "   best_time  accuracy_score  roc_auc_score  \n",
      "0   0.104012         0.53144       0.628845  \n",
      "###################################################################################################################\n"
     ]
    },
    {
     "data": {
      "image/png": "[encoded data removed]",
      "text/plain": [
       "<Figure size 432x288 with 1 Axes>"
      ]
     },
     "metadata": {
      "needs_background": "light"
     },
     "output_type": "display_data"
    },
    {
     "data": {
      "image/png": "[encoded data removed]",
      "text/plain": [
       "<Figure size 432x288 with 2 Axes>"
      ]
     },
     "metadata": {
      "needs_background": "light"
     },
     "output_type": "display_data"
    }
   ],
   "source": [
    "reg_model('LR',X_sampled,y_sampled,X_test,y_test)"
   ]
  },
  {
   "cell_type": "code",
   "execution_count": 595,
   "metadata": {},
   "outputs": [
    {
     "name": "stdout",
     "output_type": "stream",
     "text": [
      "###################################################################################################################\n",
      "    Features  importance\n",
      "0        job    0.033594\n",
      "2  education    0.025510\n",
      "6    contact    0.015120\n",
      "4    housing    0.014773\n",
      "5       loan    0.012829\n",
      "1    marital    0.010049\n",
      "3    default    0.006385\n",
      "###################################################################################################################\n",
      "  model                                        best_params  best_score  \\\n",
      "0    LR  {'C': 1.0, 'class_weight': None, 'dual': False...    0.531440   \n",
      "1   KNN  {'algorithm': 'auto', 'leaf_size': 30, 'metric...    0.875293   \n",
      "\n",
      "   best_time  accuracy_score  roc_auc_score  \n",
      "0   0.104012        0.531440       0.628845  \n",
      "1   0.021662        0.875293       0.527339  \n",
      "###################################################################################################################\n"
     ]
    },
    {
     "data": {
      "image/png": "[encoded data removed]",
      "text/plain": [
       "<Figure size 432x288 with 1 Axes>"
      ]
     },
     "metadata": {
      "needs_background": "light"
     },
     "output_type": "display_data"
    },
    {
     "data": {
      "image/png": "[encoded data removed]",
      "text/plain": [
       "<Figure size 432x288 with 2 Axes>"
      ]
     },
     "metadata": {
      "needs_background": "light"
     },
     "output_type": "display_data"
    }
   ],
   "source": [
    "reg_model('KNN',X_sampled,y_sampled,X_test,y_test)"
   ]
  },
  {
   "cell_type": "code",
   "execution_count": 596,
   "metadata": {},
   "outputs": [
    {
     "name": "stdout",
     "output_type": "stream",
     "text": [
      "###################################################################################################################\n",
      "    Features  importance\n",
      "0        job    0.110731\n",
      "6    contact    0.094414\n",
      "2  education    0.089115\n",
      "3    default    0.052445\n",
      "1    marital    0.048877\n",
      "4    housing    0.035321\n",
      "5       loan    0.029116\n",
      "###################################################################################################################\n",
      "  model                                        best_params  best_score  \\\n",
      "0    LR  {'C': 1.0, 'class_weight': None, 'dual': False...    0.531440   \n",
      "1   KNN  {'algorithm': 'auto', 'leaf_size': 30, 'metric...    0.875293   \n",
      "2    DC  {'ccp_alpha': 0.0, 'class_weight': None, 'crit...    0.601683   \n",
      "\n",
      "   best_time  accuracy_score  roc_auc_score  \n",
      "0   0.104012        0.531440       0.628845  \n",
      "1   0.021662        0.875293       0.527339  \n",
      "2   0.027865        0.601683       0.614341  \n",
      "###################################################################################################################\n"
     ]
    },
    {
     "data": {
      "image/png": "[encoded data removed]",
      "text/plain": [
       "<Figure size 432x288 with 1 Axes>"
      ]
     },
     "metadata": {
      "needs_background": "light"
     },
     "output_type": "display_data"
    },
    {
     "data": {
      "image/png": "[encoded data removed]",
      "text/plain": [
       "<Figure size 432x288 with 2 Axes>"
      ]
     },
     "metadata": {
      "needs_background": "light"
     },
     "output_type": "display_data"
    }
   ],
   "source": [
    "reg_model('DC',X_sampled,y_sampled,X_test,y_test)"
   ]
  },
  {
   "cell_type": "code",
   "execution_count": 597,
   "metadata": {},
   "outputs": [
    {
     "name": "stdout",
     "output_type": "stream",
     "text": [
      "###################################################################################################################\n",
      "    Features  importance\n",
      "6    contact    0.102139\n",
      "3    default    0.050556\n",
      "0        job    0.000000\n",
      "1    marital    0.000000\n",
      "2  education    0.000000\n",
      "4    housing    0.000000\n",
      "5       loan    0.000000\n",
      "###################################################################################################################\n",
      "  model                                        best_params  best_score  \\\n",
      "0    LR  {'C': 1.0, 'class_weight': None, 'dual': False...    0.531440   \n",
      "1   KNN  {'algorithm': 'auto', 'leaf_size': 30, 'metric...    0.875293   \n",
      "2    DC  {'ccp_alpha': 0.0, 'class_weight': None, 'crit...    0.601683   \n",
      "3   SVC  {'C': 1.0, 'class_weight': None, 'dual': True,...    0.531440   \n",
      "\n",
      "   best_time  accuracy_score  roc_auc_score  \n",
      "0   0.104012        0.531440       0.628845  \n",
      "1   0.021662        0.875293       0.527339  \n",
      "2   0.027865        0.601683       0.614341  \n",
      "3   2.360158        0.531440       0.628845  \n",
      "###################################################################################################################\n"
     ]
    },
    {
     "data": {
      "image/png": "[encoded data removed]",
      "text/plain": [
       "<Figure size 432x288 with 1 Axes>"
      ]
     },
     "metadata": {
      "needs_background": "light"
     },
     "output_type": "display_data"
    },
    {
     "data": {
      "image/png": "[encoded data removed]",
      "text/plain": [
       "<Figure size 432x288 with 2 Axes>"
      ]
     },
     "metadata": {
      "needs_background": "light"
     },
     "output_type": "display_data"
    }
   ],
   "source": [
    "reg_model('SVC',X_sampled,y_sampled,X_test,y_test)"
   ]
  },
  {
   "cell_type": "markdown",
   "metadata": {},
   "source": [
    "### Problem 9: Score the Model\n",
    "\n",
    "What is the accuracy of your model?"
   ]
  },
  {
   "cell_type": "markdown",
   "metadata": {},
   "source": [
    "## <span style=\"color:orange\">Plot the model score and time to see the performance of each of the model</span>"
   ]
  },
  {
   "cell_type": "code",
   "execution_count": 598,
   "metadata": {},
   "outputs": [
    {
     "data": {
      "text/plain": [
       "<AxesSubplot:xlabel='model', ylabel='best_score'>"
      ]
     },
     "execution_count": 598,
     "metadata": {},
     "output_type": "execute_result"
    },
    {
     "data": {
      "image/png": "[encoded data removed]",
      "text/plain": [
       "<Figure size 432x288 with 1 Axes>"
      ]
     },
     "metadata": {
      "needs_background": "light"
     },
     "output_type": "display_data"
    }
   ],
   "source": [
    "sns.barplot(data=comparison,x=comparison['model'],y=comparison['best_score'])"
   ]
  },
  {
   "cell_type": "code",
   "execution_count": 805,
   "metadata": {},
   "outputs": [
    {
     "data": {
      "text/plain": [
       "<AxesSubplot:xlabel='model', ylabel='best_time'>"
      ]
     },
     "execution_count": 805,
     "metadata": {},
     "output_type": "execute_result"
    },
    {
     "data": {
      "image/png": "[encoded data removed]",
      "text/plain": [
       "<Figure size 1080x576 with 1 Axes>"
      ]
     },
     "metadata": {
      "needs_background": "light"
     },
     "output_type": "display_data"
    }
   ],
   "source": [
    "sns.barplot(data=comparison,x=comparison['model'],y=comparison['best_time'])"
   ]
  },
  {
   "cell_type": "markdown",
   "metadata": {},
   "source": [
    "## <span style=\"color:blue\">Conclusion from Basic Model</span>\n",
    "### <span style=\"color:green\">The Basic model is seen to have low performance. KNN being the best performing model in terms of accuracy and Decision Tree being the best performing in terms of training time</span>\n"
   ]
  },
  {
   "cell_type": "markdown",
   "metadata": {},
   "source": [
    "### Problem 10: Model Comparisons\n",
    "\n",
    "Now, we aim to compare the performance of the Logistic Regression model to our KNN algorithm, Decision Tree, and SVM models.  Using the default settings for each of the models, fit and score each.  Also, be sure to compare the fit time of each of the models.  Present your findings in a `DataFrame` similar to that below:\n",
    "\n",
    "| Model | Train Time | Train Accuracy | Test Accuracy |\n",
    "| ----- | ---------- | -------------  | -----------   |\n",
    "|     |    |.     |.     |"
   ]
  },
  {
   "cell_type": "markdown",
   "metadata": {},
   "source": [
    "## <span style=\"color:blue\">Model Testing and Cross Validation</span>\n",
    "### <span style=\"color:green\">Use a cross validation technique to test the model and see if there are any improvements.</span>\n",
    "### <span style=\"color:green\">Default params have been used.</span>\n",
    "### <span style=\"color:green\">Record the model metrics in a data frame and plot to see the comparison on fit time and accuracy.</span>"
   ]
  },
  {
   "cell_type": "code",
   "execution_count": 693,
   "metadata": {},
   "outputs": [
    {
     "name": "stdout",
     "output_type": "stream",
     "text": [
      "<class 'pandas.core.frame.DataFrame'>\n",
      "RangeIndex: 0 entries\n",
      "Data columns (total 5 columns):\n",
      " #   Column          Non-Null Count  Dtype \n",
      "---  ------          --------------  ----- \n",
      " 0   Model           0 non-null      object\n",
      " 1   Train_Time      0 non-null      object\n",
      " 2   Test_Time       0 non-null      object\n",
      " 3   Train_Accuracy  0 non-null      object\n",
      " 4   Test_Accuracy   0 non-null      object\n",
      "dtypes: object(5)\n",
      "memory usage: 124.0+ bytes\n",
      "None\n"
     ]
    }
   ],
   "source": [
    "dfCompare= pd.DataFrame({'Model': [], \n",
    "             'Train_Time': [],\n",
    "             'Test_Time': [],\n",
    "             'Train_Accuracy': [],\n",
    "             'Test_Accuracy':[]})\n",
    "dfCompare=dfCompare.astype(str)\n",
    "print(dfCompare.info())"
   ]
  },
  {
   "cell_type": "markdown",
   "metadata": {},
   "source": [
    "## <span style=\"color:orange\">For each of the model execute the SFS and plot it to see the feature selection and find the importance of the feature using permutation importance. Finally run the the fit and predict and record score and fit time for each model in the comparison data frame. Confusion matrix also helps verify the accuracy of the model visually.</span>"
   ]
  },
  {
   "cell_type": "code",
   "execution_count": 694,
   "metadata": {},
   "outputs": [],
   "source": [
    "parameters = {\n",
    "                #'kernel': ['linear', 'poly', 'rbf', 'sigmoid'],\n",
    "                #'C': [0.0001, 0.001, 0.01, 0.1, 1, 10, 100],\n",
    "                #'max_iter': [10, 30, 80, 100, 120],\n",
    "                #'process__max_features': [100, 500, 1000, 2000]\n",
    "                #'class_weight': [None, 'balanced']\n",
    "            }"
   ]
  },
  {
   "cell_type": "code",
   "execution_count": 695,
   "metadata": {},
   "outputs": [],
   "source": [
    "def pi_grid(name,model,X_train,y_train,title='Confusion Matrix',cmap=plt.cm.Blues):\n",
    "    \n",
    "    sfs(model,X_train,y_train)\n",
    "    \n",
    "    train_start=time.time()\n",
    "    reg_model=model.fit(X_train,y_train)\n",
    "    train_end=time.time()\n",
    "    \n",
    "    r = permutation_importance(reg_model,X_train,y_train,n_repeats=9,random_state=42)\n",
    "    r.importances_mean\n",
    "    pi = pd.DataFrame({\"Features\":X_train.columns,\"importance\":r.importances_mean}).sort_values(by=\"importance\",ascending=False)\n",
    "    print_line_separator()\n",
    "    print(pi)\n",
    "    train_score = model.score(X_test,y_test)\n",
    "    \n",
    "    grid = GridSearchCV(estimator=model, param_grid=parameters)\n",
    "    test_start=time.time()\n",
    "    grid.fit(X_train,y_train)\n",
    "    test_end=time.time()\n",
    "    grid_pred=grid.predict(X_test)\n",
    "    test_score=grid.score(X_test,y_test)\n",
    "    print_line_separator()\n",
    "    conf = metrics.ConfusionMatrixDisplay.from_predictions(y_test, grid_pred)\n",
    "    plt.title(title)\n",
    "    plt.ylabel('True label')\n",
    "    plt.xlabel('Predicated label')\n",
    "    \n",
    "    dfCompare.loc[len(dfCompare.index)] = [name,train_end-train_start,test_end-test_start,train_score,test_score]\n",
    "    print(dfCompare)\n",
    "    print_line_separator()"
   ]
  },
  {
   "cell_type": "code",
   "execution_count": 696,
   "metadata": {},
   "outputs": [],
   "source": [
    "def reg_grid_model(name,X_train,y_train,X_test,y_test):\n",
    "    reg=''\n",
    "    if(name=='LR'):\n",
    "        reg = LogisticRegression()\n",
    "    if(name=='KNN'):\n",
    "        reg = KNeighborsClassifier()\n",
    "    if(name=='DC'):\n",
    "        reg = DecisionTreeClassifier()\n",
    "    if(name=='SVC'):\n",
    "        reg = LinearSVC()\n",
    "    pi_grid(name,reg,X_train,y_train)\n",
    "#np.seterr('raise')"
   ]
  },
  {
   "cell_type": "code",
   "execution_count": 697,
   "metadata": {},
   "outputs": [
    {
     "name": "stdout",
     "output_type": "stream",
     "text": [
      "###################################################################################################################\n",
      "    Features  importance\n",
      "6    contact    0.102055\n",
      "3    default    0.050541\n",
      "0        job    0.000000\n",
      "1    marital    0.000000\n",
      "2  education    0.000000\n",
      "4    housing    0.000000\n",
      "5       loan    0.000000\n",
      "###################################################################################################################\n",
      "  Model  Train_Time  Test_Time  Train_Accuracy  Test_Accuracy\n",
      "0    LR    0.104947   0.477382         0.53144        0.53144\n",
      "###################################################################################################################\n"
     ]
    },
    {
     "data": {
      "image/png": "[encoded data removed]",
      "text/plain": [
       "<Figure size 432x288 with 1 Axes>"
      ]
     },
     "metadata": {
      "needs_background": "light"
     },
     "output_type": "display_data"
    },
    {
     "data": {
      "image/png": "[encoded data removed]",
      "text/plain": [
       "<Figure size 432x288 with 2 Axes>"
      ]
     },
     "metadata": {
      "needs_background": "light"
     },
     "output_type": "display_data"
    }
   ],
   "source": [
    "reg_grid_model('LR',X_sampled,y_sampled,X_test,y_test)"
   ]
  },
  {
   "cell_type": "code",
   "execution_count": 698,
   "metadata": {},
   "outputs": [
    {
     "name": "stdout",
     "output_type": "stream",
     "text": [
      "###################################################################################################################\n",
      "    Features  importance\n",
      "0        job    0.032821\n",
      "2  education    0.024118\n",
      "4    housing    0.015970\n",
      "6    contact    0.012957\n",
      "5       loan    0.012032\n",
      "1    marital    0.008716\n",
      "3    default    0.006472\n",
      "###################################################################################################################\n",
      "  Model  Train_Time  Test_Time  Train_Accuracy  Test_Accuracy\n",
      "0    LR    0.104947   0.477382        0.531440       0.531440\n",
      "1   KNN    0.022185   2.168465        0.876912       0.876912\n",
      "###################################################################################################################\n"
     ]
    },
    {
     "data": {
      "image/png": "[encoded data removed]",
      "text/plain": [
       "<Figure size 432x288 with 1 Axes>"
      ]
     },
     "metadata": {
      "needs_background": "light"
     },
     "output_type": "display_data"
    },
    {
     "data": {
      "image/png": "[encoded data removed]",
      "text/plain": [
       "<Figure size 432x288 with 2 Axes>"
      ]
     },
     "metadata": {
      "needs_background": "light"
     },
     "output_type": "display_data"
    }
   ],
   "source": [
    "reg_grid_model('KNN',X_sampled,y_sampled,X_test,y_test)"
   ]
  },
  {
   "cell_type": "code",
   "execution_count": 699,
   "metadata": {},
   "outputs": [
    {
     "name": "stdout",
     "output_type": "stream",
     "text": [
      "###################################################################################################################\n",
      "    Features  importance\n",
      "0        job    0.118797\n",
      "6    contact    0.092844\n",
      "2  education    0.091882\n",
      "1    marital    0.053325\n",
      "3    default    0.052432\n",
      "4    housing    0.036333\n",
      "5       loan    0.031099\n",
      "###################################################################################################################\n",
      "  Model  Train_Time  Test_Time  Train_Accuracy  Test_Accuracy\n",
      "0    LR    0.104947   0.477382        0.531440       0.531440\n",
      "1   KNN    0.022185   2.168465        0.876912       0.876912\n",
      "2    DC    0.024489   0.152855        0.608967       0.609290\n",
      "###################################################################################################################\n"
     ]
    },
    {
     "data": {
      "image/png": "[encoded data removed]",
      "text/plain": [
       "<Figure size 432x288 with 1 Axes>"
      ]
     },
     "metadata": {
      "needs_background": "light"
     },
     "output_type": "display_data"
    },
    {
     "data": {
      "image/png": "[encoded data removed]",
      "text/plain": [
       "<Figure size 432x288 with 2 Axes>"
      ]
     },
     "metadata": {
      "needs_background": "light"
     },
     "output_type": "display_data"
    }
   ],
   "source": [
    "reg_grid_model('DC',X_sampled,y_sampled,X_test,y_test)"
   ]
  },
  {
   "cell_type": "code",
   "execution_count": 700,
   "metadata": {},
   "outputs": [
    {
     "name": "stdout",
     "output_type": "stream",
     "text": [
      "###################################################################################################################\n",
      "    Features  importance\n",
      "6    contact    0.102055\n",
      "3    default    0.050541\n",
      "0        job    0.000000\n",
      "1    marital    0.000000\n",
      "2  education    0.000000\n",
      "4    housing    0.000000\n",
      "5       loan    0.000000\n",
      "###################################################################################################################\n",
      "  Model  Train_Time  Test_Time  Train_Accuracy  Test_Accuracy\n",
      "0    LR    0.104947   0.477382        0.531440       0.531440\n",
      "1   KNN    0.022185   2.168465        0.876912       0.876912\n",
      "2    DC    0.024489   0.152855        0.608967       0.609290\n",
      "3   SVC    2.627875  12.973452        0.531440       0.531440\n",
      "###################################################################################################################\n"
     ]
    },
    {
     "data": {
      "image/png": "[encoded data removed]",
      "text/plain": [
       "<Figure size 432x288 with 1 Axes>"
      ]
     },
     "metadata": {
      "needs_background": "light"
     },
     "output_type": "display_data"
    },
    {
     "data": {
      "image/png": "[encoded data removed]",
      "text/plain": [
       "<Figure size 432x288 with 2 Axes>"
      ]
     },
     "metadata": {
      "needs_background": "light"
     },
     "output_type": "display_data"
    }
   ],
   "source": [
    "reg_grid_model('SVC',X_sampled,y_sampled,X_test,y_test)"
   ]
  },
  {
   "cell_type": "code",
   "execution_count": 701,
   "metadata": {},
   "outputs": [
    {
     "data": {
      "text/plain": [
       "<AxesSubplot:xlabel='Model', ylabel='Train_Accuracy'>"
      ]
     },
     "execution_count": 701,
     "metadata": {},
     "output_type": "execute_result"
    },
    {
     "data": {
      "image/png": "[encoded data removed]",
      "text/plain": [
       "<Figure size 432x288 with 1 Axes>"
      ]
     },
     "metadata": {
      "needs_background": "light"
     },
     "output_type": "display_data"
    }
   ],
   "source": [
    "sns.barplot(data=dfCompare,x=dfCompare['Model'],y=dfCompare['Train_Accuracy'])"
   ]
  },
  {
   "cell_type": "code",
   "execution_count": 702,
   "metadata": {},
   "outputs": [
    {
     "data": {
      "text/plain": [
       "<AxesSubplot:xlabel='Model', ylabel='Test_Accuracy'>"
      ]
     },
     "execution_count": 702,
     "metadata": {},
     "output_type": "execute_result"
    },
    {
     "data": {
      "image/png": "[encoded data removed]",
      "text/plain": [
       "<Figure size 432x288 with 1 Axes>"
      ]
     },
     "metadata": {
      "needs_background": "light"
     },
     "output_type": "display_data"
    }
   ],
   "source": [
    "sns.barplot(data=dfCompare,x=dfCompare['Model'],y=dfCompare['Test_Accuracy'])"
   ]
  },
  {
   "cell_type": "code",
   "execution_count": 806,
   "metadata": {},
   "outputs": [
    {
     "data": {
      "image/png": "[encoded data removed]",
      "text/plain": [
       "<Figure size 1080x576 with 1 Axes>"
      ]
     },
     "metadata": {
      "needs_background": "light"
     },
     "output_type": "display_data"
    }
   ],
   "source": [
    "plot_comparison=comparison\n",
    "plot_comparison['Train_Time'] = dfCompare['Train_Time']\n",
    "plot_comparison['Test_Time'] = dfCompare['Test_Time']\n",
    "basic_scores=plot_comparison['best_time']\n",
    "cv_train_scores=plot_comparison['Train_Time']\n",
    "cv_test_scores=plot_comparison['Test_Time']\n",
    "fig = plt.figure()\n",
    "X_axis = np.arange(len(plot_comparison['model']))\n",
    "ax = fig.add_axes([0,0,1,1])\n",
    "plt.bar(X_axis,basic_scores,0.2,color='green',label='Basic Fit Time')\n",
    "plt.bar(X_axis - 0.2,cv_train_scores,0.2,color='grey',label='CV Train Fit Time')\n",
    "plt.bar(X_axis + 0.2,cv_test_scores,0.2,color='yellow',label='CV Test Fit Time')\n",
    "plt.xticks(rotation = 45)\n",
    "plt.xticks(X_axis, comparison['model'])\n",
    "plt.legend()\n",
    "plt.rcParams['figure.figsize']=(15,8)\n",
    "plt.show()"
   ]
  },
  {
   "cell_type": "code",
   "execution_count": 807,
   "metadata": {},
   "outputs": [
    {
     "data": {
      "image/png": "[encoded data removed]",
      "text/plain": [
       "<Figure size 1080x576 with 1 Axes>"
      ]
     },
     "metadata": {
      "needs_background": "light"
     },
     "output_type": "display_data"
    }
   ],
   "source": [
    "plot_comparison=comparison\n",
    "plot_comparison['Train_Accuracy'] = dfCompare['Train_Accuracy']\n",
    "plot_comparison['Test_Accuracy'] = dfCompare['Test_Accuracy']\n",
    "basic_scores=plot_comparison['best_score']\n",
    "cv_train_scores=plot_comparison['Train_Accuracy']\n",
    "cv_test_scores=plot_comparison['Test_Accuracy']\n",
    "fig = plt.figure()\n",
    "X_axis = np.arange(len(plot_comparison['model']))\n",
    "ax = fig.add_axes([0,0,1,1])\n",
    "plt.bar(X_axis,basic_scores,0.2,color='green',label='Basic Train Scores')\n",
    "plt.bar(X_axis - 0.2,cv_train_scores,0.2,color='grey',label='CV Train Scores')\n",
    "plt.bar(X_axis + 0.2,cv_test_scores,0.2,color='yellow',label='CV Test Scores')\n",
    "plt.xticks(rotation = 45)\n",
    "plt.xticks(X_axis, comparison['model'])\n",
    "plt.legend()\n",
    "plt.rcParams['figure.figsize']=(15,8)\n",
    "plt.show()"
   ]
  },
  {
   "cell_type": "markdown",
   "metadata": {},
   "source": [
    "## <span style=\"color:blue\">Use a cross validation technique to test the model.</span>\n",
    "### <span style=\"color:green\">The basic cross validation has had no effect on the model performance, the time taken by the model has increased in some cases but the performance hasn't seen any improvement</span>"
   ]
  },
  {
   "cell_type": "markdown",
   "metadata": {},
   "source": [
    "### Problem 11: Improving the Model\n",
    "\n",
    "Now that we have some basic models on the board, we want to try to improve these.  Below, we list a few things to explore in this pursuit.\n",
    "\n",
    "- More feature engineering and exploration.  For example, should we keep the gender feature?  Why or why not?\n",
    "- Hyperparameter tuning and grid search.  All of our models have additional hyperparameters to tune and explore.  For example the number of neighbors in KNN or the maximum depth of a Decision Tree.  \n",
    "- Adjust your performance metric"
   ]
  },
  {
   "cell_type": "markdown",
   "metadata": {},
   "source": [
    "## <span style=\"color:blue\">Model Improvement.</span>\n",
    "### <span style=\"color:green\">1. Following Steps have been taken in attempt to improve the model performance.</span>\n",
    "### <span style=\"color:green\">2. Add Additional features to the data</span>\n",
    "### <span style=\"color:green\">3. Balance the class after adding additional features</span>\n",
    "### <span style=\"color:green\">4. Encode the new features using category encoder</span>\n",
    "### <span style=\"color:green\">5. Tune the Hyper parameters on each of the model</span>"
   ]
  },
  {
   "cell_type": "code",
   "execution_count": 705,
   "metadata": {},
   "outputs": [
    {
     "name": "stdout",
     "output_type": "stream",
     "text": [
      "missing values in - age  0        False\n",
      "1        False\n",
      "2        False\n",
      "3        False\n",
      "4        False\n",
      "         ...  \n",
      "41183    False\n",
      "41184    False\n",
      "41185    False\n",
      "41186    False\n",
      "41187    False\n",
      "Name: age, Length: 41188, dtype: bool\n",
      "missing values in - job  0        False\n",
      "1        False\n",
      "2        False\n",
      "3        False\n",
      "4        False\n",
      "         ...  \n",
      "41183    False\n",
      "41184    False\n",
      "41185    False\n",
      "41186    False\n",
      "41187    False\n",
      "Name: job, Length: 41188, dtype: bool\n",
      "missing values in - marital  0        False\n",
      "1        False\n",
      "2        False\n",
      "3        False\n",
      "4        False\n",
      "         ...  \n",
      "41183    False\n",
      "41184    False\n",
      "41185    False\n",
      "41186    False\n",
      "41187    False\n",
      "Name: marital, Length: 41188, dtype: bool\n",
      "missing values in - education  0        False\n",
      "1        False\n",
      "2        False\n",
      "3        False\n",
      "4        False\n",
      "         ...  \n",
      "41183    False\n",
      "41184    False\n",
      "41185    False\n",
      "41186    False\n",
      "41187    False\n",
      "Name: education, Length: 41188, dtype: bool\n",
      "missing values in - default  0        False\n",
      "1        False\n",
      "2        False\n",
      "3        False\n",
      "4        False\n",
      "         ...  \n",
      "41183    False\n",
      "41184    False\n",
      "41185    False\n",
      "41186    False\n",
      "41187    False\n",
      "Name: default, Length: 41188, dtype: bool\n",
      "missing values in - housing  0        False\n",
      "1        False\n",
      "2        False\n",
      "3        False\n",
      "4        False\n",
      "         ...  \n",
      "41183    False\n",
      "41184    False\n",
      "41185    False\n",
      "41186    False\n",
      "41187    False\n",
      "Name: housing, Length: 41188, dtype: bool\n",
      "missing values in - loan  0        False\n",
      "1        False\n",
      "2        False\n",
      "3        False\n",
      "4        False\n",
      "         ...  \n",
      "41183    False\n",
      "41184    False\n",
      "41185    False\n",
      "41186    False\n",
      "41187    False\n",
      "Name: loan, Length: 41188, dtype: bool\n",
      "missing values in - contact  0        False\n",
      "1        False\n",
      "2        False\n",
      "3        False\n",
      "4        False\n",
      "         ...  \n",
      "41183    False\n",
      "41184    False\n",
      "41185    False\n",
      "41186    False\n",
      "41187    False\n",
      "Name: contact, Length: 41188, dtype: bool\n",
      "missing values in - month  0        False\n",
      "1        False\n",
      "2        False\n",
      "3        False\n",
      "4        False\n",
      "         ...  \n",
      "41183    False\n",
      "41184    False\n",
      "41185    False\n",
      "41186    False\n",
      "41187    False\n",
      "Name: month, Length: 41188, dtype: bool\n",
      "missing values in - day_of_week  0        False\n",
      "1        False\n",
      "2        False\n",
      "3        False\n",
      "4        False\n",
      "         ...  \n",
      "41183    False\n",
      "41184    False\n",
      "41185    False\n",
      "41186    False\n",
      "41187    False\n",
      "Name: day_of_week, Length: 41188, dtype: bool\n",
      "missing values in - duration  0        False\n",
      "1        False\n",
      "2        False\n",
      "3        False\n",
      "4        False\n",
      "         ...  \n",
      "41183    False\n",
      "41184    False\n",
      "41185    False\n",
      "41186    False\n",
      "41187    False\n",
      "Name: duration, Length: 41188, dtype: bool\n",
      "missing values in - campaign  0        False\n",
      "1        False\n",
      "2        False\n",
      "3        False\n",
      "4        False\n",
      "         ...  \n",
      "41183    False\n",
      "41184    False\n",
      "41185    False\n",
      "41186    False\n",
      "41187    False\n",
      "Name: campaign, Length: 41188, dtype: bool\n",
      "missing values in - pdays  0        False\n",
      "1        False\n",
      "2        False\n",
      "3        False\n",
      "4        False\n",
      "         ...  \n",
      "41183    False\n",
      "41184    False\n",
      "41185    False\n",
      "41186    False\n",
      "41187    False\n",
      "Name: pdays, Length: 41188, dtype: bool\n",
      "missing values in - previous  0        False\n",
      "1        False\n",
      "2        False\n",
      "3        False\n",
      "4        False\n",
      "         ...  \n",
      "41183    False\n",
      "41184    False\n",
      "41185    False\n",
      "41186    False\n",
      "41187    False\n",
      "Name: previous, Length: 41188, dtype: bool\n",
      "missing values in - poutcome  0        False\n",
      "1        False\n",
      "2        False\n",
      "3        False\n",
      "4        False\n",
      "         ...  \n",
      "41183    False\n",
      "41184    False\n",
      "41185    False\n",
      "41186    False\n",
      "41187    False\n",
      "Name: poutcome, Length: 41188, dtype: bool\n",
      "missing values in - emp.var.rate  0        False\n",
      "1        False\n",
      "2        False\n",
      "3        False\n",
      "4        False\n",
      "         ...  \n",
      "41183    False\n",
      "41184    False\n",
      "41185    False\n",
      "41186    False\n",
      "41187    False\n",
      "Name: emp.var.rate, Length: 41188, dtype: bool\n",
      "missing values in - cons.price.idx  0        False\n",
      "1        False\n",
      "2        False\n",
      "3        False\n",
      "4        False\n",
      "         ...  \n",
      "41183    False\n",
      "41184    False\n",
      "41185    False\n",
      "41186    False\n",
      "41187    False\n",
      "Name: cons.price.idx, Length: 41188, dtype: bool\n",
      "missing values in - cons.conf.idx  0        False\n",
      "1        False\n",
      "2        False\n",
      "3        False\n",
      "4        False\n",
      "         ...  \n",
      "41183    False\n",
      "41184    False\n",
      "41185    False\n",
      "41186    False\n",
      "41187    False\n",
      "Name: cons.conf.idx, Length: 41188, dtype: bool\n",
      "missing values in - euribor3m  0        False\n",
      "1        False\n",
      "2        False\n",
      "3        False\n",
      "4        False\n",
      "         ...  \n",
      "41183    False\n",
      "41184    False\n",
      "41185    False\n",
      "41186    False\n",
      "41187    False\n",
      "Name: euribor3m, Length: 41188, dtype: bool\n",
      "missing values in - nr.employed  0        False\n",
      "1        False\n",
      "2        False\n",
      "3        False\n",
      "4        False\n",
      "         ...  \n",
      "41183    False\n",
      "41184    False\n",
      "41185    False\n",
      "41186    False\n",
      "41187    False\n",
      "Name: nr.employed, Length: 41188, dtype: bool\n",
      "missing values in - y  0        False\n",
      "1        False\n",
      "2        False\n",
      "3        False\n",
      "4        False\n",
      "         ...  \n",
      "41183    False\n",
      "41184    False\n",
      "41185    False\n",
      "41186    False\n",
      "41187    False\n",
      "Name: y, Length: 41188, dtype: bool\n",
      "age--[39, 40, 20, 23, 28, 42, 24, 7, 8, 12, 18, 37, 29, 33, 22, 13, 38, 32, 17, 35, 41, 15, 21, 27, 25, 43, 36, 30, 34, 31, 16, 14, 26, 19, 11, 10, 9, 5, 6, 3, 4, 44, 2, 1, 53, 49, 59, 50, 56, 71, 76, 60, 51, 58, 46, 63, 45, 48, 55, 65, 47, 54, 52, 61, 68, 62, 66, 64, 57, 0, 70, 73, 69, 77, 75, 67, 74, 72]\n",
      "job--[3, 7, 0, 1, 9, 5, 4, 10, 6, 11, 2, 8]\n",
      "marital--[1, 2, 0, 3]\n",
      "education--[0, 3, 1, 2, 5, 7, 6, 4]\n",
      "default--[0, 1, 2]\n",
      "housing--[0, 2, 1]\n",
      "loan--[0, 2, 1]\n",
      "contact--[1, 0]\n",
      "month--[6, 4, 3, 1, 8, 7, 2, 5, 0, 9]\n",
      "day_of_week--[1, 3, 4, 2, 0]\n",
      "duration--[261, 149, 226, 151, 307, 198, 139, 217, 380, 50, 55, 222, 137, 293, 146, 174, 312, 440, 353, 195, 38, 262, 342, 181, 172, 99, 93, 233, 255, 362, 348, 386, 73, 230, 208, 336, 365, 1425, 577, 366, 314, 160, 212, 188, 22, 616, 178, 355, 225, 266, 253, 179, 269, 135, 161, 787, 145, 449, 812, 164, 357, 232, 91, 273, 158, 177, 200, 176, 211, 214, 1395, 349, 337, 272, 193, 165, 1034, 20, 246, 529, 192, 1344, 180, 48, 213, 545, 583, 221, 426, 287, 197, 257, 229, 400, 190, 21, 300, 123, 325, 514, 848, 194, 286, 247, 518, 364, 98, 439, 79, 175, 61, 78, 102, 579, 143, 677, 267, 345, 185, 207, 69, 100, 125, 461, 240, 70, 136, 528, 541, 338, 163, 87, 301, 46, 52, 204, 155, 71, 243, 186, 559, 1491, 85, 506, 114, 842, 427, 292, 128, 107, 303, 81, 270, 228, 673, 250, 130, 252, 138, 412, 19, 717, 313, 289, 683, 1067, 167, 356, 277, 218, 67, 291, 248, 256, 477, 611, 471, 381, 251, 408, 322, 216, 210, 288, 168, 132, 64, 209, 410, 580, 127, 189, 238, 124, 18, 730, 40, 142, 389, 702, 117, 370, 119, 361, 350, 150, 332, 58, 89, 152, 110, 463, 958, 10, 118, 92, 75, 932, 56, 5, 206, 446, 742, 120, 122, 215, 205, 83, 106, 108, 358, 453, 173, 241, 224, 148, 199, 196, 111, 231, 316, 669, 425, 121, 88, 402, 144, 220, 254, 503, 680, 421, 113, 347, 404, 396, 379, 306, 77, 54, 344, 202, 278, 184, 235, 290, 133, 318, 437, 501, 1172, 1022, 769, 442, 455, 424, 43, 154, 393, 203, 140, 326, 483, 259, 227, 576, 90, 505, 245, 623, 496, 276, 744, 271, 141, 264, 309, 1416, 101, 354, 451, 159, 170, 112, 53, 134, 678, 182, 162, 27, 699, 1428, 310, 47, 30, 472, 116, 448, 169, 157, 49, 374, 531, 153, 80, 568, 915, 82, 166, 369, 371, 263, 41, 13, 26, 792, 242, 268, 375, 383, 1246, 502, 260, 105, 524, 352, 695, 76, 535, 390, 315, 36, 1469, 219, 147, 407, 65, 284, 285, 258, 635, 802, 57, 304, 392, 201, 329, 328, 191, 532, 416, 37, 530, 29, 311, 507, 333, 739, 339, 308, 467, 378, 1403, 346, 60, 716, 234, 296, 283, 109, 95, 31, 593, 631, 32, 1373, 800, 239, 42, 305, 343, 126, 249, 59, 51, 275, 479, 96, 720, 395, 629, 131, 298, 97, 104, 851, 294, 74, 988, 464, 732, 359, 274, 1371, 615, 327, 236, 492, 1123, 295, 591, 786, 388, 25, 401, 435, 423, 799, 45, 68, 444, 223, 566, 376, 511, 865, 1399, 279, 129, 432, 516, 617, 171, 614, 485, 406, 650, 590, 72, 474, 1090, 910, 1053, 688, 103, 607, 331, 398, 803, 481, 418, 24, 441, 1002, 550, 764, 1230, 1394, 62, 517, 299, 244, 548, 66, 980, 1430, 84, 489, 864, 281, 941, 319, 35, 17, 280, 156, 813, 94, 183, 604, 86, 11, 405, 462, 39, 187, 323, 521, 1104, 12, 1105, 33, 784, 665, 475, 63, 712, 1000, 237, 500, 789, 513, 468, 756, 14, 491, 44, 985, 1148, 807, 534, 28, 302, 1497, 767, 627, 403, 626, 23, 543, 1154, 422, 15, 335, 952, 459, 4, 981, 672, 8, 330, 399, 297, 885, 341, 515, 1162, 466, 826, 598, 584, 846, 659, 772, 926, 710, 498, 705, 480, 1518, 1117, 384, 825, 490, 115, 646, 653, 377, 544, 324, 391, 654, 1076, 557, 1431, 622, 1487, 1045, 282, 409, 1435, 551, 663, 1070, 1340, 750, 488, 460, 877, 317, 834, 1377, 836, 997, 592, 757, 523, 363, 1131, 486, 539, 820, 788, 832, 1099, 1360, 493, 457, 889, 1073, 1224, 470, 793, 413, 574, 596, 320, 484, 456, 334, 504, 905, 723, 1279, 520, 382, 1302, 428, 360, 1536, 995, 618, 351, 1508, 373, 340, 1145, 609, 806, 766, 1008, 768, 473, 996, 844, 852, 452, 913, 443, 431, 565, 753, 708, 265, 434, 805, 3, 420, 367, 394, 411, 34, 850, 1043, 647, 771, 1082, 1095, 942, 816, 1437, 1024, 735, 438, 939, 387, 476, 606, 824, 1264, 686, 1110, 1260, 857, 546, 429, 868, 833, 829, 749, 1020, 973, 924, 762, 746, 1036, 668, 726, 634, 554, 436, 900, 594, 636, 738, 482, 567, 582, 1103, 837, 1321, 855, 747, 1006, 415, 552, 644, 558, 1077, 1064, 1028, 397, 599, 1217, 1143, 651, 734, 417, 587, 917, 1208, 719, 597, 525, 815, 909, 465, 969, 561, 1190, 589, 960, 1139, 1196, 619, 1042, 419, 1462, 760, 1222, 770, 487, 697, 430, 809, 7, 849, 854, 874, 890, 512, 601, 843, 676, 656, 1213, 1128, 731, 754, 679, 1195, 892, 703, 433, 1274, 895, 718, 1140, 16, 1524, 698, 1113, 509, 1120, 1315, 827, 588, 522, 1166, 1129, 1015, 469, 385, 1209, 1055, 1098, 881, 940, 798, 610, 1174, 1014, 643, 571, 445, 1415, 963, 1185, 1530, 1176, 1468, 1270, 775, 600, 447, 1447, 774, 1256, 1337, 547, 1300, 1037, 625, 994, 657, 1054, 1333, 6, 916, 777, 1307, 725, 801, 935, 692, 903, 508, 783, 603, 871, 641, 954, 628, 494, 759, 819, 648, 947, 578, 795, 542, 828, 1252, 748, 563, 450, 897, 856, 660, 1429, 572, 573, 811, 888, 681, 1141, 1432, 859, 575, 983, 671, 713, 920, 700, 526, 621, 1282, 1149, 736, 785, 1063, 533, 921, 691, 536, 556, 998, 923, 773, 891, 478, 553, 1329, 569, 372, 368, 1050, 1188, 1026, 581, 970, 745, 630, 862, 1199, 642, 729, 893, 519, 321, 796, 724, 741, 414, 454, 894, 763, 633, 560, 951, 674, 740, 776, 537, 755, 751, 1401, 709, 570, 0, 949, 1531, 1035, 662, 1146, 860, 1352, 1180, 821, 497, 1158, 675, 694, 664, 863, 1439, 667, 1233, 585, 620, 1168, 733, 791, 1178, 933, 929, 878, 1018, 689, 1039, 637, 685, 1409, 752, 1160, 898, 814, 858, 1097, 645, 1509, 711, 555, 866, 652, 682, 853, 1227, 867, 1086, 1362, 1200, 613, 1182, 1483, 722, 510, 1539, 944, 1065, 527, 1059, 658, 562, 758, 962, 612, 1266, 927, 1396, 605, 1150, 959, 938, 1017, 495, 1517, 1219, 1290, 1370, 1271, 1206, 1126, 638, 1336, 1214, 1506, 624, 869, 908, 1133, 701, 761, 1044, 999, 690, 1074, 586, 979, 817, 1010, 883, 1004, 936, 1062, 1232, 1101, 1485, 861, 1390, 964, 1033, 1241, 639, 1523, 1075, 1228, 1346, 1243, 540, 1046, 1087, 899, 937, 782, 948, 1122, 458, 706, 1170, 946, 838, 902, 649, 781, 884, 1488, 989, 870, 1226, 602, 640, 1414, 1207, 1261, 1309, 822, 1202, 1247, 1078, 1013, 1211, 721, 1526, 880, 714, 982, 1459, 1278, 1521, 975, 1179, 835, 1372, 1354, 1378, 632, 707, 1215, 1499, 704, 1167, 1057, 1051, 1072, 810, 1258, 919, 1317, 1489, 1121, 1009, 549, 1005, 9, 1522, 1393, 1423, 1413, 1351, 1320, 818, 693, 804, 1083, 984, 670, 655, 790, 1532, 780, 1041, 1484, 953, 987, 538, 1326, 1229, 1092, 1285, 887, 1171, 930, 830, 564, 1038, 1445, 1019, 831, 1436, 1052, 1277, 687, 1500, 986, 727, 1106, 1124, 728, 1257, 1007, 1242, 1330, 1324, 1011, 1056, 1091, 978, 879, 1275, 1490, 1361, 839, 1312, 1540, 794, 684, 904, 1245, 961, 966, 1480, 1304, 666, 1142, 595, 1071, 1155, 1421, 1254, 1310, 1137, 1115, 1426, 1061, 1047, 778, 808, 1411, 977, 1194, 779, 1322, 1127, 1318, 715, 1451, 1134, 872, 1325, 1273, 1349, 1231, 1001, 1400, 1335, 1135, 1305, 1259, 1152, 1427, 901, 974, 1364, 1112, 907, 1288, 1298, 911, 1323, 1094, 1031, 847, 1466, 1276, 1119, 906, 896, 1283, 1380, 1456, 1186, 1235, 1021, 1367, 661, 608, 1177, 1201, 1240, 1132, 1029, 1192, 1408, 1153, 1136, 873, 1476, 1267, 1446, 1263, 1079, 1496, 1109, 1253, 1248, 1287, 1175, 1444, 1332, 1358, 912, 1464, 823, 1460, 1455, 1405, 1359, 1472, 743, 1486, 1023, 1294, 943, 1295, 1147, 1085, 499, 1066, 1391, 1520, 797, 1161, 1049, 1125, 1068, 1181, 1525, 918, 1441, 845, 1355, 972, 1255, 1268, 1193, 1169, 991, 1286, 1505, 1384, 1212, 1347, 1338, 1341, 1457, 1537, 875, 1471, 1251, 990, 765, 1060, 914, 1088, 1365, 1236, 967, 1156, 1118, 696, 1081, 1410, 1440, 1350, 1458, 965, 737, 1030, 1184, 1535, 1159, 1397, 1465, 1111, 1291, 1388, 1244, 1205, 1442, 971, 1343, 1542, 1366, 1376, 1102, 1108, 1218, 1265, 1452, 1293, 957, 1299, 1189, 1498, 1025, 1114, 1420, 1513, 1533, 1515, 1534, 1203, 1543, 1250, 1407, 1080, 956, 1482, 1107, 1461, 2, 1328, 1448, 968, 1385, 922, 993, 1048, 1381, 1237, 1363, 1223, 1422, 1345, 1272, 1327, 992, 1165, 1453, 1032, 1216, 928, 1357, 1138, 1027, 886, 1144, 1130, 1514, 1404, 1516, 1187, 1157, 1353, 976, 1392, 1386, 1058, 1334, 1529, 1374, 1527, 1512, 1284, 1510, 1, 1501, 1163, 1424, 1402, 1297, 1183, 1151, 1342, 1292, 1238, 1316, 1084, 840, 1417, 945, 1528, 1493, 1502, 1173, 1100, 1382, 1003, 1454, 1269, 1281, 1220, 1475, 1296, 841, 1204, 1089, 950, 1069, 1116, 1356, 1280, 1474, 1164, 1306, 876, 1221, 1473, 1016, 1369, 931, 1197, 1303, 1375, 1470, 1434, 1096, 1368, 1478, 934, 1479, 1249, 1481, 1450, 1234, 1012, 1438, 1379, 955, 1239, 1301, 1262, 1511, 1467, 1538, 1339, 1040, 1507, 1289, 1406, 882, 1191, 1319, 1311, 925, 1494, 1477, 1093, 1383, 1398, 1443, 1504, 1433, 1198, 1503, 1418, 1449, 1495, 1348, 1519, 1225, 1389, 1314, 1492, 1541, 1331, 1308, 1313, 1419, 1412, 1210, 1387, 1463]\n",
      "campaign--[0, 1, 2, 3, 4, 5, 6, 7, 8, 9, 10, 11, 12, 18, 17, 22, 13, 21, 24, 15, 16, 14, 19, 41, 36, 34, 39, 27, 25, 26, 31, 20, 23, 28, 30, 29, 38, 35, 37, 32, 33, 40]\n",
      "pdays--[26, 6, 4, 3, 5, 1, 0, 10, 7, 8, 9, 11, 2, 12, 13, 14, 15, 16, 21, 17, 18, 22, 23, 24, 19, 25, 20]\n",
      "previous--[0, 1, 2, 3, 4, 5, 6, 7]\n",
      "poutcome--[1, 0, 2]\n",
      "emp.var.rate--[8, 9, 7, 6, 3, 2, 0, 1, 4, 5]\n",
      "cons.price.idx--[18, 23, 17, 13, 15, 11, 6, 7, 10, 8, 9, 3, 0, 1, 2, 4, 5, 12, 14, 16, 20, 22, 19, 21, 24, 25]\n",
      "cons.conf.idx--[16, 8, 6, 17, 10, 7, 5, 1, 3, 4, 9, 20, 22, 24, 25, 23, 21, 18, 19, 12, 13, 11, 14, 15, 2, 0]\n",
      "euribor3m--[287, 286, 285, 289, 290, 288, 291, 292, 293, 311, 305, 303, 302, 304, 306, 299, 298, 300, 310, 307, 301, 312, 313, 309, 308, 315, 314, 297, 296, 295, 294, 284, 283, 282, 281, 280, 279, 278, 277, 276, 275, 274, 273, 272, 271, 270, 269, 268, 267, 266, 265, 264, 263, 262, 261, 260, 259, 258, 257, 256, 255, 254, 253, 252, 251, 250, 249, 248, 247, 246, 245, 244, 243, 242, 241, 240, 239, 238, 237, 236, 235, 234, 233, 232, 231, 230, 229, 228, 227, 226, 225, 224, 223, 221, 222, 220, 219, 218, 217, 216, 215, 214, 213, 212, 211, 210, 209, 207, 204, 198, 197, 200, 203, 206, 202, 201, 205, 208, 199, 196, 195, 194, 193, 192, 191, 190, 189, 186, 182, 172, 169, 166, 164, 159, 156, 151, 149, 148, 147, 146, 145, 144, 141, 139, 127, 126, 124, 122, 118, 116, 115, 114, 113, 112, 111, 109, 107, 105, 104, 102, 100, 99, 98, 96, 95, 93, 90, 88, 87, 86, 85, 84, 83, 81, 80, 78, 73, 70, 68, 66, 74, 76, 77, 75, 71, 67, 69, 65, 64, 63, 60, 61, 58, 56, 54, 52, 51, 48, 47, 46, 50, 53, 49, 44, 42, 41, 40, 38, 39, 34, 18, 17, 16, 15, 14, 13, 12, 11, 9, 8, 5, 3, 1, 2, 0, 4, 6, 7, 10, 19, 20, 21, 22, 23, 24, 25, 26, 27, 28, 29, 30, 31, 32, 33, 35, 36, 37, 43, 45, 55, 57, 59, 62, 72, 79, 82, 89, 91, 92, 94, 97, 101, 103, 106, 108, 110, 117, 119, 128, 131, 134, 137, 138, 140, 142, 143, 136, 135, 133, 132, 130, 129, 125, 123, 121, 120, 150, 152, 153, 154, 155, 157, 158, 160, 161, 162, 163, 165, 167, 168, 170, 175, 177, 181, 183, 185, 188, 187, 184, 180, 179, 178, 176, 173, 174, 171]\n",
      "nr.employed--[8, 10, 9, 7, 6, 5, 3, 4, 2, 1, 0]\n",
      "y--[0, 1]\n"
     ]
    }
   ],
   "source": [
    "for c in df.columns:\n",
    "        print('missing values in - ' + str(c) + '  ' + str(df[c].isnull()))\n",
    "for x in df.columns:\n",
    "    values=[]\n",
    "    for i in df[x].unique():\n",
    "        values.append(i)\n",
    "    print(str(x) + '--' + str(values))"
   ]
  },
  {
   "cell_type": "code",
   "execution_count": 707,
   "metadata": {},
   "outputs": [
    {
     "name": "stdout",
     "output_type": "stream",
     "text": [
      "age--[39, 40, 20, 23, 28, 42, 24, 7, 8, 12, 18, 37, 29, 33, 22, 13, 38, 32, 17, 35, 41, 15, 21, 27, 25, 43, 36, 30, 34, 31, 16, 14, 26, 19, 11, 10, 9, 5, 6, 3, 4, 44, 2, 1, 53, 49, 59, 50, 56, 71, 76, 60, 51, 58, 46, 63, 45, 48, 55, 65, 47, 54, 52, 61, 68, 62, 66, 64, 57, 0, 70, 73, 69, 77, 75, 67, 74, 72]\n",
      "job--[3, 7, 0, 1, 9, 5, 4, 10, 6, 11, 2, 8]\n",
      "marital--[1, 2, 0, 3]\n",
      "education--[0, 3, 1, 2, 5, 7, 6, 4]\n",
      "default--[0, 1, 2]\n",
      "housing--[0, 2, 1]\n",
      "loan--[0, 2, 1]\n",
      "contact--[1, 0]\n",
      "month--[6, 4, 3, 1, 8, 7, 2, 5, 0, 9]\n",
      "day_of_week--[1, 3, 4, 2, 0]\n",
      "duration--[261, 149, 226, 151, 307, 198, 139, 217, 380, 50, 55, 222, 137, 293, 146, 174, 312, 440, 353, 195, 38, 262, 342, 181, 172, 99, 93, 233, 255, 362, 348, 386, 73, 230, 208, 336, 365, 1425, 577, 366, 314, 160, 212, 188, 22, 616, 178, 355, 225, 266, 253, 179, 269, 135, 161, 787, 145, 449, 812, 164, 357, 232, 91, 273, 158, 177, 200, 176, 211, 214, 1395, 349, 337, 272, 193, 165, 1034, 20, 246, 529, 192, 1344, 180, 48, 213, 545, 583, 221, 426, 287, 197, 257, 229, 400, 190, 21, 300, 123, 325, 514, 848, 194, 286, 247, 518, 364, 98, 439, 79, 175, 61, 78, 102, 579, 143, 677, 267, 345, 185, 207, 69, 100, 125, 461, 240, 70, 136, 528, 541, 338, 163, 87, 301, 46, 52, 204, 155, 71, 243, 186, 559, 1491, 85, 506, 114, 842, 427, 292, 128, 107, 303, 81, 270, 228, 673, 250, 130, 252, 138, 412, 19, 717, 313, 289, 683, 1067, 167, 356, 277, 218, 67, 291, 248, 256, 477, 611, 471, 381, 251, 408, 322, 216, 210, 288, 168, 132, 64, 209, 410, 580, 127, 189, 238, 124, 18, 730, 40, 142, 389, 702, 117, 370, 119, 361, 350, 150, 332, 58, 89, 152, 110, 463, 958, 10, 118, 92, 75, 932, 56, 5, 206, 446, 742, 120, 122, 215, 205, 83, 106, 108, 358, 453, 173, 241, 224, 148, 199, 196, 111, 231, 316, 669, 425, 121, 88, 402, 144, 220, 254, 503, 680, 421, 113, 347, 404, 396, 379, 306, 77, 54, 344, 202, 278, 184, 235, 290, 133, 318, 437, 501, 1172, 1022, 769, 442, 455, 424, 43, 154, 393, 203, 140, 326, 483, 259, 227, 576, 90, 505, 245, 623, 496, 276, 744, 271, 141, 264, 309, 1416, 101, 354, 451, 159, 170, 112, 53, 134, 678, 182, 162, 27, 699, 1428, 310, 47, 30, 472, 116, 448, 169, 157, 49, 374, 531, 153, 80, 568, 915, 82, 166, 369, 371, 263, 41, 13, 26, 792, 242, 268, 375, 383, 1246, 502, 260, 105, 524, 352, 695, 76, 535, 390, 315, 36, 1469, 219, 147, 407, 65, 284, 285, 258, 635, 802, 57, 304, 392, 201, 329, 328, 191, 532, 416, 37, 530, 29, 311, 507, 333, 739, 339, 308, 467, 378, 1403, 346, 60, 716, 234, 296, 283, 109, 95, 31, 593, 631, 32, 1373, 800, 239, 42, 305, 343, 126, 249, 59, 51, 275, 479, 96, 720, 395, 629, 131, 298, 97, 104, 851, 294, 74, 988, 464, 732, 359, 274, 1371, 615, 327, 236, 492, 1123, 295, 591, 786, 388, 25, 401, 435, 423, 799, 45, 68, 444, 223, 566, 376, 511, 865, 1399, 279, 129, 432, 516, 617, 171, 614, 485, 406, 650, 590, 72, 474, 1090, 910, 1053, 688, 103, 607, 331, 398, 803, 481, 418, 24, 441, 1002, 550, 764, 1230, 1394, 62, 517, 299, 244, 548, 66, 980, 1430, 84, 489, 864, 281, 941, 319, 35, 17, 280, 156, 813, 94, 183, 604, 86, 11, 405, 462, 39, 187, 323, 521, 1104, 12, 1105, 33, 784, 665, 475, 63, 712, 1000, 237, 500, 789, 513, 468, 756, 14, 491, 44, 985, 1148, 807, 534, 28, 302, 1497, 767, 627, 403, 626, 23, 543, 1154, 422, 15, 335, 952, 459, 4, 981, 672, 8, 330, 399, 297, 885, 341, 515, 1162, 466, 826, 598, 584, 846, 659, 772, 926, 710, 498, 705, 480, 1518, 1117, 384, 825, 490, 115, 646, 653, 377, 544, 324, 391, 654, 1076, 557, 1431, 622, 1487, 1045, 282, 409, 1435, 551, 663, 1070, 1340, 750, 488, 460, 877, 317, 834, 1377, 836, 997, 592, 757, 523, 363, 1131, 486, 539, 820, 788, 832, 1099, 1360, 493, 457, 889, 1073, 1224, 470, 793, 413, 574, 596, 320, 484, 456, 334, 504, 905, 723, 1279, 520, 382, 1302, 428, 360, 1536, 995, 618, 351, 1508, 373, 340, 1145, 609, 806, 766, 1008, 768, 473, 996, 844, 852, 452, 913, 443, 431, 565, 753, 708, 265, 434, 805, 3, 420, 367, 394, 411, 34, 850, 1043, 647, 771, 1082, 1095, 942, 816, 1437, 1024, 735, 438, 939, 387, 476, 606, 824, 1264, 686, 1110, 1260, 857, 546, 429, 868, 833, 829, 749, 1020, 973, 924, 762, 746, 1036, 668, 726, 634, 554, 436, 900, 594, 636, 738, 482, 567, 582, 1103, 837, 1321, 855, 747, 1006, 415, 552, 644, 558, 1077, 1064, 1028, 397, 599, 1217, 1143, 651, 734, 417, 587, 917, 1208, 719, 597, 525, 815, 909, 465, 969, 561, 1190, 589, 960, 1139, 1196, 619, 1042, 419, 1462, 760, 1222, 770, 487, 697, 430, 809, 7, 849, 854, 874, 890, 512, 601, 843, 676, 656, 1213, 1128, 731, 754, 679, 1195, 892, 703, 433, 1274, 895, 718, 1140, 16, 1524, 698, 1113, 509, 1120, 1315, 827, 588, 522, 1166, 1129, 1015, 469, 385, 1209, 1055, 1098, 881, 940, 798, 610, 1174, 1014, 643, 571, 445, 1415, 963, 1185, 1530, 1176, 1468, 1270, 775, 600, 447, 1447, 774, 1256, 1337, 547, 1300, 1037, 625, 994, 657, 1054, 1333, 6, 916, 777, 1307, 725, 801, 935, 692, 903, 508, 783, 603, 871, 641, 954, 628, 494, 759, 819, 648, 947, 578, 795, 542, 828, 1252, 748, 563, 450, 897, 856, 660, 1429, 572, 573, 811, 888, 681, 1141, 1432, 859, 575, 983, 671, 713, 920, 700, 526, 621, 1282, 1149, 736, 785, 1063, 533, 921, 691, 536, 556, 998, 923, 773, 891, 478, 553, 1329, 569, 372, 368, 1050, 1188, 1026, 581, 970, 745, 630, 862, 1199, 642, 729, 893, 519, 321, 796, 724, 741, 414, 454, 894, 763, 633, 560, 951, 674, 740, 776, 537, 755, 751, 1401, 709, 570, 0, 949, 1531, 1035, 662, 1146, 860, 1352, 1180, 821, 497, 1158, 675, 694, 664, 863, 1439, 667, 1233, 585, 620, 1168, 733, 791, 1178, 933, 929, 878, 1018, 689, 1039, 637, 685, 1409, 752, 1160, 898, 814, 858, 1097, 645, 1509, 711, 555, 866, 652, 682, 853, 1227, 867, 1086, 1362, 1200, 613, 1182, 1483, 722, 510, 1539, 944, 1065, 527, 1059, 658, 562, 758, 962, 612, 1266, 927, 1396, 605, 1150, 959, 938, 1017, 495, 1517, 1219, 1290, 1370, 1271, 1206, 1126, 638, 1336, 1214, 1506, 624, 869, 908, 1133, 701, 761, 1044, 999, 690, 1074, 586, 979, 817, 1010, 883, 1004, 936, 1062, 1232, 1101, 1485, 861, 1390, 964, 1033, 1241, 639, 1523, 1075, 1228, 1346, 1243, 540, 1046, 1087, 899, 937, 782, 948, 1122, 458, 706, 1170, 946, 838, 902, 649, 781, 884, 1488, 989, 870, 1226, 602, 640, 1414, 1207, 1261, 1309, 822, 1202, 1247, 1078, 1013, 1211, 721, 1526, 880, 714, 982, 1459, 1278, 1521, 975, 1179, 835, 1372, 1354, 1378, 632, 707, 1215, 1499, 704, 1167, 1057, 1051, 1072, 810, 1258, 919, 1317, 1489, 1121, 1009, 549, 1005, 9, 1522, 1393, 1423, 1413, 1351, 1320, 818, 693, 804, 1083, 984, 670, 655, 790, 1532, 780, 1041, 1484, 953, 987, 538, 1326, 1229, 1092, 1285, 887, 1171, 930, 830, 564, 1038, 1445, 1019, 831, 1436, 1052, 1277, 687, 1500, 986, 727, 1106, 1124, 728, 1257, 1007, 1242, 1330, 1324, 1011, 1056, 1091, 978, 879, 1275, 1490, 1361, 839, 1312, 1540, 794, 684, 904, 1245, 961, 966, 1480, 1304, 666, 1142, 595, 1071, 1155, 1421, 1254, 1310, 1137, 1115, 1426, 1061, 1047, 778, 808, 1411, 977, 1194, 779, 1322, 1127, 1318, 715, 1451, 1134, 872, 1325, 1273, 1349, 1231, 1001, 1400, 1335, 1135, 1305, 1259, 1152, 1427, 901, 974, 1364, 1112, 907, 1288, 1298, 911, 1323, 1094, 1031, 847, 1466, 1276, 1119, 906, 896, 1283, 1380, 1456, 1186, 1235, 1021, 1367, 661, 608, 1177, 1201, 1240, 1132, 1029, 1192, 1408, 1153, 1136, 873, 1476, 1267, 1446, 1263, 1079, 1496, 1109, 1253, 1248, 1287, 1175, 1444, 1332, 1358, 912, 1464, 823, 1460, 1455, 1405, 1359, 1472, 743, 1486, 1023, 1294, 943, 1295, 1147, 1085, 499, 1066, 1391, 1520, 797, 1161, 1049, 1125, 1068, 1181, 1525, 918, 1441, 845, 1355, 972, 1255, 1268, 1193, 1169, 991, 1286, 1505, 1384, 1212, 1347, 1338, 1341, 1457, 1537, 875, 1471, 1251, 990, 765, 1060, 914, 1088, 1365, 1236, 967, 1156, 1118, 696, 1081, 1410, 1440, 1350, 1458, 965, 737, 1030, 1184, 1535, 1159, 1397, 1465, 1111, 1291, 1388, 1244, 1205, 1442, 971, 1343, 1542, 1366, 1376, 1102, 1108, 1218, 1265, 1452, 1293, 957, 1299, 1189, 1498, 1025, 1114, 1420, 1513, 1533, 1515, 1534, 1203, 1543, 1250, 1407, 1080, 956, 1482, 1107, 1461, 2, 1328, 1448, 968, 1385, 922, 993, 1048, 1381, 1237, 1363, 1223, 1422, 1345, 1272, 1327, 992, 1165, 1453, 1032, 1216, 928, 1357, 1138, 1027, 886, 1144, 1130, 1514, 1404, 1516, 1187, 1157, 1353, 976, 1392, 1386, 1058, 1334, 1529, 1374, 1527, 1512, 1284, 1510, 1, 1501, 1163, 1424, 1402, 1297, 1183, 1151, 1342, 1292, 1238, 1316, 1084, 840, 1417, 945, 1528, 1493, 1502, 1173, 1100, 1382, 1003, 1454, 1269, 1281, 1220, 1475, 1296, 841, 1204, 1089, 950, 1069, 1116, 1356, 1280, 1474, 1164, 1306, 876, 1221, 1473, 1016, 1369, 931, 1197, 1303, 1375, 1470, 1434, 1096, 1368, 1478, 934, 1479, 1249, 1481, 1450, 1234, 1012, 1438, 1379, 955, 1239, 1301, 1262, 1511, 1467, 1538, 1339, 1040, 1507, 1289, 1406, 882, 1191, 1319, 1311, 925, 1494, 1477, 1093, 1383, 1398, 1443, 1504, 1433, 1198, 1503, 1418, 1449, 1495, 1348, 1519, 1225, 1389, 1314, 1492, 1541, 1331, 1308, 1313, 1419, 1412, 1210, 1387, 1463]\n",
      "campaign--[0, 1, 2, 3, 4, 5, 6, 7, 8, 9, 10, 11, 12, 18, 17, 22, 13, 21, 24, 15, 16, 14, 19, 41, 36, 34, 39, 27, 25, 26, 31, 20, 23, 28, 30, 29, 38, 35, 37, 32, 33, 40]\n",
      "pdays--[26, 6, 4, 3, 5, 1, 0, 10, 7, 8, 9, 11, 2, 12, 13, 14, 15, 16, 21, 17, 18, 22, 23, 24, 19, 25, 20]\n",
      "previous--[0, 1, 2, 3, 4, 5, 6, 7]\n",
      "poutcome--[1, 0, 2]\n",
      "emp.var.rate--[8, 9, 7, 6, 3, 2, 0, 1, 4, 5]\n",
      "cons.price.idx--[18, 23, 17, 13, 15, 11, 6, 7, 10, 8, 9, 3, 0, 1, 2, 4, 5, 12, 14, 16, 20, 22, 19, 21, 24, 25]\n",
      "cons.conf.idx--[16, 8, 6, 17, 10, 7, 5, 1, 3, 4, 9, 20, 22, 24, 25, 23, 21, 18, 19, 12, 13, 11, 14, 15, 2, 0]\n",
      "euribor3m--[287, 286, 285, 289, 290, 288, 291, 292, 293, 311, 305, 303, 302, 304, 306, 299, 298, 300, 310, 307, 301, 312, 313, 309, 308, 315, 314, 297, 296, 295, 294, 284, 283, 282, 281, 280, 279, 278, 277, 276, 275, 274, 273, 272, 271, 270, 269, 268, 267, 266, 265, 264, 263, 262, 261, 260, 259, 258, 257, 256, 255, 254, 253, 252, 251, 250, 249, 248, 247, 246, 245, 244, 243, 242, 241, 240, 239, 238, 237, 236, 235, 234, 233, 232, 231, 230, 229, 228, 227, 226, 225, 224, 223, 221, 222, 220, 219, 218, 217, 216, 215, 214, 213, 212, 211, 210, 209, 207, 204, 198, 197, 200, 203, 206, 202, 201, 205, 208, 199, 196, 195, 194, 193, 192, 191, 190, 189, 186, 182, 172, 169, 166, 164, 159, 156, 151, 149, 148, 147, 146, 145, 144, 141, 139, 127, 126, 124, 122, 118, 116, 115, 114, 113, 112, 111, 109, 107, 105, 104, 102, 100, 99, 98, 96, 95, 93, 90, 88, 87, 86, 85, 84, 83, 81, 80, 78, 73, 70, 68, 66, 74, 76, 77, 75, 71, 67, 69, 65, 64, 63, 60, 61, 58, 56, 54, 52, 51, 48, 47, 46, 50, 53, 49, 44, 42, 41, 40, 38, 39, 34, 18, 17, 16, 15, 14, 13, 12, 11, 9, 8, 5, 3, 1, 2, 0, 4, 6, 7, 10, 19, 20, 21, 22, 23, 24, 25, 26, 27, 28, 29, 30, 31, 32, 33, 35, 36, 37, 43, 45, 55, 57, 59, 62, 72, 79, 82, 89, 91, 92, 94, 97, 101, 103, 106, 108, 110, 117, 119, 128, 131, 134, 137, 138, 140, 142, 143, 136, 135, 133, 132, 130, 129, 125, 123, 121, 120, 150, 152, 153, 154, 155, 157, 158, 160, 161, 162, 163, 165, 167, 168, 170, 175, 177, 181, 183, 185, 188, 187, 184, 180, 179, 178, 176, 173, 174, 171]\n",
      "nr.employed--[8, 10, 9, 7, 6, 5, 3, 4, 2, 1, 0]\n",
      "y--[0, 1]\n"
     ]
    }
   ],
   "source": [
    "dfCopy1 = df\n",
    "\n",
    "for x in dCopy1.columns:\n",
    "    dCopy1[x] = dCopy1[x].astype('category')\n",
    "    dCopy1[x] = dCopy1[x].cat.codes\n",
    "\n",
    "for x in dfCopy1.columns:\n",
    "    values=[]\n",
    "    for i in dfCopy1[x].unique():\n",
    "        values.append(i)\n",
    "    print(str(x) + '--' + str(values))"
   ]
  },
  {
   "cell_type": "code",
   "execution_count": 708,
   "metadata": {},
   "outputs": [],
   "source": [
    "X1=dCopy1.drop('y',axis=1)\n",
    "y1=dCopy1['y']"
   ]
  },
  {
   "cell_type": "code",
   "execution_count": 709,
   "metadata": {},
   "outputs": [
    {
     "data": {
      "image/png": "[encoded data removed]",
      "text/plain": [
       "<Figure size 432x288 with 1 Axes>"
      ]
     },
     "metadata": {
      "needs_background": "light"
     },
     "output_type": "display_data"
    }
   ],
   "source": [
    "bar_plot(y1)"
   ]
  },
  {
   "cell_type": "code",
   "execution_count": 710,
   "metadata": {},
   "outputs": [],
   "source": [
    "X1_t,X1_test,y1_t,y1_test=train_test_split(X1,y1,random_state=42,test_size=0.3)"
   ]
  },
  {
   "cell_type": "code",
   "execution_count": 711,
   "metadata": {},
   "outputs": [
    {
     "name": "stdout",
     "output_type": "stream",
     "text": [
      "Training target statistics: Counter({0: 25580, 1: 3251})\n",
      "Testing target statistics: Counter({0: 10968, 1: 1389})\n"
     ]
    }
   ],
   "source": [
    "print_target_stats(y1_t,y1_test)"
   ]
  },
  {
   "cell_type": "code",
   "execution_count": 712,
   "metadata": {},
   "outputs": [],
   "source": [
    "sampler1 = SMOTE(k_neighbors=5)\n",
    "X1_sampled, y1_sampled = sampler1.fit_resample(X1_t, y1_t)"
   ]
  },
  {
   "cell_type": "code",
   "execution_count": 713,
   "metadata": {},
   "outputs": [
    {
     "name": "stdout",
     "output_type": "stream",
     "text": [
      "Training target statistics: Counter({0: 25580, 1: 25580})\n",
      "Testing target statistics: Counter({0: 10968, 1: 1389})\n"
     ]
    }
   ],
   "source": [
    "print_target_stats(y_sampled,y_test)"
   ]
  },
  {
   "cell_type": "code",
   "execution_count": 714,
   "metadata": {},
   "outputs": [
    {
     "name": "stdout",
     "output_type": "stream",
     "text": [
      "Training target statistics: Counter({0: 25580, 1: 25580})\n",
      "Testing target statistics: Counter({0: 10968, 1: 1389})\n"
     ]
    }
   ],
   "source": [
    "print_target_stats(y1_sampled,y1_test)"
   ]
  },
  {
   "cell_type": "code",
   "execution_count": 715,
   "metadata": {},
   "outputs": [
    {
     "data": {
      "image/png": "[encoded data removed]",
      "text/plain": [
       "<Figure size 432x288 with 1 Axes>"
      ]
     },
     "metadata": {
      "needs_background": "light"
     },
     "output_type": "display_data"
    }
   ],
   "source": [
    "bar_plot(y1_sampled)"
   ]
  },
  {
   "cell_type": "code",
   "execution_count": 817,
   "metadata": {},
   "outputs": [],
   "source": [
    "def lr_params(X_train):\n",
    "    max_iter=[100]\n",
    "    C = np.logspace(-4, 4, 50)\n",
    "    penalty = ['l1', 'l2']\n",
    "    lr_params = {'max_iter':max_iter,\n",
    "                      'C':C,\n",
    "                      'penalty':penalty}\n",
    "    return lr_params"
   ]
  },
  {
   "cell_type": "code",
   "execution_count": 818,
   "metadata": {},
   "outputs": [],
   "source": [
    "def knn_params(X_train):\n",
    "    k_range = [5]\n",
    "    knn_params = dict(n_neighbors=k_range)\n",
    "    return knn_params"
   ]
  },
  {
   "cell_type": "code",
   "execution_count": 819,
   "metadata": {},
   "outputs": [],
   "source": [
    "def dc_params(X_train):\n",
    "    dc_params = {'criterion':['gini','entropy'],'max_depth':[4,10,50,100]}\n",
    "    return dc_params"
   ]
  },
  {
   "cell_type": "code",
   "execution_count": 820,
   "metadata": {},
   "outputs": [],
   "source": [
    "def svc_params(X_train):\n",
    "    svc_params = {\n",
    "                'kernel': ['linear', 'poly', 'rbf', 'sigmoid'],\n",
    "                'C': [0.1, 1],\n",
    "                'max_iter': [10],\n",
    "                'class_weight': [None, 'balanced']}\n",
    "    return svc_params"
   ]
  },
  {
   "cell_type": "code",
   "execution_count": 821,
   "metadata": {},
   "outputs": [
    {
     "name": "stdout",
     "output_type": "stream",
     "text": [
      "<class 'pandas.core.frame.DataFrame'>\n",
      "RangeIndex: 0 entries\n",
      "Data columns (total 6 columns):\n",
      " #   Column          Non-Null Count  Dtype \n",
      "---  ------          --------------  ----- \n",
      " 0   Model           0 non-null      object\n",
      " 1   Train_Time      0 non-null      object\n",
      " 2   Test_Time       0 non-null      object\n",
      " 3   Train_Accuracy  0 non-null      object\n",
      " 4   Test_Accuracy   0 non-null      object\n",
      " 5   Best_Params     0 non-null      object\n",
      "dtypes: object(6)\n",
      "memory usage: 124.0+ bytes\n",
      "None\n"
     ]
    }
   ],
   "source": [
    "dfCompareOptimize= pd.DataFrame({'Model': [], \n",
    "             'Train_Time': [],\n",
    "             'Test_Time': [],\n",
    "             'Train_Accuracy': [],\n",
    "             'Test_Accuracy':[],\n",
    "             'Best_Params':[]})\n",
    "dfCompareOptimize=dfCompareOptimize.astype(str)\n",
    "print(dfCompareOptimize.info())"
   ]
  },
  {
   "cell_type": "code",
   "execution_count": 822,
   "metadata": {},
   "outputs": [],
   "source": [
    "def pi_grid_optimize(name,model,X_train,y_train,X_test,y_test,param,title='Confusion Matrix',cmap=plt.cm.Blues):\n",
    "    \n",
    "    sfs(model,X_train,y_train)\n",
    "    \n",
    "    train_start=time.time()\n",
    "    reg_model=model.fit(X_train,y_train)\n",
    "    train_end=time.time()\n",
    "    \n",
    "    r = permutation_importance(reg_model,X_train,y_train,n_repeats=9,random_state=42)\n",
    "    r.importances_mean\n",
    "    pi = pd.DataFrame({\"Features\":X_train.columns,\"importance\":r.importances_mean}).sort_values(by=\"importance\",ascending=False)\n",
    "    print_line_separator()\n",
    "    print(pi)\n",
    "    train_score = model.score(X_test,y_test)\n",
    "    \n",
    "    grid = GridSearchCV(estimator=model, param_grid=param)\n",
    "    test_start=time.time()\n",
    "    grid.fit(X_train,y_train)\n",
    "    test_end=time.time()\n",
    "    grid_pred=grid.predict(X_test)\n",
    "    test_score=grid.score(X_test,y_test)\n",
    "    best_params=grid.best_params_\n",
    "    print_line_separator()\n",
    "    conf = metrics.ConfusionMatrixDisplay.from_predictions(y_test, grid_pred)\n",
    "    plt.title(title)\n",
    "    plt.ylabel('True label')\n",
    "    plt.xlabel('Predicated label')\n",
    "    \n",
    "    dfCompareOptimize.loc[len(dfCompareOptimize.index)] = [name,train_end-train_start,test_end-test_start,train_score,test_score,best_params]\n",
    "    print(dfCompareOptimize)\n",
    "    print_line_separator()"
   ]
  },
  {
   "cell_type": "code",
   "execution_count": 823,
   "metadata": {},
   "outputs": [],
   "source": [
    "def reg_grid_optimize_model(name,X_train,y_train,X_test,y_test):\n",
    "    reg=''\n",
    "    grid_param=''\n",
    "    if(name=='LR'):\n",
    "        reg = LogisticRegression()\n",
    "        grid_param=lr_params(X_train)\n",
    "    if(name=='KNN'):\n",
    "        reg = KNeighborsClassifier()\n",
    "        grid_param=knn_params(X_train)\n",
    "    if(name=='DC'):\n",
    "        reg = DecisionTreeClassifier()\n",
    "        grid_param=dc_params(X_train)\n",
    "    if(name=='SVC'):\n",
    "        reg = SVC()\n",
    "        grid_param=svc_params(X_train)\n",
    "    pi_grid_optimize(name,reg,X_train,y_train,X1_test,y1_test,grid_param)\n",
    "#np.seterr('raise')"
   ]
  },
  {
   "cell_type": "code",
   "execution_count": null,
   "metadata": {},
   "outputs": [],
   "source": [
    "reg_grid_optimize_model('LR',X1_sampled,y1_sampled,X1_test,y1_test)"
   ]
  },
  {
   "cell_type": "code",
   "execution_count": null,
   "metadata": {},
   "outputs": [],
   "source": [
    "reg_grid_optimize_model('KNN',X1_sampled,y1_sampled,X1_test,y1_test)"
   ]
  },
  {
   "cell_type": "code",
   "execution_count": null,
   "metadata": {},
   "outputs": [],
   "source": [
    "reg_grid_optimize_model('DC',X1_sampled,y1_sampled,X1_test,y1_test)"
   ]
  },
  {
   "cell_type": "code",
   "execution_count": null,
   "metadata": {},
   "outputs": [],
   "source": [
    "reg_grid_optimize_model('SVC',X1_sampled,y1_sampled,X1_test,y1_test)"
   ]
  },
  {
   "cell_type": "markdown",
   "metadata": {},
   "source": [
    "## <span style=\"color:blue\">Conclusions from Model Improvement Attempts</span>\n",
    "### <span style=\"color:green\">Adding additional features has improved the model performance though has impacted the fit time of the model</span>\n",
    "### <span style=\"color:green\">Hyper parameter tuning has improved the model performance though has impacted the fit time of the model</span>\n",
    "### <span style=\"color:green\">Model improvement has shown significant improvement in the model performance</span>"
   ]
  },
  {
   "cell_type": "code",
   "execution_count": null,
   "metadata": {},
   "outputs": [],
   "source": [
    "basic_scores=comparison['best_score']\n",
    "cv_train_scores=dfCompare['Test_Accuracy']\n",
    "cv_test_scores=dfCompareOptimize['Test_Accuracy']\n",
    "fig = plt.figure()\n",
    "X_axis = np.arange(len(comparison['model']))\n",
    "ax = fig.add_axes([0,0,1,1])\n",
    "plt.bar(X_axis,basic_scores,0.2,color='green',label='Basic Train Scores')\n",
    "plt.bar(X_axis - 0.2,cv_train_scores,0.2,color='grey',label='CV Train Scores')\n",
    "plt.bar(X_axis + 0.2,cv_test_scores,0.2,color='yellow',label='CV Test Scores')\n",
    "plt.xticks(rotation = 45)\n",
    "plt.xticks(X_axis, comparison['model'])\n",
    "plt.legend()\n",
    "plt.rcParams['figure.figsize']=(15,8)\n",
    "plt.show()"
   ]
  },
  {
   "cell_type": "code",
   "execution_count": null,
   "metadata": {},
   "outputs": [],
   "source": [
    "basic_scores=comparison['best_time']\n",
    "cv_train_scores=dfCompare['Train_Time']\n",
    "cv_test_scores=dfCompareOptimize['Train_Time']\n",
    "fig = plt.figure()\n",
    "X_axis = np.arange(len(comparison['model']))\n",
    "ax = fig.add_axes([0,0,1,1])\n",
    "plt.bar(X_axis,basic_scores,0.2,color='green',label='Basic Train Scores')\n",
    "plt.bar(X_axis - 0.2,cv_train_scores,0.2,color='grey',label='CV Train Scores')\n",
    "plt.bar(X_axis + 0.2,cv_test_scores,0.2,color='yellow',label='CV Test Scores')\n",
    "plt.xticks(rotation = 45)\n",
    "plt.xticks(X_axis, comparison['model'])\n",
    "plt.legend()\n",
    "plt.rcParams['figure.figsize']=(15,8)\n",
    "plt.show()"
   ]
  },
  {
   "cell_type": "markdown",
   "metadata": {},
   "source": [
    "##### Questions"
   ]
  },
  {
   "cell_type": "code",
   "execution_count": null,
   "metadata": {},
   "outputs": [],
   "source": []
  }
 ],
 "metadata": {
  "kernelspec": {
   "display_name": "Python 3 (ipykernel)",
   "language": "python",
   "name": "python3"
  },
  "language_info": {
   "codemirror_mode": {
    "name": "ipython",
    "version": 3
   },
   "file_extension": ".py",
   "mimetype": "text/x-python",
   "name": "python",
   "nbconvert_exporter": "python",
   "pygments_lexer": "ipython3",
   "version": "3.9.7"
  },
  "widgets": {
   "application/vnd.jupyter.widget-state+json": {
    "state": {},
    "version_major": 2,
    "version_minor": 0
   }
  }
 },
 "nbformat": 4,
 "nbformat_minor": 4
}
